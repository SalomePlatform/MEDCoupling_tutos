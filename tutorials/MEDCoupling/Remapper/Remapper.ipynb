{
 "cells": [
  {
   "cell_type": "markdown",
   "id": "mechanical-fifth",
   "metadata": {},
   "source": [
    "# MEDCouplingRemapper : interpolation de champs\n",
    "\n",
    "Nous allons ici effectuer une interpolation entre deux maillages `srcMesh` et **`trgMesh`**. Pour mettre l’accent sur certaines petites subtilités de l’interpolation, nous prenons un cas particulier où **`srcMesh`** est un maillage raffiné de `trgMesh` (avec certaines cellules découpées plus finement)."
   ]
  },
  {
   "cell_type": "markdown",
   "id": "729d5837",
   "metadata": {},
   "source": [
    "\n",
    "Pour commencer l’exercice importer le module `medcoupling` et la classe `MEDCouplingRemapper` du module.\n",
    "\n"
   ]
  },
  {
   "cell_type": "code",
   "execution_count": null,
   "id": "wrong-intensity",
   "metadata": {},
   "outputs": [],
   "source": [
    "import medcoupling as mc\n",
    "from medcoupling import MEDCouplingRemapper"
   ]
  },
  {
   "cell_type": "markdown",
   "id": "labeled-current",
   "metadata": {},
   "source": [
    "## Créer le maillage target\n",
    "\n",
    "Construire le maillage non structuré `trgMesh` issu d’un maillage cartésien 2D 10x10 commençant au point `[0.,0.]` et ayant un pas de 1. selon X et selon Y :"
   ]
  },
  {
   "cell_type": "code",
   "execution_count": null,
   "id": "agricultural-headquarters",
   "metadata": {},
   "outputs": [],
   "source": [
    "arr = mc.DataArrayDouble(11)\n",
    "arr.iota(0)\n",
    "trgMesh = mc.MEDCouplingCMesh()\n",
    "trgMesh.setCoords(arr, arr)\n",
    "trgMesh = trgMesh.buildUnstructured()"
   ]
  },
  {
   "cell_type": "markdown",
   "id": "liable-missouri",
   "metadata": {},
   "source": [
    "## Créer le maillage source\n",
    "\n",
    "Créer un maillage `srcMesh` issu d’un maillage cartésien 2D 20x20 cellules commençant aussi au point `[0.,0.]` et ayant un pas de 0.5 selon X et selon Y :"
   ]
  },
  {
   "cell_type": "code",
   "execution_count": null,
   "id": "compliant-stability",
   "metadata": {},
   "outputs": [],
   "source": [
    "arr = mc.DataArrayDouble(21)\n",
    "arr.iota(0)\n",
    "arr *= 0.5\n",
    "srcMesh = mc.MEDCouplingCMesh()\n",
    "srcMesh.setCoords(arr, arr)\n",
    "srcMesh = srcMesh.buildUnstructured()"
   ]
  },
  {
   "cell_type": "markdown",
   "id": "refined-array",
   "metadata": {},
   "source": [
    "Afin de rendre l’exercise plus intéressant, triangulariser à l’aide de `MEDCouplingUMesh.simplexize()` les 20 premières cellules de **`srcMesh`** (les simplexes 2D sont les triangles). Mettre le résultat dans `srcMesh`."
   ]
  },
  {
   "cell_type": "code",
   "execution_count": null,
   "id": "three-airfare",
   "metadata": {},
   "outputs": [],
   "source": [
    "tmp = srcMesh[:20]  # Extract a sub-part of srcMesh\n",
    "tmp.simplexize(0)\n",
    "srcMesh = mc.MEDCouplingUMesh.MergeUMeshes([tmp, srcMesh[20:]])"
   ]
  },
  {
   "cell_type": "markdown",
   "id": "exempt-institution",
   "metadata": {},
   "source": [
    "Interpoler avec MEDCouplingRemapper\n",
    "\n",
    "Nous rappelons que pour projeter un champ d’un maillage vers un autre, il faut d’abord préparer la matrice d’interpolation qui contient les ratios de projection.\n",
    "\n",
    "Calculer la première partie de la matrice d’interpolation de `srcMesh` (discrétisée aux cellules - P0) vers **`trgMesh`** (discrétisée aux cellules également). Pour ce faire, invoquer **`MEDCouplingRemapper.prepare()`** sur une instance (**`remap`**) de `MEDCouplingRemapper`."
   ]
  },
  {
   "cell_type": "code",
   "execution_count": null,
   "id": "interstate-powell",
   "metadata": {},
   "outputs": [],
   "source": [
    "remap = MEDCouplingRemapper()\n",
    "remap.prepare(srcMesh, trgMesh, \"P0P0\")"
   ]
  },
  {
   "cell_type": "markdown",
   "id": "going-jacket",
   "metadata": {},
   "source": [
    "Vérifier que la matrice calculée par la méthode est correcte dans notre cas trivial. Pour ce faire, récupérer dans `myMatrix` la matrice interne retournée par **`MEDCouplingRemapper.getCrudeMatrix()`**. Celle-ci donne pour chaque cellule de **`trgMesh`** les identifiants de cellules de `srcMesh` avec lesquelles elle s’intersecte, et l’aire d’intersection correspondante.\n",
    "\n",
    "Vérifier notamment que pour chaque cellule de `trgMesh` la somme des aires fait toujours 1."
   ]
  },
  {
   "cell_type": "code",
   "execution_count": null,
   "id": "documented-expansion",
   "metadata": {},
   "outputs": [],
   "source": [
    "myMatrix = remap.getCrudeMatrix()\n",
    "print(myMatrix)\n",
    "sumByRows = mc.DataArrayDouble(len(myMatrix))\n",
    "for i, wIt in enumerate(sumByRows):\n",
    "    su = 0.0\n",
    "    for it in myMatrix[i]:\n",
    "        su += myMatrix[i][it]\n",
    "    wIt[0] = su\n",
    "print(\"Is interpolation well prepared?\", sumByRows.isUniform(1.0, 1e-12))"
   ]
  },
  {
   "cell_type": "markdown",
   "id": "dimensional-belarus",
   "metadata": {},
   "source": [
    "<div class=\"alert alert-block alert-success\">\n",
    "<b>Note:</b> Les triangles dans srcMesh ont été rajoutés pour casser la monotonie de la matrice myMatrix.</div>\n",
    "\n",
    "<div class=\"alert alert-block alert-success\">\n",
    "<b>Note:</b> Comme on le voit, la préparation ne nécessite que les deux maillages, et rien d’autre.</div>\n",
    "\n",
    "Construire un champ aux cellules “srcField” construit à partir de la formule analytique suivante `7-sqrt((x-5.)*(x-5.)+(y-5.)*(y-5.))` :\n"
   ]
  },
  {
   "cell_type": "code",
   "execution_count": null,
   "id": "natural-consistency",
   "metadata": {},
   "outputs": [],
   "source": [
    "srcField = mc.MEDCouplingFieldDouble(mc.ON_CELLS, mc.ONE_TIME)\n",
    "srcField.setMesh(srcMesh)\n",
    "srcField.fillFromAnalytic(1, \"7-sqrt((x-5.)*(x-5.)+(y-5.)*(y-5.))\")\n",
    "srcField.getArray().setInfoOnComponent(0, \"powercell [W]\")"
   ]
  },
  {
   "cell_type": "markdown",
   "id": "knowing-comparative",
   "metadata": {},
   "source": [
    "Voici à quoi ressemble ce champ :\n",
    "\n",
    "<img src=\"Remapper1.png\" style=\"width:500px;\">\n",
    "\n",
    "Appliquer l’interpolation avec `MEDCouplingRemapper.transferField()` :"
   ]
  },
  {
   "cell_type": "code",
   "execution_count": null,
   "id": "finished-theology",
   "metadata": {},
   "outputs": [],
   "source": [
    "# remap.transferField(srcField, 1e300)"
   ]
  },
  {
   "cell_type": "markdown",
   "id": "sophisticated-drain",
   "metadata": {},
   "source": [
    "<div class=\"alert alert-block alert-success\">\n",
    "<b>Note:</b> 1e300 est une valeur par défaut. Cette valeur sera systématiquement assignée à toute cellule de trgField n’interceptant aucune cellule de srcMesh. En général, les utilisateurs mettent une valeur énorme pour repérer ce qui est souvent un bug. Mais d’autres utilisateurs, dans la perspective d’une interpolation parallèle par exemple, mettent 0.</div>\n",
    "\n",
    "<div class=\"alert alert-block alert-success\">\n",
    "<b>Note:</b> Une exception est envoyée car srcField n’a pas de nature définie. Nous allons voir dans la suite l’impact de cet attribut sur le résultat final.</div>\n",
    "\n",
    "Mettre la nature de `srcField` à `IntensiveMaximum`. Cela signifie que le champ doit être interprété commé étant intensif (une température par exemple)."
   ]
  },
  {
   "cell_type": "code",
   "execution_count": null,
   "id": "connected-america",
   "metadata": {},
   "outputs": [],
   "source": [
    "srcField.setNature(mc.IntensiveMaximum)\n",
    "trgFieldCV = remap.transferField(srcField, 1e300)"
   ]
  },
  {
   "cell_type": "markdown",
   "id": "amazing-controversy",
   "metadata": {},
   "source": [
    "Vérifier qu’avec la nature `IntensiveMaximum`, l’intégrale du champ est conservée. Par contre, la somme sur les cellules (accumulation) n’est pas conservée !"
   ]
  },
  {
   "cell_type": "code",
   "execution_count": null,
   "id": "vulnerable-holder",
   "metadata": {},
   "outputs": [],
   "source": [
    "integSource = srcField.integral(True)[0]\n",
    "integTarget = trgFieldCV.integral(True)[0]\n",
    "print(\"IntensiveMaximum -- integrals: %lf == %lf\" % (integSource, integTarget))\n",
    "\n",
    "accSource = srcField.getArray().accumulate()[0]\n",
    "accTarget = trgFieldCV.getArray().accumulate()[0]\n",
    "print(\"IntensiveMaximum -- sums: %lf != %lf\" % (accSource, accTarget))"
   ]
  },
  {
   "cell_type": "markdown",
   "id": "elect-reputation",
   "metadata": {},
   "source": [
    "Maintenant mettre la nature de `srcField` à `ExtensiveConservation`. Le champ doit être interprété commé étant extensif (par exemple une puissance ou un volume)."
   ]
  },
  {
   "cell_type": "code",
   "execution_count": null,
   "id": "limited-librarian",
   "metadata": {},
   "outputs": [],
   "source": [
    "srcField.setNature(mc.ExtensiveConservation)\n",
    "trgFieldI = remap.transferField(srcField, 1e300)"
   ]
  },
  {
   "cell_type": "markdown",
   "id": "literary-tiffany",
   "metadata": {},
   "source": [
    "Vérifier qu’avec la nature `ExtensiveConservation`, l’intégrale du champ n’est pas conservée. Par contre, la somme sur les cellules est conservée."
   ]
  },
  {
   "cell_type": "code",
   "execution_count": null,
   "id": "right-decision",
   "metadata": {},
   "outputs": [],
   "source": [
    "integSource = srcField.integral(True)[0]\n",
    "integTarget = trgFieldI.integral(True)[0]\n",
    "print(\"ExtensiveConservation -- integrals: %lf != %lf\" % (integSource, integTarget))\n",
    "\n",
    "accSource = srcField.getArray().accumulate()[0]\n",
    "accTarget = trgFieldI.getArray().accumulate()[0]\n",
    "print(\"ExtensiveConservation -- sums: %lf == %lf\" % (accSource, accTarget))"
   ]
  },
  {
   "cell_type": "markdown",
   "id": "enclosed-satisfaction",
   "metadata": {},
   "source": [
    "Visualiser les champs avec ParaViS, ou en les écrivant dans un fichier."
   ]
  }
 ],
 "metadata": {
  "kernelspec": {
   "display_name": "Python 3",
   "language": "python",
   "name": "python3"
  },
  "language_info": {
   "codemirror_mode": {
    "name": "ipython",
    "version": 3
   },
   "file_extension": ".py",
   "mimetype": "text/x-python",
   "name": "python",
   "nbconvert_exporter": "python",
   "pygments_lexer": "ipython3",
   "version": "3.10.12"
  }
 },
 "nbformat": 4,
 "nbformat_minor": 5
}
