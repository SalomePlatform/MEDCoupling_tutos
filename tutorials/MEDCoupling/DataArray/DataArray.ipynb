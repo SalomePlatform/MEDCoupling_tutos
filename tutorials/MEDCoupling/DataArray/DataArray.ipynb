{
 "cells": [
  {
   "cell_type": "markdown",
   "id": "drawn-minnesota",
   "metadata": {
    "editable": true,
    "slideshow": {
     "slide_type": ""
    },
    "tags": []
   },
   "source": [
    "# **Manipuler les DataArray**\n",
    "\n",
    "Les DataArrays (**`DataArrayInt`** et **`DataArrayDouble`**) sont utilisés dans MEDCoupling pour stocker des valeurs sous forme de tableaux contigus en mémoire. Les valeurs sont groupées par tuples, et chaque tuple a le même nombre de composantes. Ils sont à la base de beaucoup de traitements réalisés dans MEDCoupling. Il est ainsi important de bien savoir les manipuler.\n",
    "\n",
    "Les **`DataArrayDouble`** sont souvent utilisés pour la manipulation directe des valeurs d’un champ comme on le verra plus tard. Les **`DataArrayInt`** eux sont utilisés pour toutes les fonctionnalités travaillant avec des identifiants de cellules et/ou de points.\n",
    "\n",
    "\n",
    "## **Le but de l’exercice**\n",
    "\n",
    "Le but ici est de créer les coordonnées de 7 hexagones réguliers (tous inscrits dans des cercles de rayon 3m) en dimension 2. La première composante du tableau de coordonnées s’appelera X avec l’unité \"m\" (mètre) et la 2ème composante s’appelera \"Y\" avec la même unité.\n",
    "\n",
    "On pourrait directement calculer les coordonnées de l’ensemble des points requis avec un peu de trigonométrie, mais afin de travailler un peu avec l’API, on fait le choix de construire les 7 hexagones à partir d’un seul hexagone régulier centré en $[3.4; 4.4]$. Autour de cet hexagone régulier central, on crée 6 copies translatées et chaque copie partagera exactement un bord (edge) avec le motif initial. Ensuite on fusionne les noeuds (tuples) communs. Ceci nous permettra de manipuler les indirections et les méthodes d’indexing très usitées dans les maillages non structurés.\n",
    "\n",
    "<img src=\"hexagon.jpg\" style=\"width:500px;\">\n",
    "\n",
    "Les points traités ici :\n",
    "\n",
    ">- Créer une instance de **`DataArrayDouble`**\n",
    ">- Afficher une instance de **`DataArrayDouble`** et invoquer la méthode **`getValue()`** pour la convertir en liste\n",
    ">- Utiliser les notations pratiques ***$da[:,:]$*** ...\n",
    ">- Apprendre la renumérotation (convention \"old-2-new\")\n",
    ">- Invoquer des services tels que **`findCommonTuples()`**\n",
    "\n",
    "## **Début de l’implémentation**\n",
    "\n",
    "Pour commencer l’exercice importer le module Python **medcoupling** et l’aliaser avec **mc** (ca nous évitera des noms trop longs). Importer aussi le module **math**.\n"
   ]
  },
  {
   "cell_type": "code",
   "execution_count": 1,
   "id": "cooperative-breach",
   "metadata": {},
   "outputs": [],
   "source": [
    "import medcoupling as mc\n",
    "import math"
   ]
  },
  {
   "cell_type": "markdown",
   "id": "expanded-treasurer",
   "metadata": {},
   "source": [
    "On rappelle que toutes les méthodes statiques du module commencent par une majuscule. Avec ces imports sont disponibles :\n",
    "\n",
    "> - toutes les classes de MEDCoupling\n",
    "> - tous les énumérations (par exemple, les types de cellules standard: **`mc.ON_CELLS`**, **`mc.ON_NODES`**, **`mc.ONE_TIME`** ...)\n",
    "> - toutes les méthodes statiques\n",
    "\n",
    "## **Créer une instance de DataArrayDouble contenant 6 tuples**\n",
    "\n",
    "Le but ici est de créer un **`DataArrayDouble`** contenant les coordonnées d’un seul hexagone régulier."
   ]
  },
  {
   "cell_type": "code",
   "execution_count": 2,
   "id": "underlying-machinery",
   "metadata": {},
   "outputs": [],
   "source": [
    "d = mc.DataArrayDouble(6, 2)"
   ]
  },
  {
   "cell_type": "markdown",
   "id": "liked-rainbow",
   "metadata": {},
   "source": [
    "Ceci est équivalent à"
   ]
  },
  {
   "cell_type": "code",
   "execution_count": 3,
   "id": "informational-mediterranean",
   "metadata": {},
   "outputs": [],
   "source": [
    "d = mc.DataArrayDouble()\n",
    "d.alloc(6, 2)"
   ]
  },
  {
   "cell_type": "markdown",
   "id": "inclusive-involvement",
   "metadata": {},
   "source": [
    "Ceci est aussi équivalent à"
   ]
  },
  {
   "cell_type": "code",
   "execution_count": 4,
   "id": "smooth-department",
   "metadata": {},
   "outputs": [],
   "source": [
    "d = mc.DataArrayDouble(12)\n",
    "d.rearrange(2)"
   ]
  },
  {
   "cell_type": "markdown",
   "id": "ceramic-grammar",
   "metadata": {},
   "source": [
    "Notons enfin que l’on peut aussi directement construire un **`DataArray`** à partir d’une liste Python. Par défaut le tableau n’a qu’une seule composante."
   ]
  },
  {
   "cell_type": "code",
   "execution_count": 5,
   "id": "preliminary-washington",
   "metadata": {},
   "outputs": [
    {
     "name": "stdout",
     "output_type": "stream",
     "text": [
      "Name of double array : \"\"\n",
      "Number of components : 1\n",
      "Info of these components : \"\"   \n",
      "Number of tuples : 3\n",
      "Internal memory facts : 3/3\n",
      "Data content :\n",
      "Tuple #0 : 0 \n",
      "Tuple #1 : 1 \n",
      "Tuple #2 : 2.5 \n",
      "\n"
     ]
    }
   ],
   "source": [
    "d_example = mc.DataArrayDouble([0.0, 1.0, 2.5])\n",
    "print(d_example)"
   ]
  },
  {
   "cell_type": "markdown",
   "id": "relative-adobe",
   "metadata": {},
   "source": [
    "<div class=\"alert alert-block alert-success\">\n",
    "<b>Note:</b> Le tableau d contient maintenant 12 valeurs groupées en 6 tuples contenant chacun 2 composantes. Les valeurs dans d ne sont pas encore assignées.</div>\n",
    "\n",
    "## **Initialiser une instance de DataArrayDouble**\n",
    "\n",
    "Assigner la valeur 3.0 (le rayon) à la première composante de chacun des tuples. La syntaxe ressemble fortement à celle de NumPy. On peut par exemple assigner d’un coup les tuples 1 à 3 (inclus), sur la première composante avec la valeur 3.0"
   ]
  },
  {
   "cell_type": "code",
   "execution_count": 6,
   "id": "organized-house",
   "metadata": {},
   "outputs": [],
   "source": [
    "d[1:4, 0] = 3.0"
   ]
  },
  {
   "cell_type": "markdown",
   "id": "consistent-contest",
   "metadata": {},
   "source": [
    "ou directement l’intégralité de la première composante"
   ]
  },
  {
   "cell_type": "code",
   "execution_count": 7,
   "id": "agricultural-greenhouse",
   "metadata": {},
   "outputs": [],
   "source": [
    "d[:, 0] = 3.0"
   ]
  },
  {
   "cell_type": "markdown",
   "id": "processed-century",
   "metadata": {},
   "source": [
    "Initialiser la 2ème composante de chaque tuple i avec la valeur i."
   ]
  },
  {
   "cell_type": "code",
   "execution_count": 8,
   "id": "commercial-consumption",
   "metadata": {},
   "outputs": [],
   "source": [
    "d[:, 1] = list(range(6))"
   ]
  },
  {
   "cell_type": "markdown",
   "id": "alive-stress",
   "metadata": {},
   "source": [
    "Multiplier la seconde composante de chacun des tuples par pi/3."
   ]
  },
  {
   "cell_type": "code",
   "execution_count": 9,
   "id": "attempted-elephant",
   "metadata": {},
   "outputs": [],
   "source": [
    "d[:, 1] *= math.pi / 3.0"
   ]
  },
  {
   "cell_type": "markdown",
   "id": "union-james",
   "metadata": {},
   "source": [
    "\n",
    "<div class=\"alert alert-block alert-success\">\n",
    "<b>Note:</b>\n",
    "\"d\" contient désormais les coordonnées polaires des noeuds de notre hexagone régulier centré en 0,0 pour le moment.</div>\n",
    "\n",
    "Convertir d de polaire à cartésien en invoquant la méthode **`fromPolarToCart()`** et re-mettre le résultat dans d."
   ]
  },
  {
   "cell_type": "code",
   "execution_count": 10,
   "id": "varied-rally",
   "metadata": {},
   "outputs": [],
   "source": [
    "d = d.fromPolarToCart()"
   ]
  },
  {
   "cell_type": "markdown",
   "id": "classified-bailey",
   "metadata": {},
   "source": [
    "<div class=\"alert alert-block alert-danger\">\n",
    "<b>Note:</b> fromPolarToCart() génère une nouvelle instance, nous avons donc perdu le d initial.</div>\n",
    "\n",
    "Assigner les informations textuelles correctes sur les 2 composantes de d :"
   ]
  },
  {
   "cell_type": "code",
   "execution_count": 11,
   "id": "chubby-registrar",
   "metadata": {},
   "outputs": [],
   "source": [
    "d.setInfoOnComponents([\"X [m]\", \"Y [m]\"])"
   ]
  },
  {
   "cell_type": "markdown",
   "id": "dried-power",
   "metadata": {},
   "source": [
    "<div class=\"alert alert-block alert-success\">\n",
    "<b>Note:</b>\n",
    "Cela n’est pas indispensable pour cet exercise, mais d’autres fonctions plus avancées nécessitent cette information.</div>"
   ]
  },
  {
   "cell_type": "markdown",
   "id": "defined-completion",
   "metadata": {},
   "source": [
    "Afficher d tel quel."
   ]
  },
  {
   "cell_type": "code",
   "execution_count": 12,
   "id": "lesbian-saskatchewan",
   "metadata": {},
   "outputs": [
    {
     "name": "stdout",
     "output_type": "stream",
     "text": [
      "Name of double array : \"\"\n",
      "Number of components : 2\n",
      "Info of these components : \"X [m]\"   \"Y [m]\"   \n",
      "Number of tuples : 6\n",
      "Internal memory facts : 12/12\n",
      "Data content :\n",
      "Tuple #0 : 3 0 \n",
      "Tuple #1 : 1.5000000000000004 2.598076211353316 \n",
      "Tuple #2 : -1.4999999999999993 2.598076211353316 \n",
      "Tuple #3 : -3 3.6739403974420594e-16 \n",
      "Tuple #4 : -1.5000000000000013 -2.5980762113533151 \n",
      "Tuple #5 : 1.499999999999998 -2.5980762113533169 \n",
      "\n"
     ]
    }
   ],
   "source": [
    "print(d)"
   ]
  },
  {
   "cell_type": "markdown",
   "id": "entire-james",
   "metadata": {},
   "source": [
    "Afficher juste les valeurs sous forme d’une liste python."
   ]
  },
  {
   "cell_type": "code",
   "execution_count": 13,
   "id": "integral-english",
   "metadata": {},
   "outputs": [
    {
     "name": "stdout",
     "output_type": "stream",
     "text": [
      "[3.0, 0.0, 1.5000000000000004, 2.598076211353316, -1.4999999999999993, 2.598076211353316, -3.0, 3.6739403974420594e-16, -1.5000000000000013, -2.598076211353315, 1.499999999999998, -2.598076211353317]\n"
     ]
    }
   ],
   "source": [
    "print(d.getValues())"
   ]
  },
  {
   "cell_type": "markdown",
   "id": "exact-finding",
   "metadata": {},
   "source": [
    "Vérifier que la norme (`magnitude()`) de chaque tuple de `d` est bien égale à `3.0`, avec une tolérance de `1.e-12`, grâce à la méthode `isUniform()`."
   ]
  },
  {
   "cell_type": "code",
   "execution_count": 35,
   "id": "still-source",
   "metadata": {},
   "outputs": [
    {
     "name": "stdout",
     "output_type": "stream",
     "text": [
      "Name of double array : \"\"\n",
      "Number of components : 1\n",
      "Info of these components : \"\"   \n",
      "Number of tuples : 6\n",
      "Internal memory facts : 6/6\n",
      "Data content :\n",
      "Tuple #0 : 3 \n",
      "Tuple #1 : 3.0000000000000004 \n",
      "Tuple #2 : 2.9999999999999996 \n",
      "Tuple #3 : 3 \n",
      "Tuple #4 : 3 \n",
      "Tuple #5 : 3 \n",
      "\n",
      "Uniform array? True\n"
     ]
    }
   ],
   "source": [
    "print(d.magnitude())\n",
    "\n",
    "print(\"Uniform array?\", d.magnitude().isUniform(3.0, 1e-12))"
   ]
  },
  {
   "cell_type": "markdown",
   "id": "computational-behavior",
   "metadata": {},
   "source": [
    "## Duplication et agrégation\n",
    "\n",
    "On construit maintenant la liste **`translationToPerform`**, qui contient une liste de vecteurs chacun de taille 2. Cette liste de taille 7 (7 hexagones) contient la translation à opérer pour produire chacun des hexagones.\n",
    "\n",
    "Faites nous confiance sur la trigonométrie, vous pouvez copier directement les deux lignes suivantes"
   ]
  },
  {
   "cell_type": "code",
   "execution_count": 15,
   "id": "creative-valve",
   "metadata": {},
   "outputs": [],
   "source": [
    "radius = 3.0\n",
    "\n",
    "translationToPerform = [\n",
    "    [0.0, 0.0],\n",
    "    [3.0 / 2.0 * radius, -radius * math.sqrt(3.0) / 2],\n",
    "    [3.0 / 2.0 * radius, radius * math.sqrt(3.0) / 2],\n",
    "    [0.0, radius * math.sqrt(3.0)],\n",
    "    [-3.0 / 2.0 * radius, radius * math.sqrt(3.0) / 2],\n",
    "    [-3.0 / 2.0 * radius, -radius * math.sqrt(3.0) / 2],\n",
    "    [0.0, -radius * math.sqrt(3.0)],\n",
    "]"
   ]
  },
  {
   "cell_type": "markdown",
   "id": "becoming-little",
   "metadata": {},
   "source": [
    "Créer les 7 copies de d et opérer la “translation” correspondante."
   ]
  },
  {
   "cell_type": "code",
   "execution_count": 16,
   "id": "consistent-holocaust",
   "metadata": {},
   "outputs": [],
   "source": [
    "ds = len(translationToPerform) * [None]\n",
    "for pos, t in enumerate(translationToPerform):\n",
    "    # Perform a deep copy of d and place it at position 'pos' in ds\n",
    "    ds[pos] = d[:]\n",
    "    # Adding a vector to a set of coordinates does a translation. t could have been a DataArrayDouble too.\n",
    "    ds[pos] += t"
   ]
  },
  {
   "cell_type": "markdown",
   "id": "pursuant-favor",
   "metadata": {},
   "source": [
    "<div class=\"alert alert-block alert-success\">\n",
    "<b>Note:</b>\n",
    "Le pass à la fin de la boucle for n’est pas indispensable mais aide certains éditeurs à indenter le code.</div>\n",
    "\n",
    "Une autre façon de faire un peu plus compacte (pour les amoureux des one-liner) :"
   ]
  },
  {
   "cell_type": "code",
   "execution_count": 17,
   "id": "floral-armstrong",
   "metadata": {},
   "outputs": [],
   "source": [
    "ds = [d + translationToPerform[i] for i, _ in enumerate(translationToPerform)]"
   ]
  },
  {
   "cell_type": "markdown",
   "id": "earned-diary",
   "metadata": {},
   "source": [
    "## **Agrégation de tableaux**\n",
    "\n",
    "A partir de la liste d’instances de `DataArrayDouble` `ds` construire le DataArrayDouble d2 résultat de l’agrégation des instances les unes à la suite des autres."
   ]
  },
  {
   "cell_type": "code",
   "execution_count": 18,
   "id": "operating-piece",
   "metadata": {},
   "outputs": [
    {
     "name": "stdout",
     "output_type": "stream",
     "text": [
      "Name of double array : \"\"\n",
      "Number of components : 2\n",
      "Info of these components : \"X [m]\"   \"Y [m]\"   \n",
      "Number of tuples : 42\n",
      "Internal memory facts : 84/84\n",
      "Data content :\n",
      "Tuple #0 : 3 0 \n",
      "Tuple #1 : 1.5000000000000004 2.598076211353316 \n",
      "Tuple #2 : -1.4999999999999993 2.598076211353316 \n",
      "Tuple #3 : -3 3.6739403974420594e-16 \n",
      "Tuple #4 : -1.5000000000000013 -2.5980762113533151 \n",
      "Tuple #5 : 1.499999999999998 -2.5980762113533169 \n",
      "Tuple #6 : 7.5 -2.598076211353316 \n",
      "Tuple #7 : 6 0 \n",
      "Tuple #8 : 3.0000000000000009 0 \n",
      "Tuple #9 : 1.5 -2.5980762113533156 \n",
      "Tuple #10 : 2.9999999999999987 -5.1961524227066311 \n",
      "Tuple #11 : 5.9999999999999982 -5.1961524227066329 \n",
      "Tuple #12 : 7.5 2.598076211353316 \n",
      "Tuple #13 : 6 5.196152422706632 \n",
      "Tuple #14 : 3.0000000000000009 5.196152422706632 \n",
      "Tuple #15 : 1.5 2.5980762113533165 \n",
      "Tuple #16 : 2.9999999999999987 8.8817841970012523e-16 \n",
      "Tuple #17 : 5.9999999999999982 -8.8817841970012523e-16 \n",
      "Tuple #18 : 3 5.196152422706632 \n",
      "Tuple #19 : 1.5000000000000004 7.794228634059948 \n",
      "Tuple #20 : -1.4999999999999993 7.794228634059948 \n",
      "Tuple #21 : -3 5.196152422706632 \n",
      "Tuple #22 : -1.5000000000000013 2.5980762113533169 \n",
      "Tuple #23 : 1.499999999999998 2.5980762113533151 \n",
      "Tuple #24 : -1.5 2.598076211353316 \n",
      "Tuple #25 : -2.9999999999999996 5.196152422706632 \n",
      "Tuple #26 : -5.9999999999999991 5.196152422706632 \n",
      "Tuple #27 : -7.5 2.5980762113533165 \n",
      "Tuple #28 : -6.0000000000000018 8.8817841970012523e-16 \n",
      "Tuple #29 : -3.0000000000000018 -8.8817841970012523e-16 \n",
      "Tuple #30 : -1.5 -2.598076211353316 \n",
      "Tuple #31 : -2.9999999999999996 0 \n",
      "Tuple #32 : -5.9999999999999991 0 \n",
      "Tuple #33 : -7.5 -2.5980762113533156 \n",
      "Tuple #34 : -6.0000000000000018 -5.1961524227066311 \n",
      "Tuple #35 : -3.0000000000000018 -5.1961524227066329 \n",
      "Tuple #36 : 3 -5.196152422706632 \n",
      "Tuple #37 : 1.5000000000000004 -2.598076211353316 \n",
      "Tuple #38 : -1.4999999999999993 -2.598076211353316 \n",
      "Tuple #39 : -3 -5.196152422706632 \n",
      "Tuple #40 : -1.5000000000000013 -7.7942286340599471 \n",
      "Tuple #41 : 1.499999999999998 -7.7942286340599489 \n",
      "\n"
     ]
    }
   ],
   "source": [
    "d2 = mc.DataArrayDouble.Aggregate(ds)\n",
    "print(d2)"
   ]
  },
  {
   "cell_type": "markdown",
   "id": "searching-discharge",
   "metadata": {},
   "source": [
    "d2 contient désormais l’ensemble des tuples (6*7 de 2 composantes chacun) des instances contenues dans ds, en respectant l’ordre dans ds. Cela parait évident, mais l’agrégation de maillages et de champs respecte exactement le même principe pour faciliter l’accès et le repérage des données. C’est par exemple une différence essentielle avec le modèle MED fichier comme on le verra plus tard.\n",
    "\n",
    "<div class=\"alert alert-block alert-success\">\n",
    "<b>Note:</b>\n",
    "La méthode permettant d’agréger par composante (c’est-à-dire de concaténer des tableaux colonne par colonne, plutôt que par tuples) s’appelle Meld().</div>\n",
    "\n",
    "## **Trouver les tuples égaux**\n",
    "\n",
    "La variable d2 contient 42 tuples mais certains tuples apparaissent plusieurs fois. Pour trouver les tuples égaux à 1e-12 près (précision absolue) invoquer **`findCommonTuples()`**. Utiliser help(mc.DataArrayDouble.findCommonTuples) pour en connaitre l’interface. Stocker le retour de la fonction dans c et cI"
   ]
  },
  {
   "cell_type": "code",
   "execution_count": 19,
   "id": "identical-roads",
   "metadata": {},
   "outputs": [
    {
     "name": "stdout",
     "output_type": "stream",
     "text": [
      "42\n",
      "Help on function findCommonTuples in module medcoupling:\n",
      "\n",
      "findCommonTuples(self, prec: 'double', limitNodeId: 'mcIdType' = -1) -> 'PyObject *'\n",
      "    findCommonTuples(DataArrayDouble self, double prec, mcIdType limitNodeId=-1) -> PyObject\n",
      "    1\n",
      "\n",
      "Name of int64 array : \"\"\n",
      "Number of components : 1\n",
      "Info of these components : \"\"   \n",
      "Number of tuples : 30\n",
      "Internal memory facts : 30/32\n",
      "Data content :\n",
      "Tuple #0 : 0 \n",
      "Tuple #1 : 8 \n",
      "Tuple #2 : 16 \n",
      "Tuple #3 : 1 \n",
      "Tuple #4 : 23 \n",
      "Tuple #5 : 15 \n",
      "Tuple #6 : 2 \n",
      "Tuple #7 : 22 \n",
      "Tuple #8 : 24 \n",
      "Tuple #9 : 3 \n",
      "Tuple #10 : 29 \n",
      "Tuple #11 : 31 \n",
      "Tuple #12 : 4 \n",
      "Tuple #13 : 30 \n",
      "Tuple #14 : 38 \n",
      "Tuple #15 : 5 \n",
      "Tuple #16 : 9 \n",
      "Tuple #17 : 37 \n",
      "Tuple #18 : 7 \n",
      "Tuple #19 : 17 \n",
      "Tuple #20 : 10 \n",
      "Tuple #21 : 36 \n",
      "Tuple #22 : 14 \n",
      "Tuple #23 : 18 \n",
      "Tuple #24 : 21 \n",
      "Tuple #25 : 25 \n",
      "Tuple #26 : 28 \n",
      "Tuple #27 : 32 \n",
      "Tuple #28 : 35 \n",
      "Tuple #29 : 39 \n",
      " Name of int64 array : \"\"\n",
      "Number of components : 1\n",
      "Info of these components : \"\"   \n",
      "Number of tuples : 13\n",
      "Internal memory facts : 13/16\n",
      "Data content :\n",
      "Tuple #0 : 0 \n",
      "Tuple #1 : 3 \n",
      "Tuple #2 : 6 \n",
      "Tuple #3 : 9 \n",
      "Tuple #4 : 12 \n",
      "Tuple #5 : 15 \n",
      "Tuple #6 : 18 \n",
      "Tuple #7 : 20 \n",
      "Tuple #8 : 22 \n",
      "Tuple #9 : 24 \n",
      "Tuple #10 : 26 \n",
      "Tuple #11 : 28 \n",
      "Tuple #12 : 30 \n",
      "\n"
     ]
    }
   ],
   "source": [
    "oldNbOfTuples = d2.getNumberOfTuples()\n",
    "print(oldNbOfTuples)\n",
    "help(mc.DataArrayDouble.findCommonTuples)\n",
    "c, cI = d2.findCommonTuples(1.0e-12)\n",
    "print(c, cI)"
   ]
  },
  {
   "cell_type": "markdown",
   "id": "sublime-lawyer",
   "metadata": {},
   "source": [
    "On a ainsi récupéré dans c l’ensemble des m=12 groupes de noeuds communs accollés. cI contient les index pour repérer les identifiants de points dans c pour tout groupe i dans $[0,12)$. Ainsi les identifiants de tuples du groupe i commencent à l’index cI[i] et finissent à l’index cI[i+1].\n",
    "\n",
    "La méthode **`findCommonTuples()`** retourne ainsi 2 paramètres: un tableau contenant la liste des tuples communs et un tableau d’index qui permet de naviguer dans le premier tableau. Il s’agit d’une forme de retour très classique dans MEDCoupling, appelée indirect indexing. Cela apparaît souvent dans la manipulation des maillages non structurés. Cette représentation est rappelée sur l’image ci-dessous, où le premier tableau est en haut, et le deuxième tableau permettant de la parcourir en bas:\n",
    "\n",
    "<img src=\"IndirectIndex.jpg\" style=\"width:700px;\">\n",
    "\n",
    "<div class=\"alert alert-block alert-success\">\n",
    "<b>Note:</b>\n",
    "Le dernier élément de cI pointe en dehors du tableau c. Ce dernier index est toujours présent et permet de s’assurer que des traitements tels que les slices présentés juste après, sont toujours valables, sans avoir besoin de particulariser le dernier groupe.</div>\n",
    "\n",
    "## **Manipuler le format “indirect index”**\n",
    "\n",
    "Le nombre de tuples communs à 1e-12 près est donc égal à len(cI)-1, c’est-à-dire 12 dans notre cas. Récupérer la liste des identifiants de tuples du groupe 0 et mettre le résultat dans la variable tmp. Afficher tmp."
   ]
  },
  {
   "cell_type": "code",
   "execution_count": 20,
   "id": "opened-freedom",
   "metadata": {},
   "outputs": [
    {
     "name": "stdout",
     "output_type": "stream",
     "text": [
      "Name of int64 array : \"\"\n",
      "Number of components : 1\n",
      "Info of these components : \"\"   \n",
      "Number of tuples : 3\n",
      "Internal memory facts : 3/3\n",
      "Data content :\n",
      "Tuple #0 : 0 \n",
      "Tuple #1 : 8 \n",
      "Tuple #2 : 16 \n",
      "\n"
     ]
    }
   ],
   "source": [
    "tmp = c[cI[0] : cI[0 + 1]]\n",
    "print(tmp)"
   ]
  },
  {
   "cell_type": "markdown",
   "id": "scheduled-skirt",
   "metadata": {},
   "source": [
    "Vérifier, en l’affichant, que pour tous les identifiants de tuples dans tmp, leurs tuples sont bien égaux dans d2."
   ]
  },
  {
   "cell_type": "code",
   "execution_count": 21,
   "id": "allied-penguin",
   "metadata": {},
   "outputs": [
    {
     "name": "stdout",
     "output_type": "stream",
     "text": [
      "Name of double array : \"\"\n",
      "Number of components : 2\n",
      "Info of these components : \"X [m]\"   \"Y [m]\"   \n",
      "Number of tuples : 3\n",
      "Internal memory facts : 6/6\n",
      "Data content :\n",
      "Tuple #0 : 3 0 \n",
      "Tuple #1 : 3.0000000000000009 0 \n",
      "Tuple #2 : 2.9999999999999987 8.8817841970012523e-16 \n",
      "\n"
     ]
    }
   ],
   "source": [
    "print(d2[tmp])"
   ]
  },
  {
   "cell_type": "markdown",
   "id": "italic-hamburg",
   "metadata": {},
   "source": [
    "<div class=\"alert alert-block alert-success\">\n",
    "<b>Note:</b>\n",
    "On voit que le tuple $(3.,0.)$ à 1e-12 près est répété 3 fois et tmp donne les positions respectives de ces 3 répétitions.</div>\n",
    "\n",
    "Maintenant on va déduire des variables **`oldNbOfTuples`**, c et cI le nombre de tuples effectivement différents dans d2. Pour ce faire, nous allons trouver le nombre de tuples doublons dans d2 et soustraire le résultat de **`oldNbOfTuples`**.\n",
    "\n",
    "Pour connaître le nombre de doublons, invoquer **`DataArrayInt.deltaShiftIndex`** qui retourne pour chaque groupe sa taille. Mettre le résultat dans a."
   ]
  },
  {
   "cell_type": "code",
   "execution_count": 22,
   "id": "alpha-church",
   "metadata": {},
   "outputs": [],
   "source": [
    "a = cI.deltaShiftIndex()"
   ]
  },
  {
   "cell_type": "markdown",
   "id": "serious-tokyo",
   "metadata": {},
   "source": [
    "Déduire de a le nombre de tuples doublons dans d2 par groupe et mettre le résultat dans b."
   ]
  },
  {
   "cell_type": "code",
   "execution_count": 23,
   "id": "alpine-accordance",
   "metadata": {},
   "outputs": [],
   "source": [
    "b = a - 1"
   ]
  },
  {
   "cell_type": "markdown",
   "id": "educated-emperor",
   "metadata": {},
   "source": [
    "Enfin on peut trouver le nouveau nombre de tuples grâce à b et à **`oldNbOfTuples`**. Mettre le résultat dans **`myNewNbOfTuples`**."
   ]
  },
  {
   "cell_type": "code",
   "execution_count": 24,
   "id": "german-active",
   "metadata": {},
   "outputs": [],
   "source": [
    "myNewNbOfTuples = oldNbOfTuples - sum(b.getValues())"
   ]
  },
  {
   "cell_type": "markdown",
   "id": "developmental-harrison",
   "metadata": {},
   "source": [
    "## **Construire un tableau “old-2-new”**\n",
    "\n",
    "Nous allons maintenant exploiter cette information pour extraire un seul représentant dans chaque groupe de points dupliqués.\n",
    "\n",
    "Les deux tableaux c et cI définissent une surjection d’un espace de départ à 42 (**`oldNbOfTuples`**) tuples X vers un espace à 24 (**`myNewNbOfTuples`**) tuples Y.\n",
    "\n",
    "<img src=\"SurjectionDataArray.png\" style=\"width:250px;\">\n",
    "\n",
    "L’autre manière de définir cette surjection (sans perte d’information) est de la représenter par un tableau “old-2-new”. Ce mode de stockage prend la forme d’un DataArrayInt ***o2n*** composé de Card(X) tuples (i.e. 42) à une composante. Pour chaque tuple (élément) d’index i de ***o2n***, la case ***o2n[i]*** contient le nouvel identifiant de tuple dans Y. On va donc d’un ancien identifiant (old) vers un nouveau (new).\n",
    "\n",
    "Nous allons construire ce tableau pour extraire un sous-ensemble des coordonnées de départ, et ne garder que les tuples uniques (non doublons) dans l’ensemble de départ.\n",
    "\n",
    "<div class=\"alert alert-block alert-success\">\n",
    "<b>Note:</b>\n",
    "Pour toutes les opérations de renumérotation en MEDCoupling (bijection), le format “old-2-new” est systématiquement utilisé.</div>\n",
    "\n",
    "La méthode statique **`DataArrayInt.ConvertIndexArrayToO2N()`** (nom un peu barbare, on vous l’accorde) permet de passer du mode de stockage de cette surjection c, cI au format o2n. On récupère au passage card(Y) c’est-à-dire le **`newNbOfTuples`**."
   ]
  },
  {
   "cell_type": "code",
   "execution_count": 25,
   "id": "asian-asthma",
   "metadata": {},
   "outputs": [
    {
     "name": "stdout",
     "output_type": "stream",
     "text": [
      "Have I got the right number of tuples?\n",
      "myNewNbOfTuples = 24, newNbOfTuples = 24\n"
     ]
    }
   ],
   "source": [
    "o2n, newNbOfTuples = mc.DataArrayInt.ConvertIndexArrayToO2N(oldNbOfTuples, c, cI)\n",
    "print(\"Have I got the right number of tuples?\")\n",
    "print(\"myNewNbOfTuples = %d, newNbOfTuples = %d\" % (myNewNbOfTuples, newNbOfTuples))\n",
    "assert myNewNbOfTuples == newNbOfTuples"
   ]
  },
  {
   "cell_type": "markdown",
   "id": "conceptual-collectible",
   "metadata": {},
   "source": [
    "Nous pouvons maintenant constuire le tableau de points uniques d3. A l’aide de o2n et **`newNbOfTuples`**, invoquer **`DataArrayDouble.renumberAndReduce()`** sur d2."
   ]
  },
  {
   "cell_type": "code",
   "execution_count": 26,
   "id": "atlantic-sandwich",
   "metadata": {},
   "outputs": [],
   "source": [
    "d3 = d2.renumberAndReduce(o2n, newNbOfTuples)"
   ]
  },
  {
   "cell_type": "markdown",
   "id": "parliamentary-celebration",
   "metadata": {},
   "source": [
    "L’inconvénient de cette méthode c’est que finalement on ne connait pas pour chaque groupe de tuple communs dans d2 quel identifiant a été utilisé. Par exemple pour le groupe 0 on sait que les tuples 0, 8 et 16 (tmp.getValues()) sont tous égaux, et on ne sait pas si 0, 8 ou 16 a été utilisé pour remplir d3.\n",
    "\n",
    "Si l’on souhaite expliciter ce choix, on peut passer en format “new-2-old”. Ce mode de stockage prend la forme d’un **`DataArrayInt`** n2o composé de Card(Y) tuples (24) à 1 composante. Pour chaque tuple (élément) d’index i de n2o, la case n2o[i] contient l’index du tuple qui a été choisi dans X.\n",
    "\n",
    "Pour passer d’une description “old-2-new” vers “new-2-old”, la méthode est **`DataArrayInt.invertArrayO2N2N2O()`**. Effectuer ce traitement sur la variable o2n."
   ]
  },
  {
   "cell_type": "code",
   "execution_count": 27,
   "id": "exterior-jersey",
   "metadata": {},
   "outputs": [],
   "source": [
    "n2o = o2n.invertArrayO2N2N2O(newNbOfTuples)"
   ]
  },
  {
   "cell_type": "markdown",
   "id": "short-korean",
   "metadata": {},
   "source": [
    "A l’aide de n2o on peut construire un d3_bis à partir de d2, et qui contient la même chose que le d3 précédent."
   ]
  },
  {
   "cell_type": "code",
   "execution_count": 28,
   "id": "anonymous-greeting",
   "metadata": {},
   "outputs": [
    {
     "name": "stdout",
     "output_type": "stream",
     "text": [
      "Are d3 and d3_bis equal ? True\n"
     ]
    }
   ],
   "source": [
    "d3_bis = d2[n2o]\n",
    "print(\"Are d3 and d3_bis equal ? %s\" % (str(d3.isEqual(d3_bis, 1e-12))))"
   ]
  },
  {
   "cell_type": "markdown",
   "id": "robust-commons",
   "metadata": {},
   "source": [
    "## **Translater tous les tuples**\n",
    "\n",
    "Tous les tuples (ou nodes) sont à translater du vecteur [3.3,4.4] afin de recentrer toute la figure en ce point."
   ]
  },
  {
   "cell_type": "code",
   "execution_count": 29,
   "id": "sexual-engine",
   "metadata": {},
   "outputs": [],
   "source": [
    "d3 += [3.3, 4.4]"
   ]
  },
  {
   "cell_type": "markdown",
   "id": "indian-testing",
   "metadata": {},
   "source": [
    "## **Constuire un maillage non structuré**\n",
    "\n",
    "On chercher maintenant à créer le maillage final montré dans la figure. Nous avons déjà construit le tableau de coordonnées, il nous reste les cellules à créer.\n",
    "\n",
    "Créer un maillage non structuré m avec les coordonnées d3. Le maillage``m`` a une mesh-dimension 2"
   ]
  },
  {
   "cell_type": "code",
   "execution_count": 30,
   "id": "revised-colorado",
   "metadata": {},
   "outputs": [
    {
     "name": "stdout",
     "output_type": "stream",
     "text": [
      "Mesh dimension is 2\n",
      "Spatial dimension is 2\n"
     ]
    }
   ],
   "source": [
    "m = mc.MEDCouplingUMesh(\"My7hexagons\", 2)\n",
    "m.setCoords(d3)\n",
    "print(\"Mesh dimension is\", m.getMeshDimension())\n",
    "print(\"Spatial dimension is\", m.getCoords().getNumberOfComponents())"
   ]
  },
  {
   "cell_type": "markdown",
   "id": "technological-wilderness",
   "metadata": {},
   "source": [
    "Maintenant, allouer le nombre de cellules avec (un majorant du) nombre attendu de cellules."
   ]
  },
  {
   "cell_type": "code",
   "execution_count": 31,
   "id": "appointed-disease",
   "metadata": {},
   "outputs": [],
   "source": [
    "m.allocateCells(7)"
   ]
  },
  {
   "cell_type": "markdown",
   "id": "front-passport",
   "metadata": {},
   "source": [
    "Enfin grâce à o2n on a la connectivité (i.e. la liste des points formant un hexagone) des 7 hexagones utilisant les coordonnées d3."
   ]
  },
  {
   "cell_type": "code",
   "execution_count": 32,
   "id": "lyric-pursuit",
   "metadata": {},
   "outputs": [],
   "source": [
    "for i in range(7):\n",
    "    cell_connec = o2n[6 * i : 6 * (i + 1)]\n",
    "    m.insertNextCell(mc.NORM_POLYGON, cell_connec.getValues())\n",
    "    pass"
   ]
  },
  {
   "cell_type": "markdown",
   "id": "exposed-bones",
   "metadata": {},
   "source": [
    "Vérifier que m est correct et ne contient pas d’anomalie."
   ]
  },
  {
   "cell_type": "code",
   "execution_count": 33,
   "id": "relevant-christianity",
   "metadata": {},
   "outputs": [],
   "source": [
    "m.checkConsistencyLight()"
   ]
  },
  {
   "cell_type": "markdown",
   "id": "respective-northern",
   "metadata": {},
   "source": [
    "<div class=\"alert alert-block alert-success\">\n",
    "<b>Note:</b>\n",
    "Il est toujours une bonne idée d’appeler cette méthode après la construction “from scratch” d’un maillage. Cela assure qu’il n’y a pas de gros “couacs” dans la connectivité, etc... </div>\n",
    "\n",
    "Pour vérifier visuellment que m est correct, l’écrire dans un fichier “My7hexagons.vtu” et le visualiser dans ParaViS."
   ]
  },
  {
   "cell_type": "code",
   "execution_count": 34,
   "id": "demonstrated-sight",
   "metadata": {},
   "outputs": [
    {
     "data": {
      "text/plain": [
       "'My7hexagons.vtu'"
      ]
     },
     "execution_count": 34,
     "metadata": {},
     "output_type": "execute_result"
    }
   ],
   "source": [
    "m.writeVTK(\"My7hexagons.vtu\")"
   ]
  },
  {
   "cell_type": "markdown",
   "id": "sporting-boring",
   "metadata": {},
   "source": [
    "<div class=\"alert alert-block alert-success\">\n",
    "<b>Note:</b>\n",
    "On a écrit ici dans un fichier VTU et non MED, car MEDCoupling n’inclut pas par défaut les services de MED fichier. Bien que l’on écrive au format VTK (*.vtu), MEDCoupling ne dépend pas de VTK.</div>"
   ]
  }
 ],
 "metadata": {
  "kernelspec": {
   "display_name": "Python 3 (ipykernel)",
   "language": "python",
   "name": "python3"
  },
  "language_info": {
   "codemirror_mode": {
    "name": "ipython",
    "version": 3
   },
   "file_extension": ".py",
   "mimetype": "text/x-python",
   "name": "python",
   "nbconvert_exporter": "python",
   "pygments_lexer": "ipython3",
   "version": "3.10.12"
  }
 },
 "nbformat": 4,
 "nbformat_minor": 5
}
