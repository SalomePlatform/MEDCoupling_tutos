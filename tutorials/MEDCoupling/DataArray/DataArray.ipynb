{
 "cells": [
  {
   "cell_type": "markdown",
   "id": "0",
   "metadata": {
    "editable": true,
    "slideshow": {
     "slide_type": ""
    },
    "tags": []
   },
   "source": [
    "# Manipuler les DataArray\n",
    "\n",
    "Les DataArrays (`DataArrayInt` et `DataArrayDouble`) sont utilisés dans\n",
    "MEDCoupling pour stocker des valeurs sous forme de tableaux contigus en mémoire.\n",
    "Les valeurs sont groupées par tuples, et chaque tuple a le même nombre de\n",
    "composantes. Ils sont à la base de beaucoup de traitements réalisés dans\n",
    "MEDCoupling. Il est ainsi important de bien savoir les manipuler.\n",
    "\n",
    "Les `DataArrayDouble` sont souvent utilisés pour la manipulation directe des\n",
    "valeurs d’un champ comme on le verra plus tard. Les `DataArrayInt` eux sont\n",
    "utilisés pour toutes les fonctionnalités travaillant avec des identifiants de\n",
    "cellules et/ou de points.\n",
    "\n",
    "## Le but de l’exercice\n",
    "\n",
    "Le but ici est de créer les coordonnées de 7 hexagones réguliers (tous inscrits\n",
    "dans des cercles de rayon 3m) en dimension 2. La première composante du tableau\n",
    "de coordonnées s’appelera X avec l’unité \"m\" (mètre) et la 2ème composante\n",
    "s’appelera \"Y\" avec la même unité.\n",
    "\n",
    "On pourrait directement calculer les coordonnées de l’ensemble des points requis\n",
    "avec un peu de trigonométrie, mais afin de travailler un peu avec l'API, on fait\n",
    "le choix de construire les 7 hexagones à partir d’un seul hexagone régulier\n",
    "centré en $[3.4; 4.4]$. Autour de cet hexagone régulier central, on crée 6\n",
    "copies translatées et chaque copie partagera exactement un bord (edge) avec le\n",
    "motif initial. Ensuite on fusionne les nœuds (tuples) communs. Ceci nous\n",
    "permettra de manipuler les indirections et les méthodes d’indexing très usitées\n",
    "dans les maillages non structurés.\n",
    "\n",
    "<img src=\"hexagon.jpg\" style=\"width:500px;\">\n",
    "\n",
    "Les points traités ici :\n",
    "\n",
    "- Créer une instance de `DataArrayDouble`\n",
    "- Afficher une instance de `DataArrayDouble` et invoquer la méthode `getValue()`\n",
    "  pour la convertir en liste\n",
    "- Utiliser les notations pratiques `da[:,:]` ...\n",
    "- Apprendre la renumérotation (convention \"old-2-new\")\n",
    "- Invoquer des services tels que `findCommonTuples()`\n",
    "\n",
    "## Début de l’implémentation\n",
    "\n",
    "Pour commencer l’exercice importer le module Python `medcoupling` et l’aliaser\n",
    "avec `mc` (ça nous évitera des noms trop longs). Importer aussi le module\n",
    "`math`.\n"
   ]
  },
  {
   "cell_type": "code",
   "execution_count": null,
   "id": "1",
   "metadata": {},
   "outputs": [],
   "source": [
    "import medcoupling as mc\n",
    "import math"
   ]
  },
  {
   "cell_type": "markdown",
   "id": "2",
   "metadata": {},
   "source": [
    "On rappelle que toutes les méthodes statiques du module commencent par une majuscule. Avec ces imports sont disponibles :\n",
    "\n",
    "- toutes les classes de MEDCoupling\n",
    "- tous les énumérations (par exemple, les types de cellules standard: `mc.ON_CELLS`, `mc.ON_NODES`, `mc.ONE_TIME`...)\n",
    "- toutes les méthodes statiques\n",
    "\n",
    "## Créer une instance de DataArrayDouble contenant 6 tuples\n",
    "\n",
    "Le but ici est de créer un `DataArrayDouble` contenant les coordonnées d’un seul hexagone régulier.\n"
   ]
  },
  {
   "cell_type": "code",
   "execution_count": null,
   "id": "3",
   "metadata": {},
   "outputs": [],
   "source": [
    "d = mc.DataArrayDouble(6, 2)"
   ]
  },
  {
   "cell_type": "markdown",
   "id": "4",
   "metadata": {},
   "source": [
    "Ceci est équivalent à\n"
   ]
  },
  {
   "cell_type": "code",
   "execution_count": null,
   "id": "5",
   "metadata": {},
   "outputs": [],
   "source": [
    "d = mc.DataArrayDouble()\n",
    "d.alloc(6, 2)"
   ]
  },
  {
   "cell_type": "markdown",
   "id": "6",
   "metadata": {},
   "source": [
    "Ceci est aussi équivalent à\n"
   ]
  },
  {
   "cell_type": "code",
   "execution_count": null,
   "id": "7",
   "metadata": {},
   "outputs": [],
   "source": [
    "d = mc.DataArrayDouble(12)\n",
    "d.rearrange(2)"
   ]
  },
  {
   "cell_type": "markdown",
   "id": "8",
   "metadata": {},
   "source": [
    "Notons enfin que l’on peut aussi directement construire un `DataArray` à partir d’une liste Python. Par défaut le tableau n’a qu’une seule composante.\n"
   ]
  },
  {
   "cell_type": "code",
   "execution_count": null,
   "id": "9",
   "metadata": {},
   "outputs": [],
   "source": [
    "d_example = mc.DataArrayDouble([0.0, 1.0, 2.5])\n",
    "print(d_example)"
   ]
  },
  {
   "cell_type": "markdown",
   "id": "10",
   "metadata": {},
   "source": [
    "<div class=\"alert alert-block alert-success\">\n",
    "<b>Note:</b> Le tableau d contient maintenant 12 valeurs groupées en 6 tuples contenant chacun 2 composantes. Les valeurs dans d ne sont pas encore assignées.</div>\n",
    "\n",
    "## Initialiser une instance de DataArrayDouble\n",
    "\n",
    "Assigner la valeur 3.0 (le rayon) à la première composante de chacun des tuples.\n",
    "La syntaxe ressemble fortement à celle de NumPy. On peut par exemple assigner\n",
    "d’un coup les tuples 1 à 3 (inclus), sur la première composante avec la valeur\n",
    "3.0\n"
   ]
  },
  {
   "cell_type": "code",
   "execution_count": null,
   "id": "11",
   "metadata": {},
   "outputs": [],
   "source": [
    "d[1:4, 0] = 3.0"
   ]
  },
  {
   "cell_type": "markdown",
   "id": "12",
   "metadata": {},
   "source": [
    "ou directement l’intégralité de la première composante\n"
   ]
  },
  {
   "cell_type": "code",
   "execution_count": null,
   "id": "13",
   "metadata": {},
   "outputs": [],
   "source": [
    "d[:, 0] = 3.0"
   ]
  },
  {
   "cell_type": "markdown",
   "id": "14",
   "metadata": {},
   "source": [
    "Initialiser la 2ème composante de chaque tuple i avec la valeur i.\n"
   ]
  },
  {
   "cell_type": "code",
   "execution_count": null,
   "id": "15",
   "metadata": {},
   "outputs": [],
   "source": [
    "d[:, 1] = list(range(6))"
   ]
  },
  {
   "cell_type": "markdown",
   "id": "16",
   "metadata": {},
   "source": [
    "Multiplier la seconde composante de chacun des tuples par pi/3.\n"
   ]
  },
  {
   "cell_type": "code",
   "execution_count": null,
   "id": "17",
   "metadata": {},
   "outputs": [],
   "source": [
    "d[:, 1] *= math.pi / 3.0"
   ]
  },
  {
   "cell_type": "markdown",
   "id": "18",
   "metadata": {},
   "source": [
    "<div class=\"alert alert-block alert-success\">\n",
    "<b>Note:</b>\n",
    "\"d\" contient désormais les coordonnées polaires des nœuds de notre hexagone régulier centré en 0,0 pour le moment.</div>\n",
    "\n",
    "Convertir d de polaire à cartésien en invoquant la méthode `fromPolarToCart()` et re-mettre le résultat dans d.\n"
   ]
  },
  {
   "cell_type": "code",
   "execution_count": null,
   "id": "19",
   "metadata": {},
   "outputs": [],
   "source": [
    "d = d.fromPolarToCart()"
   ]
  },
  {
   "cell_type": "markdown",
   "id": "20",
   "metadata": {},
   "source": [
    "<div class=\"alert alert-block alert-danger\">\n",
    "<b>Note:</b> fromPolarToCart() génère une nouvelle instance, nous avons donc perdu le d initial.</div>\n",
    "\n",
    "Assigner les informations textuelles correctes sur les 2 composantes de d :\n"
   ]
  },
  {
   "cell_type": "code",
   "execution_count": null,
   "id": "21",
   "metadata": {},
   "outputs": [],
   "source": [
    "d.setInfoOnComponents([\"X [m]\", \"Y [m]\"])"
   ]
  },
  {
   "cell_type": "markdown",
   "id": "22",
   "metadata": {},
   "source": [
    "<div class=\"alert alert-block alert-success\">\n",
    "<b>Note:</b>\n",
    "Cela n’est pas indispensable pour cet exercise, mais d’autres fonctions plus avancées nécessitent cette information.</div>\n"
   ]
  },
  {
   "cell_type": "markdown",
   "id": "23",
   "metadata": {},
   "source": [
    "Afficher d tel quel.\n"
   ]
  },
  {
   "cell_type": "code",
   "execution_count": null,
   "id": "24",
   "metadata": {},
   "outputs": [],
   "source": [
    "print(d)"
   ]
  },
  {
   "cell_type": "markdown",
   "id": "25",
   "metadata": {},
   "source": [
    "Afficher juste les valeurs sous forme d’une liste python.\n"
   ]
  },
  {
   "cell_type": "code",
   "execution_count": null,
   "id": "26",
   "metadata": {},
   "outputs": [],
   "source": [
    "print(d.getValues())"
   ]
  },
  {
   "cell_type": "markdown",
   "id": "27",
   "metadata": {},
   "source": [
    "Vérifier que la norme (`magnitude()`) de chaque tuple de `d` est bien égale à `3.0`, avec une tolérance de `1.e-12`, grâce à la méthode `isUniform()`.\n"
   ]
  },
  {
   "cell_type": "code",
   "execution_count": null,
   "id": "28",
   "metadata": {},
   "outputs": [],
   "source": [
    "print(d.magnitude())\n",
    "\n",
    "print(\"Uniform array?\", d.magnitude().isUniform(3.0, 1e-12))"
   ]
  },
  {
   "cell_type": "markdown",
   "id": "29",
   "metadata": {},
   "source": [
    "## Duplication et agrégation\n",
    "\n",
    "On construit maintenant la liste `translationToPerform`, qui contient une liste de vecteurs chacun de taille 2. Cette liste de taille 7 (7 hexagones) contient la translation à opérer pour produire chacun des hexagones.\n",
    "\n",
    "Faites nous confiance sur la trigonométrie, vous pouvez copier directement les deux lignes suivantes\n"
   ]
  },
  {
   "cell_type": "code",
   "execution_count": null,
   "id": "30",
   "metadata": {},
   "outputs": [],
   "source": [
    "r = 3.0  # radius\n",
    "\n",
    "translationToPerform = [\n",
    "    [0.0, 0.0],\n",
    "    [3.0 / 2.0 * r, -r * math.sqrt(3.0) / 2],\n",
    "    [3.0 / 2.0 * r, r * math.sqrt(3.0) / 2],\n",
    "    [0.0, r * math.sqrt(3.0)],\n",
    "    [-3.0 / 2.0 * r, r * math.sqrt(3.0) / 2],\n",
    "    [-3.0 / 2.0 * r, -r * math.sqrt(3.0) / 2],\n",
    "    [0.0, -r * math.sqrt(3.0)],\n",
    "]"
   ]
  },
  {
   "cell_type": "markdown",
   "id": "31",
   "metadata": {},
   "source": [
    "Créer les 7 copies de d et opérer la “translation” correspondante.\n"
   ]
  },
  {
   "cell_type": "code",
   "execution_count": null,
   "id": "32",
   "metadata": {},
   "outputs": [],
   "source": [
    "n_hexa = len(translationToPerform)  # total nb of polygon (7 here)\n",
    "n_pts_in_poly = 6\n",
    "hexa_list = []\n",
    "for t in translationToPerform:\n",
    "    # Adding a vector to a set of coordinates does a translation. t could have been a DataArrayDouble too.\n",
    "    translated_hexa = d + t\n",
    "    hexa_list.append(translated_hexa)"
   ]
  },
  {
   "cell_type": "markdown",
   "id": "33",
   "metadata": {},
   "source": [
    "Une autre façon de faire un peu plus compacte :"
   ]
  },
  {
   "cell_type": "code",
   "execution_count": null,
   "id": "34",
   "metadata": {},
   "outputs": [],
   "source": [
    "hexa_list = [d + t for t in translationToPerform]\n",
    "print(hexa_list)"
   ]
  },
  {
   "cell_type": "markdown",
   "id": "35",
   "metadata": {},
   "source": [
    "## Agrégation de tableaux\n",
    "\n",
    "A partir de la liste d'instances de `DataArrayDouble` `hexa_list`, on construit le `DataArrayDouble` `hexa_data_arr`, résultat de l'agrégation des instances les unes à la suite des autres.\n"
   ]
  },
  {
   "cell_type": "code",
   "execution_count": null,
   "id": "36",
   "metadata": {},
   "outputs": [],
   "source": [
    "hexa_data_arr = mc.DataArrayDouble.Aggregate(hexa_list)\n",
    "print(hexa_data_arr)"
   ]
  },
  {
   "cell_type": "markdown",
   "id": "37",
   "metadata": {},
   "source": [
    "`hexa_data_arr` contient désormais l’ensemble des tuples (6\\*7 tuples, de 2\n",
    "composantes chacun) des instances contenues dans `hexa_list`. Une remarque\n",
    "importante est que l'ordre de `hexa_list` est préservé. Cela parait évident,\n",
    "mais l’agrégation de maillages et de champs respecte exactement le même principe\n",
    "pour faciliter l’accès et le repérage des données. C’est par exemple une\n",
    "différence essentielle avec le modèle `MEDFichier`, comme on le verra plus tard."
   ]
  },
  {
   "cell_type": "markdown",
   "id": "38",
   "metadata": {},
   "source": [
    "<div class=\"alert alert-block alert-success\">\n",
    "<b>Note:</b>\n",
    "La méthode permettant d’agréger par composante (c’est-à-dire de concaténer des\n",
    "tableaux colonne par colonne, plutôt que par tuples) s’appelle Meld().</div>"
   ]
  },
  {
   "cell_type": "markdown",
   "id": "39",
   "metadata": {},
   "source": [
    "## Trouver les tuples égaux\n",
    "\n",
    "La variable `hexa_data_arr` contient 42 tuples, mais certains tuples apparaissent plusieurs\n",
    "fois. Pour trouver les tuples égaux, à 1e-12 près (précision absolue), on utilise\n",
    "`findCommonTuples()`. On peut utiliser `help(mc.DataArrayDouble.findCommonTuples)`\n",
    "pour en connaître l’interface. On stock le résultat de la fonction dans `c` et `cI`."
   ]
  },
  {
   "cell_type": "code",
   "execution_count": null,
   "id": "40",
   "metadata": {},
   "outputs": [],
   "source": [
    "oldNbOfTuples = hexa_data_arr.getNumberOfTuples()\n",
    "print(oldNbOfTuples)\n",
    "help(mc.DataArrayDouble.findCommonTuples)\n",
    "c, cI = hexa_data_arr.findCommonTuples(1.0e-12)\n",
    "print(c, cI)"
   ]
  },
  {
   "cell_type": "markdown",
   "id": "41",
   "metadata": {},
   "source": [
    "On a ainsi récupéré dans `c` l’ensemble des m=12 groupes de nœuds communs\n",
    "accollés. `cI` contient les index pour repérer les identifiants de points dans\n",
    "`c`, pour tout groupe i dans $[0,12)$. Ainsi, les identifiants de tuples du groupe\n",
    "`i` commencent à l’index `cI[i]` et finissent à l’index `cI[i+1]`.\n",
    "\n",
    "La méthode `findCommonTuples()` retourne 2 paramètres : un tableau contenant la\n",
    "liste des tuples communs et un tableau d’index, qui permet de naviguer dans le\n",
    "premier tableau. Il s’agit d’une forme de retour très classique dans\n",
    "`MEDCoupling`, appelée \"indirect indexing\". Cela apparaît souvent dans la\n",
    "manipulation des maillages non-structurés. "
   ]
  },
  {
   "cell_type": "markdown",
   "id": "42",
   "metadata": {},
   "source": [
    "Cette représentation est schématisée\n",
    "sur l’image ci-dessous, où le premier tableau est en haut, et le deuxième\n",
    "tableau permettant de la parcourir, est en bas :\n",
    "\n",
    "<img src=\"IndirectIndex.jpg\" style=\"width:700px;\">\n",
    "\n",
    "<div class=\"alert alert-block alert-success\">\n",
    "<b>Note:</b>\n",
    "Le dernier élément de `cI` pointe en dehors du tableau `c`. Ce dernier index est toujours présent et permet de s’assurer que des traitements tels que les slices présentés juste après, sont toujours valables, sans avoir besoin de particulariser le dernier groupe.</div>"
   ]
  },
  {
   "cell_type": "markdown",
   "id": "43",
   "metadata": {},
   "source": [
    "## Manipuler le format \"indirect index\"\n",
    "\n",
    "Le nombre de tuples communs, à 1e-12 près, est donc égal à `len(cI) - 1`, c'est-à-dire\n",
    "12, dans notre cas. On récupère la liste des identifiants de tuples du groupe 0 et\n",
    "on met le résultat dans la variable `tmp`.\n"
   ]
  },
  {
   "cell_type": "code",
   "execution_count": null,
   "id": "44",
   "metadata": {},
   "outputs": [],
   "source": [
    "tmp = c[cI[0] : cI[0 + 1]]\n",
    "print(tmp)"
   ]
  },
  {
   "cell_type": "markdown",
   "id": "45",
   "metadata": {},
   "source": [
    "Vérifier, en l’affichant, que pour tous les identifiants de tuples dans `tmp`, leurs tuples sont bien égaux dans `hexa_data_arr`.\n"
   ]
  },
  {
   "cell_type": "code",
   "execution_count": null,
   "id": "46",
   "metadata": {},
   "outputs": [],
   "source": [
    "print(hexa_data_arr[tmp])"
   ]
  },
  {
   "cell_type": "markdown",
   "id": "47",
   "metadata": {},
   "source": [
    "<div class=\"alert alert-block alert-success\">\n",
    "<b>Note:</b>\n",
    "\n",
    "On voit que le tuple $(3.,0.)$ est répété trois fois et `tmp` donne les\n",
    "positions respectives de ces trois répétitions.</div>\n",
    "\n",
    "Maintenant, on va déduire, à partir des variables `oldNbOfTuples`, `c` et `cI`, le nombre de\n",
    "tuples effectivement différents dans `hexa_data_arr`. Pour ce faire, nous allons trouver le\n",
    "nombre de tuples doublons dans `hexa_data_arr` et soustraire le résultat de `oldNbOfTuples`.\n",
    "\n",
    "Pour connaître le nombre de doublons, on utilise `DataArrayInt.deltaShiftIndex`,\n",
    "qui retourne, pour chaque groupe, sa taille.\n"
   ]
  },
  {
   "cell_type": "code",
   "execution_count": null,
   "id": "48",
   "metadata": {},
   "outputs": [],
   "source": [
    "a = cI.deltaShiftIndex()"
   ]
  },
  {
   "cell_type": "markdown",
   "id": "49",
   "metadata": {},
   "source": [
    "On déduit de `a` le nombre de tuples doublons dans `hexa_data_arr` par groupe.\n"
   ]
  },
  {
   "cell_type": "code",
   "execution_count": null,
   "id": "50",
   "metadata": {},
   "outputs": [],
   "source": [
    "b = a - 1"
   ]
  },
  {
   "cell_type": "markdown",
   "id": "51",
   "metadata": {},
   "source": [
    "Enfin, on peut trouver le nouveau nombre de tuples grâce à `b` et à `oldNbOfTuples`.\n"
   ]
  },
  {
   "cell_type": "code",
   "execution_count": null,
   "id": "52",
   "metadata": {},
   "outputs": [],
   "source": [
    "new_n_tuples = oldNbOfTuples - sum(b.getValues())"
   ]
  },
  {
   "cell_type": "markdown",
   "id": "53",
   "metadata": {},
   "source": [
    "## Construire un tableau \"old-2-new\"\n",
    "\n",
    "Nous allons maintenant exploiter cette information pour extraire un seul\n",
    "représentant, dans chaque groupe de points dupliqués.\n",
    "\n",
    "Les deux tableaux `c` et `cI` définissent une surjection d’un espace de départ à 42\n",
    "(`oldNbOfTuples`) tuples X vers un espace à 24 (`new_n_tuples`) tuples Y.\n",
    "\n",
    "<img src=\"SurjectionDataArray.png\" style=\"width:250px;\">\n",
    "\n",
    "L’autre manière de définir cette surjection (sans perte d’information) est de la\n",
    "représenter par un tableau “old-2-new”. Ce mode de stockage prend la forme d’un\n",
    "DataArrayInt **_o2n_** composé de Card(X) tuples (i.e. 42) à une composante.\n",
    "Pour chaque tuple (élément) d’index i de **_o2n_**, la case **_o2n[i]_**\n",
    "contient le nouvel identifiant de tuple dans Y. On va donc d’un ancien\n",
    "identifiant (old) vers un nouveau (new).\n",
    "\n",
    "Nous allons construire ce tableau pour extraire un sous-ensemble des coordonnées\n",
    "de départ, et ne garder que les tuples uniques (non doublons) dans l’ensemble de\n",
    "départ.\n",
    "\n",
    "<div class=\"alert alert-block alert-success\">\n",
    "<b>Note:</b>\n",
    "Pour toutes les opérations de renumérotation en MEDCoupling (bijection), le\n",
    "format \"old-2-new\" est systématiquement utilisé.</div>\n",
    "\n",
    "La méthode statique `DataArrayInt.ConvertIndexArrayToO2N()` (nom un peu barbare,\n",
    "on vous l’accorde) permet de passer du mode de stockage de cette surjection c,\n",
    "cI au format o2n. On récupère au passage card(Y) c’est-à-dire le\n",
    "`newNbOfTuples`.\n"
   ]
  },
  {
   "cell_type": "code",
   "execution_count": null,
   "id": "54",
   "metadata": {},
   "outputs": [],
   "source": [
    "o2n, newNbOfTuples = mc.DataArrayInt.ConvertIndexArrayToO2N(oldNbOfTuples, c, cI)\n",
    "print(\"Have I got the right number of tuples?\")\n",
    "print(\"new_n_tuples = %d, newNbOfTuples = %d\" % (new_n_tuples, newNbOfTuples))\n",
    "assert new_n_tuples == newNbOfTuples"
   ]
  },
  {
   "cell_type": "markdown",
   "id": "55",
   "metadata": {},
   "source": [
    "Nous pouvons maintenant constuire le tableau de points uniques d3. A l’aide de o2n et `newNbOfTuples`, invoquer `DataArrayDouble.renumberAndReduce()` sur d2.\n"
   ]
  },
  {
   "cell_type": "code",
   "execution_count": null,
   "id": "56",
   "metadata": {},
   "outputs": [],
   "source": [
    "d3 = hexa_data_arr.renumberAndReduce(o2n, newNbOfTuples)"
   ]
  },
  {
   "cell_type": "markdown",
   "id": "57",
   "metadata": {},
   "source": [
    "L’inconvénient de cette méthode c’est que finalement on ne connait pas pour chaque groupe de tuple communs dans d2 quel identifiant a été utilisé. Par exemple pour le groupe 0 on sait que les tuples 0, 8 et 16 (tmp.getValues()) sont tous égaux, et on ne sait pas si 0, 8 ou 16 a été utilisé pour remplir d3.\n",
    "\n",
    "Si l’on souhaite expliciter ce choix, on peut passer en format “new-2-old”. Ce mode de stockage prend la forme d’un `DataArrayInt` n2o composé de Card(Y) tuples (24) à 1 composante. Pour chaque tuple (élément) d’index i de n2o, la case n2o[i] contient l’index du tuple qui a été choisi dans X.\n",
    "\n",
    "Pour passer d’une description “old-2-new” vers “new-2-old”, la méthode est `DataArrayInt.invertArrayO2N2N2O()`. Effectuer ce traitement sur la variable o2n.\n"
   ]
  },
  {
   "cell_type": "code",
   "execution_count": null,
   "id": "58",
   "metadata": {},
   "outputs": [],
   "source": [
    "n2o = o2n.invertArrayO2N2N2O(newNbOfTuples)"
   ]
  },
  {
   "cell_type": "markdown",
   "id": "59",
   "metadata": {},
   "source": [
    "A l’aide de n2o on peut construire un d3_bis à partir de d2, et qui contient la même chose que le d3 précédent.\n"
   ]
  },
  {
   "cell_type": "code",
   "execution_count": null,
   "id": "60",
   "metadata": {},
   "outputs": [],
   "source": [
    "d3_bis = hexa_data_arr[n2o]\n",
    "print(\"Are d3 and d3_bis equal ? %s\" % (str(d3.isEqual(d3_bis, 1e-12))))"
   ]
  },
  {
   "cell_type": "markdown",
   "id": "61",
   "metadata": {},
   "source": [
    "## Translater tous les tuples\n",
    "\n",
    "Tous les tuples (ou nodes) sont à translater du vecteur [3.3,4.4] afin de recentrer toute la figure en ce point.\n"
   ]
  },
  {
   "cell_type": "code",
   "execution_count": null,
   "id": "62",
   "metadata": {},
   "outputs": [],
   "source": [
    "d3 += [3.3, 4.4]"
   ]
  },
  {
   "cell_type": "markdown",
   "id": "63",
   "metadata": {},
   "source": [
    "## Constuire un maillage non-structuré\n",
    "\n",
    "On chercher maintenant à créer le maillage final montré dans la figure. Nous\n",
    "avons déjà construit le tableau de coordonnées. Il reste à créer les cellules.\n",
    "\n",
    "On crée un maillage non-structuré `m` avec les coordonnées `d3`. Le maillage `m` a\n",
    "une dimension de maillage de 2.\n"
   ]
  },
  {
   "cell_type": "code",
   "execution_count": null,
   "id": "64",
   "metadata": {},
   "outputs": [],
   "source": [
    "m = mc.MEDCouplingUMesh(\"My7hexagons\", 2)\n",
    "m.setCoords(d3)\n",
    "print(\"Mesh dimension is\", m.getMeshDimension())\n",
    "print(\"Spatial dimension is\", m.getCoords().getNumberOfComponents())"
   ]
  },
  {
   "cell_type": "markdown",
   "id": "65",
   "metadata": {},
   "source": [
    "On allouer le nombre de cellules avec un (majorant du) nombre attendu de cellules.\n"
   ]
  },
  {
   "cell_type": "code",
   "execution_count": null,
   "id": "66",
   "metadata": {},
   "outputs": [],
   "source": [
    "m.allocateCells(7)"
   ]
  },
  {
   "cell_type": "markdown",
   "id": "67",
   "metadata": {},
   "source": [
    "Enfin grâce à `o2n`, on a la connectivité (i.e. la liste des points formant un hexagone) des 7 hexagones utilisant les coordonnées `d3`.\n"
   ]
  },
  {
   "cell_type": "code",
   "execution_count": null,
   "id": "68",
   "metadata": {},
   "outputs": [],
   "source": [
    "for i in range(7):\n",
    "    cell_connec = o2n[6 * i : 6 * (i + 1)]\n",
    "    m.insertNextCell(mc.NORM_POLYGON, cell_connec.getValues())\n",
    "    pass"
   ]
  },
  {
   "cell_type": "markdown",
   "id": "69",
   "metadata": {},
   "source": [
    "On vérifie que `m` ne contient pas d’anomalie.\n"
   ]
  },
  {
   "cell_type": "code",
   "execution_count": null,
   "id": "70",
   "metadata": {},
   "outputs": [],
   "source": [
    "m.checkConsistencyLight()"
   ]
  },
  {
   "cell_type": "markdown",
   "id": "71",
   "metadata": {},
   "source": [
    "<div class=\"alert alert-block alert-success\">\n",
    "<b>Note:</b>\n",
    "Il est toujours une bonne idée d’appeler cette méthode après la construction “from scratch” d’un maillage. Cela assure qu’il n’y a pas de gros “couacs” dans la connectivité, etc... </div>\n",
    "\n",
    "Pour vérifier visuellment que `m` est correct, on l’écrire dans un fichier au format `VTK`, appelé `My7hexagons.vtu`, qu'on peut visualiser dans `Paraview`.\n"
   ]
  },
  {
   "cell_type": "code",
   "execution_count": null,
   "id": "72",
   "metadata": {},
   "outputs": [],
   "source": [
    "m.writeVTK(\"My7hexagons.vtu\")"
   ]
  },
  {
   "cell_type": "markdown",
   "id": "73",
   "metadata": {},
   "source": [
    "<div class=\"alert alert-block alert-success\">\n",
    "<b>Note:</b>\n",
    "On a écrit ici dans un fichier VTU et non MED, car MEDCoupling n’inclut pas par défaut les services de MED fichier. Bien que l’on écrive au format VTK (*.vtu), MEDCoupling ne dépend pas de VTK.</div>\n"
   ]
  }
 ],
 "metadata": {
  "kernelspec": {
   "display_name": "Python 3 (ipykernel)",
   "language": "python",
   "name": "python3"
  },
  "language_info": {
   "codemirror_mode": {
    "name": "ipython",
    "version": 3
   },
   "file_extension": ".py",
   "mimetype": "text/x-python",
   "name": "python",
   "nbconvert_exporter": "python",
   "pygments_lexer": "ipython3",
   "version": "3.10.12"
  }
 },
 "nbformat": 4,
 "nbformat_minor": 5
}
