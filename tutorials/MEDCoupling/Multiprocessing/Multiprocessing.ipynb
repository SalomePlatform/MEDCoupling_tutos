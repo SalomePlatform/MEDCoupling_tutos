{
 "cells": [
  {
   "cell_type": "markdown",
   "id": "operating-burner",
   "metadata": {},
   "source": [
    "# **MEDCoupling, multiprocessing**\n",
    "\n",
    "Cet exercice fait la supposition de Numpy Scipy sont correctement maîtrisés, sinon voir tutorial MEDCoupling, NumPy et SciPy. On va faire simuler un traitement un peu long (ici l’interpolation d’un maillage de 64000 cells avec un autre de 64000 cells). On va faire le traitement d’abord en séquentiel puis en parallèle pour exploiter les coeurs de notre CPU. Nous allons utiliser le module **`multiprocessing`** pour cela.\n",
    "\n",
    "## **Début de l’implémentation**\n",
    "\n",
    "Pour commencer l’exercice importer le module Python **`medcoupling`**, **`MEDCouplingRemapper`**, **`numpy`**, **`scipy`**, **`multiprocessing`** et **`datetime`** pour chronométrer :"
   ]
  },
  {
   "cell_type": "code",
   "execution_count": null,
   "id": "stuffed-surgeon",
   "metadata": {},
   "outputs": [],
   "source": [
    "import medcoupling as mc\n",
    "import MEDCouplingRemapper as mr\n",
    "import multiprocessing as mp\n",
    "from datetime import datetime\n",
    "from scipy.sparse import csr_matrix"
   ]
  },
  {
   "cell_type": "markdown",
   "id": "reliable-pizza",
   "metadata": {},
   "source": [
    "## **Créer un maillage cartésien régulier 3D avec 40 cells en X, Y et Z**\n",
    "\n",
    "Créons un maillage cartésien 3D m de pas régulier entre 0. et 1. en X, Y et Z :"
   ]
  },
  {
   "cell_type": "code",
   "execution_count": null,
   "id": "smaller-oakland",
   "metadata": {},
   "outputs": [],
   "source": [
    "nbCells = 40\n",
    "arr = mc.DataArrayDouble(nbCells + 1)\n",
    "arr.iota()\n",
    "arr /= nbCells\n",
    "m = mc.MEDCouplingCMesh()\n",
    "m.setCoords(arr, arr, arr)"
   ]
  },
  {
   "cell_type": "markdown",
   "id": "obvious-trust",
   "metadata": {},
   "source": [
    "Traduisons m en non structuré pour que le calcul soit plus long :"
   ]
  },
  {
   "cell_type": "code",
   "execution_count": null,
   "id": "protective-roller",
   "metadata": {},
   "outputs": [],
   "source": [
    "m = m.buildUnstructured()"
   ]
  },
  {
   "cell_type": "markdown",
   "id": "graphic-monroe",
   "metadata": {},
   "source": [
    "Créer une copie m2 de m translatée de la moitié du pas en X, Y et Z"
   ]
  },
  {
   "cell_type": "code",
   "execution_count": null,
   "id": "digital-assurance",
   "metadata": {},
   "outputs": [],
   "source": [
    "m2 = m.deepCopy()\n",
    "t = mc.DataArrayDouble(3)\n",
    "t[:] = 1 / (2 * float(nbCells))\n",
    "m2.translate(t.getValues())"
   ]
  },
  {
   "cell_type": "markdown",
   "id": "premium-wrapping",
   "metadata": {},
   "source": [
    "## **Calculer séquentiellement la matrice d’interpolation M de la projection entre m et m2 en P0P0**\n",
    "\n",
    "m sera considéré comme le maillage source et m2 sera considéré comme le maillage cible. Profitons en pour chronométrer le temps necessaire pour le traitement séquentiel. Utilisons **`MEDCouplingRemapper`** pour cela."
   ]
  },
  {
   "cell_type": "code",
   "execution_count": null,
   "id": "southwest-dubai",
   "metadata": {},
   "outputs": [],
   "source": [
    "remap = mr.MEDCouplingRemapper()\n",
    "strt = datetime.now()\n",
    "assert remap.prepare(m, m2, \"P0P0\") == 1\n",
    "print(\"time in sequential : %s\" % (str(datetime.now() - strt)))"
   ]
  },
  {
   "cell_type": "markdown",
   "id": "public-timber",
   "metadata": {},
   "source": [
    "Stockons la sparse matrix scipy dans **`matSeq`**."
   ]
  },
  {
   "cell_type": "code",
   "execution_count": null,
   "id": "adjacent-iraqi",
   "metadata": {},
   "outputs": [],
   "source": [
    "matSeq = remap.getCrudeCSRMatrix()"
   ]
  },
  {
   "cell_type": "markdown",
   "id": "described-stock",
   "metadata": {},
   "source": [
    "## **Calculer cette même matrice M en parallèle avec multiprocessing.**\n",
    "\n",
    "Commencons par récupérer le nombre de coeur de notre machine."
   ]
  },
  {
   "cell_type": "code",
   "execution_count": null,
   "id": "collect-watershed",
   "metadata": {},
   "outputs": [],
   "source": [
    "nbProc = mp.cpu_count()"
   ]
  },
  {
   "cell_type": "markdown",
   "id": "aerial-comparison",
   "metadata": {},
   "source": [
    "L’idée est de faire une méthode **`work`** prenant un tuple de longueur 2. Le premier élément du tuple est la partie du maillage **`m2 considérée`**. Le 2eme élément donne la correspondance entre les cells id de **`m2Part`** les cells id de **`m2`**.\n",
    "\n",
    "L’idée est d’interpoler **`m`** avec **`m2Part`**.\n",
    "\n",
    "On récupèrera ensuite la matrice sparse **`myMat`** issue de **`m`** avec **`m2Part`**. Ensuite l’idée est de générer une matrice sparse **`mat2`** à partir de **`myMat`** avec les ids globaux de **`m2`**."
   ]
  },
  {
   "cell_type": "code",
   "execution_count": null,
   "id": "yellow-package",
   "metadata": {},
   "outputs": [],
   "source": [
    "def work(inp):\n",
    "    m2Part, partToGlob = inp\n",
    "    myRemap = mr.MEDCouplingRemapper()\n",
    "    assert myRemap.prepare(m, m2Part, \"P0P0\") == 1\n",
    "    myMat = myRemap.getCrudeCSRMatrix()\n",
    "    indptrnew = mc.DataArrayInt(m2.getNumberOfCells())\n",
    "    indptrnew.fillWithZero()\n",
    "    d = mc.DataArrayInt(myMat.indptr).deltaShiftIndex()\n",
    "    indptrnew[partToGlob] = d\n",
    "    indptrnew.computeOffsetsFull()\n",
    "    mat2 = csr_matrix(\n",
    "        (myMat.data, myMat.indices, indptrnew.toNumPyArray()),\n",
    "        shape=(m2.getNumberOfCells(), m.getNumberOfCells()),\n",
    "    )\n",
    "    return mat2"
   ]
  },
  {
   "cell_type": "markdown",
   "id": "fifth-champagne",
   "metadata": {},
   "source": [
    "Il s’agit désormais de faire la liste des inputs à donner aux **`nbProc`** instances de **`work`** qui seront exécutés en parallèle. Appelons cette liste python **`workToDo`** qui sera de longueur **`nbProc`**. On peut se faire aider de **`mc.DataArray.GetSlice`**."
   ]
  },
  {
   "cell_type": "code",
   "execution_count": null,
   "id": "moderate-hundred",
   "metadata": {},
   "outputs": [],
   "source": [
    "workToDo = []\n",
    "for i in list(range(nbProc)):\n",
    "    s = mc.DataArray.GetSlice(slice(0, m2.getNumberOfCells(), 1), i, nbProc)\n",
    "    part = m2[s]\n",
    "    partToGlob = mc.DataArrayInt.Range(s.start, s.stop, s.step)\n",
    "    workToDo.append((part, partToGlob))\n",
    "    pass"
   ]
  },
  {
   "cell_type": "markdown",
   "id": "electoral-edinburgh",
   "metadata": {},
   "source": [
    "On est maintenant prêt pour faire travailler chacun des coeurs indépendamment. Pour ce faire, on crée un **`mp.Pool`** et on assigne à chaque worker le travail **`work`** avec autant de worker que de coeurs. Et chronométrons le tout !"
   ]
  },
  {
   "cell_type": "code",
   "execution_count": null,
   "id": "recognized-chamber",
   "metadata": {},
   "outputs": [],
   "source": [
    "strt = datetime.now()\n",
    "pool = mp.Pool()\n",
    "asyncResult = pool.map_async(work, workToDo)\n",
    "subMatrices = asyncResult.get()\n",
    "print(\"time in parallel (x%d) : %s\" % (nbProc, str(datetime.now() - strt)))"
   ]
  },
  {
   "cell_type": "markdown",
   "id": "developed-notion",
   "metadata": {},
   "source": [
    "<div class=\"alert alert-block alert-success\">\n",
    "<b>Note:</b> A noter la magie ! On a transféré entre le process maitre et les process esclave sans même s’en rendre compte les maillages et les DataArrayInt contenus dans workToDo ! Merci à la pickelisation des objets MEDCoupling :)</div>\n",
    "\n",
    "## **Vérfication**\n",
    "\n",
    "Vérifions que les matrices sont les mêmes ! Sommons **`subMatrices`** (**`matPar`**) et regardons le nombre de non zéros de la différence entre la **`matPar`** et **`matSeq`**."
   ]
  },
  {
   "cell_type": "code",
   "execution_count": null,
   "id": "running-pursuit",
   "metadata": {},
   "outputs": [],
   "source": [
    "matPar = sum(subMatrices)\n",
    "matDelta = matSeq - matPar\n",
    "assert matDelta.nnz == 0"
   ]
  }
 ],
 "metadata": {
  "kernelspec": {
   "display_name": "Python 3",
   "language": "python",
   "name": "python3"
  },
  "language_info": {
   "codemirror_mode": {
    "name": "ipython",
    "version": 3
   },
   "file_extension": ".py",
   "mimetype": "text/x-python",
   "name": "python",
   "nbconvert_exporter": "python",
   "pygments_lexer": "ipython3",
   "version": "3.7.3"
  }
 },
 "nbformat": 4,
 "nbformat_minor": 5
}
