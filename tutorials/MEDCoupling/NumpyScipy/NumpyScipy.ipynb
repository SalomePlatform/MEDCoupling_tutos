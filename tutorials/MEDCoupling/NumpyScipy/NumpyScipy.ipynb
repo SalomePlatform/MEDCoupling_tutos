{
 "cells": [
  {
   "cell_type": "markdown",
   "id": "bound-spanish",
   "metadata": {},
   "source": [
    "# **MEDCoupling, NumPy et SciPy**\n",
    "\n",
    "NumPy est un package additionnel de python qui permet de manipuler des tableaux de manière optimisée. Il s’agit d’un prérequis optionnel de MEDCoupling.\n",
    "\n",
    "NumPy est une passerelle vers le HPC Python (multiprocessing, pyCUDA, SciPy…) et offre de puissantes fonctions de calcul vectoriel. C’est pourquoi MEDCoupling offre des liens avec NumPy. Un bon point de départ pour la découverte de NumPy est le <a href=\"https://numpy.org/doc/stable/user/quickstart.html\" target=\"_top\">Tutorial NumPy</a>\n",
    "\n",
    "SciPy est aussi un package de python nécessitant NumPy. Il s’agit également d’un prérequis optionnel de MEDCoupling. SciPy offre des services d’algèbre linéaire, Fast Fourrier Transform, etc …\n",
    "\n",
    "Nous allons ici faire quelques petites manipulations pour voir ce lien entre MEDCoupling et NumPy / SciPy.\n",
    "\n",
    "## **Début de l’implémentation**\n",
    "\n",
    "Pour commencer l’exercice importer le module Python `medcoupling`:"
   ]
  },
  {
   "cell_type": "code",
   "execution_count": null,
   "id": "focal-journalist",
   "metadata": {},
   "outputs": [],
   "source": [
    "import medcoupling as mc"
   ]
  },
  {
   "cell_type": "markdown",
   "id": "brief-loading",
   "metadata": {},
   "source": [
    "NumPy est un prérequis optionnel, vérifions que nous en bénéficions bien :"
   ]
  },
  {
   "cell_type": "code",
   "execution_count": null,
   "id": "experimental-disposition",
   "metadata": {},
   "outputs": [],
   "source": [
    "assert mc.MEDCouplingHasNumPyBindings()"
   ]
  },
  {
   "cell_type": "markdown",
   "id": "adequate-ceramic",
   "metadata": {},
   "source": [
    "Nous pouvons alors importer NumPy sans problème:"
   ]
  },
  {
   "cell_type": "code",
   "execution_count": null,
   "id": "peaceful-belfast",
   "metadata": {},
   "outputs": [],
   "source": [
    "import numpy as np"
   ]
  },
  {
   "cell_type": "markdown",
   "id": "independent-implementation",
   "metadata": {},
   "source": [
    "## **Convertir un DataArray en tableau NumPy et vice versa**\n",
    "\n",
    "Créer une instance de `DataArrayDouble` ayant une composante et 12 tuples. Et assigner 4. à tous les tuples."
   ]
  },
  {
   "cell_type": "code",
   "execution_count": null,
   "id": "bulgarian-turner",
   "metadata": {},
   "outputs": [],
   "source": [
    "arr = mc.DataArrayDouble(12)\n",
    "arr[:] = 4.0"
   ]
  },
  {
   "cell_type": "markdown",
   "id": "sunrise-processing",
   "metadata": {},
   "source": [
    "Créons maintenant un tableau NumPy reposant sur les mêmes données que `arr`."
   ]
  },
  {
   "cell_type": "code",
   "execution_count": null,
   "id": "american-argentina",
   "metadata": {},
   "outputs": [],
   "source": [
    "nparr = arr.toNumPyArray()"
   ]
  },
  {
   "cell_type": "markdown",
   "id": "flying-healthcare",
   "metadata": {},
   "source": [
    "Et afficher `nparr`."
   ]
  },
  {
   "cell_type": "code",
   "execution_count": null,
   "id": "lightweight-playback",
   "metadata": {},
   "outputs": [],
   "source": [
    "print(nparr.__repr__())\n",
    "print(nparr.tolist())"
   ]
  },
  {
   "cell_type": "markdown",
   "id": "administrative-farming",
   "metadata": {},
   "source": [
    "Mais est ce qu’on ne nous a pas mystifié ? `arr`** et **`nparr` partagent-ils le même bloc mémoire ? \n",
    "\n",
    "Pour le vérifier assignons 7.0 un tuple sur 2 avec `nparr`** et vérifions que **`arr`** et **`nparr` sont simultanément modifiés."
   ]
  },
  {
   "cell_type": "code",
   "execution_count": null,
   "id": "royal-console",
   "metadata": {},
   "outputs": [],
   "source": [
    "nparr[::2] = 7.0\n",
    "print(nparr.__repr__())\n",
    "print(arr.__repr__())"
   ]
  },
  {
   "cell_type": "markdown",
   "id": "static-advisory",
   "metadata": {},
   "source": [
    "C’est rigolo ! Mais si je détruis `arr`** (le premier à avoir alloué la mémoire) est-ce que **`nparr` est tué aussi ? Ne risque-t-on pas le SIGSEGV ? Testons :"
   ]
  },
  {
   "cell_type": "code",
   "execution_count": null,
   "id": "rapid-viking",
   "metadata": {},
   "outputs": [],
   "source": [
    "del arr\n",
    "import gc\n",
    "\n",
    "gc.collect()  # Make sure the object has been deleted\n",
    "print(nparr.__repr__())"
   ]
  },
  {
   "cell_type": "markdown",
   "id": "ordinary-discount",
   "metadata": {},
   "source": [
    "OK super. Mais inversement puis je faire une instance de `DataArrayDouble`** avec **`nparr`** ? Oui, en utilisant le constructeur qui prend un **`nparray` en entrée. Et afficher le contenu.:"
   ]
  },
  {
   "cell_type": "code",
   "execution_count": null,
   "id": "lonely-profile",
   "metadata": {},
   "outputs": [],
   "source": [
    "arr2 = mc.DataArrayDouble(nparr)\n",
    "print(arr2.__repr__())"
   ]
  },
  {
   "cell_type": "markdown",
   "id": "desirable-string",
   "metadata": {},
   "source": [
    "Modifions `nparr` en assignant 5.0 pour tous les tuples et vérifier que les 2 représentations ont bien été modifiées simultanément.:"
   ]
  },
  {
   "cell_type": "code",
   "execution_count": null,
   "id": "descending-writing",
   "metadata": {},
   "outputs": [],
   "source": [
    "nparr[:] = 5.0\n",
    "print(nparr.__repr__())\n",
    "print(arr2.__repr__())"
   ]
  },
  {
   "cell_type": "markdown",
   "id": "mathematical-block",
   "metadata": {},
   "source": [
    "Nous en profitons pour montrer un petit service pratique avec NumPy, à savoir, l’écriture optimisée. Ecrivons le contenu binaire de `nparr` dans un fichier."
   ]
  },
  {
   "cell_type": "code",
   "execution_count": null,
   "id": "prescription-sunglasses",
   "metadata": {},
   "outputs": [],
   "source": [
    "f = open(\"toto.data\", \"w+b\")\n",
    "a = np.memmap(f, dtype=\"float64\", mode=\"w+\", offset=0, shape=nparr.shape)\n",
    "a[:] = nparr[:]\n",
    "f.flush()"
   ]
  },
  {
   "cell_type": "markdown",
   "id": "basic-broad",
   "metadata": {},
   "source": [
    "Relisons “toto.data”."
   ]
  },
  {
   "cell_type": "code",
   "execution_count": null,
   "id": "broad-painting",
   "metadata": {},
   "outputs": [],
   "source": [
    "f2 = open(\"toto.data\", \"r+b\")\n",
    "b = np.memmap(f2, dtype=\"float64\", mode=\"r\", offset=0, shape=(12,))"
   ]
  },
  {
   "cell_type": "markdown",
   "id": "sexual-symbol",
   "metadata": {},
   "source": [
    "Pour rigoler, assignons 3.14 à `a`, flushons et relisons."
   ]
  },
  {
   "cell_type": "code",
   "execution_count": null,
   "id": "blank-drain",
   "metadata": {},
   "outputs": [],
   "source": [
    "a[:] = 3.14\n",
    "f.flush()\n",
    "b = np.memmap(f2, dtype=\"float64\", mode=\"r\", offset=0, shape=(12,))\n",
    "print(b.__repr__())"
   ]
  },
  {
   "cell_type": "markdown",
   "id": "cellular-baseball",
   "metadata": {},
   "source": [
    "On voit donc que le passage de MEDCoupling à NumPy se fait directement et de manière optimisée. Donc ca peut valoir le coup ! Tout ce qui vient d’être montré marche aussi avec des `DataArrayInt`. Regardons la suite.\n",
    "\n",
    "## **Jouons avec SciPy**\n",
    "\n",
    "Nous allons créer un maillage non conforme. Le but sera de trouver la peau de ce maillage sans les surfaces non conformes.\n",
    "\n",
    "Nous allons faire cela en jouant avec les matrices creuses de SciPy (sparse matrix). Nous interpolons ce maillage non conforme sur lui même, ce qui devrait donner une matrice diagonale si le maillage était conforme.\n",
    "\n",
    "Avant nous vérifions que l’on peut jouer avec SciPy !"
   ]
  },
  {
   "cell_type": "code",
   "execution_count": null,
   "id": "dependent-shoot",
   "metadata": {},
   "outputs": [],
   "source": [
    "assert mc.MEDCouplingHasSciPyBindings()"
   ]
  },
  {
   "cell_type": "markdown",
   "id": "upset-pitch",
   "metadata": {},
   "source": [
    "Pour le moment créons un maillage non conforme. Nous collons simplement deux maillages structurés avec des discrétisations spatiales différentes.:"
   ]
  },
  {
   "cell_type": "code",
   "execution_count": null,
   "id": "superb-chemical",
   "metadata": {},
   "outputs": [],
   "source": [
    "c1 = mc.MEDCouplingCMesh()\n",
    "arr1 = mc.DataArrayDouble(7)\n",
    "arr1.iota()\n",
    "c1.setCoords(arr1, arr1, arr1)\n",
    "c2 = mc.MEDCouplingCMesh()\n",
    "arr2 = mc.DataArrayDouble(9)\n",
    "arr2.iota()\n",
    "arr2 *= 6.0 / 8.0\n",
    "c2.setCoords(arr2, arr2, arr2)"
   ]
  },
  {
   "cell_type": "markdown",
   "id": "wrong-hours",
   "metadata": {},
   "source": [
    "Dégénérons `c1`** et **`c2`** en non-structuré, une translation de **`[6.,0.,0.]`** de **`c2`, et en faisant l’agrégation des deux, c’est dans la poche."
   ]
  },
  {
   "cell_type": "code",
   "execution_count": null,
   "id": "finnish-negotiation",
   "metadata": {},
   "outputs": [],
   "source": [
    "c1 = c1.buildUnstructured()\n",
    "c2 = c2.buildUnstructured()\n",
    "c2.translate([6.0, 0.0, 0.0])\n",
    "c = mc.MEDCouplingUMesh.MergeUMeshes([c1, c2])"
   ]
  },
  {
   "cell_type": "markdown",
   "id": "employed-spiritual",
   "metadata": {},
   "source": [
    "Attention des noeuds sont dupliqués, il faut invoquer `mergeNodes()`."
   ]
  },
  {
   "cell_type": "code",
   "execution_count": null,
   "id": "radio-walter",
   "metadata": {},
   "outputs": [],
   "source": [
    "c.mergeNodes(1e-12)"
   ]
  },
  {
   "cell_type": "markdown",
   "id": "fresh-change",
   "metadata": {},
   "source": [
    "Récupérons la peau et les faces non conformes. Ca nous savons faire, car nous avons fait les exercices avant :-)"
   ]
  },
  {
   "cell_type": "code",
   "execution_count": null,
   "id": "contrary-latvia",
   "metadata": {},
   "outputs": [],
   "source": [
    "skinAndNCFaces = c.computeSkin()"
   ]
  },
  {
   "cell_type": "markdown",
   "id": "boolean-sympathy",
   "metadata": {},
   "source": [
    "Retirons les noeuds non utilisés. Cette étape n’est pas obligatoire."
   ]
  },
  {
   "cell_type": "code",
   "execution_count": null,
   "id": "gross-essence",
   "metadata": {},
   "outputs": [],
   "source": [
    "skinAndNCFaces.zipCoords()"
   ]
  },
  {
   "cell_type": "markdown",
   "id": "embedded-control",
   "metadata": {},
   "source": [
    "Voici à quoi cela ressemble:\n",
    "\n",
    "<img src=\"skinandcells.png\" style=\"width:500px;\">\n",
    "\n",
    "OK maintenant on va séparer les cellules de bord des cellules non conformes grâce au `MEDCouplingRemapper`**. Interpolons **`skinAndNCFaces` sur lui-même. On acceptera un écart entre face de 1e-12 et un warping max de 0.01."
   ]
  },
  {
   "cell_type": "code",
   "execution_count": null,
   "id": "alien-raise",
   "metadata": {},
   "outputs": [],
   "source": [
    "from MEDCouplingRemapper import MEDCouplingRemapper\n",
    "\n",
    "rem = MEDCouplingRemapper()\n",
    "rem.setMaxDistance3DSurfIntersect(1e-12)\n",
    "rem.setMinDotBtwPlane3DSurfIntersect(0.99)\n",
    "rem.prepare(skinAndNCFaces, skinAndNCFaces, \"P0P0\")"
   ]
  },
  {
   "cell_type": "markdown",
   "id": "filled-calculator",
   "metadata": {},
   "source": [
    "Récupérer la matrice creuse au format CSR du remapper."
   ]
  },
  {
   "cell_type": "code",
   "execution_count": null,
   "id": "selective-kernel",
   "metadata": {},
   "outputs": [],
   "source": [
    "mat = rem.getCrudeCSRMatrix()"
   ]
  },
  {
   "cell_type": "markdown",
   "id": "appropriate-liabilities",
   "metadata": {},
   "source": [
    "<div class=\"alert alert-block alert-success\">\n",
    "<b>Note:</b> Le format CSR est un format de stockage efficace des matrices creuses : Sparse matrix CSR</div>\n",
    "\n",
    "Comme nous avons bien suivi les exos sur NumPy, grâce au NumPy array `mat.indptr`** on peut récupérer l’ensemble des lignes de la matrice **`mat` ayant exactement un élément non nul."
   ]
  },
  {
   "cell_type": "code",
   "execution_count": null,
   "id": "going-baker",
   "metadata": {},
   "outputs": [],
   "source": [
    "indptr = mc.DataArrayInt(mat.indptr)\n",
    "indptr2 = indptr.deltaShiftIndex()\n",
    "cellIdsOfSkin = indptr2.findIdsEqual(1)"
   ]
  },
  {
   "cell_type": "markdown",
   "id": "focal-rwanda",
   "metadata": {},
   "source": [
    "C’est presque fini. Créer le sous maillage contenant uniquement la peau et l’écrire dans un fichier VTK ou MED pour le visualiser avec ParaView."
   ]
  },
  {
   "cell_type": "code",
   "execution_count": null,
   "id": "average-choir",
   "metadata": {},
   "outputs": [],
   "source": [
    "skin = skinAndNCFaces[cellIdsOfSkin]\n",
    "skin.writeVTK(\"skin.vtu\")"
   ]
  },
  {
   "cell_type": "markdown",
   "id": "lesser-calendar",
   "metadata": {},
   "source": [
    "<div class=\"alert alert-block alert-success\">\n",
    "<b>Note:</b> skin contient des noeuds orphelins, on peut les retirer avec skin.zipCoords().</div>\n",
    "\n",
    "Et voilà ce que cela donne :\n",
    "\n",
    "<img src=\"skinonly.png\" style=\"width:500px;\">"
   ]
  }
 ],
 "metadata": {
  "kernelspec": {
   "display_name": "Python 3",
   "language": "python",
   "name": "python3"
  },
  "language_info": {
   "codemirror_mode": {
    "name": "ipython",
    "version": 3
   },
   "file_extension": ".py",
   "mimetype": "text/x-python",
   "name": "python",
   "nbconvert_exporter": "python",
   "pygments_lexer": "ipython3",
   "version": "3.7.3"
  }
 },
 "nbformat": 4,
 "nbformat_minor": 5
}
