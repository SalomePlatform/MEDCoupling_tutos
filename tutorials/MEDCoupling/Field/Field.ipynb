{
 "cells": [
  {
   "cell_type": "markdown",
   "id": "united-exclusive",
   "metadata": {},
   "source": [
    "# **Manipuler des champs de double**\n",
    "\n",
    "Les champs dans MEDCoupling ont comme support un unique maillage, de dimension fixée, et bien défini. Cela semble trivial mais c’est en fait une différence majeure avec la notion de champ dans MED fichier, qui elle est beaucoup plus permissive.\n",
    "\n",
    "Les champs sont utiles pour :\n",
    "\n",
    "- stocker des valeurs d’une grandeur physique relative au problème traité, mais aussi\n",
    "- des services de haut niveau où l’interaction avec les maillages est requise comme par exemple `getValueOn()`, `getValueOnMulti()`, `integral()`, `getMeasureField`, `normL1()`, `normL2()`, `fillFromAnalytic()`, … qui calculent toutes des valeurs en lien avec le maillage (par exemple le volume des cellules)\n",
    "- expliciter précisément les informations échangées entre les différents codes lors de couplage.\n",
    "\n",
    "Pour information, l’implémentation de `MEDCouplingFieldDouble` est relativement petite car cette classe délègue la très large majorité de ses traitements à des instances de classes aggrégées comme `MEDCouplingMesh`, `DataArrayDouble`, et `MEDCouplingSpatialDiscretization`. La classe `MEDCouplingFieldDouble` permet d’assurer la cohérence entre tous ces éléments.\n",
    "\n",
    "Il est souvent possible et même parfois recommandé de manipuler les tableaux (un `DataArrayDouble`) et/ou le maillage d’une instance de `MEDCouplingFieldDouble` directement.\n",
    "\n",
    "## **Objectifs**\n",
    "\n",
    "Cet exercice met l’accent sur la relation entre le maillage et les valeurs d’un champ.\n",
    "\n",
    "- Créer un champ\n",
    "- Agréger des champs\n",
    "- Construire une sous-partie d’un champ\n",
    "- Renuméroter les entités d’un champ\n",
    "- Comparer 2 champs venant de 2 sources différentes\n",
    "- Evaluation d’un champ sur un ensemble de points\n",
    "- Exploser un champ\n",
    "\n",
    "## **Début de l’implementation**\n",
    "\n",
    "Importer le module Python `medcoupling`."
   ]
  },
  {
   "cell_type": "code",
   "execution_count": null,
   "id": "under-oakland",
   "metadata": {},
   "outputs": [],
   "source": [
    "import medcoupling as mc"
   ]
  },
  {
   "cell_type": "markdown",
   "id": "thorough-float",
   "metadata": {},
   "source": [
    "Créer un `MEDCouplingUMesh` à partir d’un maillage 3D cartésien. Chaque direction contiendra 10 cells et 11 nodes. Le `MEDCouplingUMesh` résultant contiendra ainsi 1000 cells."
   ]
  },
  {
   "cell_type": "code",
   "execution_count": null,
   "id": "turned-token",
   "metadata": {},
   "outputs": [],
   "source": [
    "xarr = mc.DataArrayDouble.New(11, 1)\n",
    "xarr.iota(0.0)  # Generate s, s+1, s+2, ... with a given start value s\n",
    "cmesh = mc.MEDCouplingCMesh.New()\n",
    "cmesh.setCoords(xarr, xarr, xarr)\n",
    "mesh = cmesh.buildUnstructured()"
   ]
  },
  {
   "cell_type": "markdown",
   "id": "exposed-aircraft",
   "metadata": {},
   "source": [
    "<div class=\"alert alert-block alert-success\">\n",
    "<b>Note:</b> La méthode MEDCouplingMesh.buildUnstructured() est très utile pour construire rapidement un maillage non structuré afin de tester quelque chose.</div>\n",
    "\n",
    "Afin de mettre en évidence le problème des types géométriques multiples, convertir en polyhèdres les cellules d’identifiant pair"
   ]
  },
  {
   "cell_type": "code",
   "execution_count": null,
   "id": "random-massage",
   "metadata": {},
   "outputs": [],
   "source": [
    "mesh.convertToPolyTypes(mc.DataArrayInt.Range(0, mesh.getNumberOfCells(), 2))"
   ]
  },
  {
   "cell_type": "markdown",
   "id": "opened-present",
   "metadata": {},
   "source": [
    "## **Création d’un champ**\n",
    "\n",
    "Créer un champ scalaire (une seule composante) aux cellules (P0) appelé “MyField” en appliquant la fonction analytique suivante `(x-5.)*(x-5.)+(y-5.)*(y-5.)+(z-5.)*(z-5.)`, où `(x, y, z)` représente implicitement les coordonnées du barycentre d’une cellule. Pour cela, deux possiblités :\n",
    "\n",
    "> Directement en appelant `fillFromAnalytic()` sur un maillage"
   ]
  },
  {
   "cell_type": "code",
   "execution_count": null,
   "id": "alien-roommate",
   "metadata": {},
   "outputs": [],
   "source": [
    "f = mesh.fillFromAnalytic(\n",
    "    mc.ON_CELLS, 1, \"(x-5.)*(x-5.)+(y-5.)*(y-5.)+(z-5.)*(z-5.)\"\n",
    ")  # 1 means that the field should have one component\n",
    "f.setName(\"MyField\")"
   ]
  },
  {
   "cell_type": "markdown",
   "id": "blocked-tract",
   "metadata": {},
   "source": [
    "> Ou en créant au préalable un champ non initialisé, et en appliquant `fillFromAnalytic()` sur cette instance de `MEDCouplingFieldDouble`"
   ]
  },
  {
   "cell_type": "code",
   "execution_count": null,
   "id": "governmental-puzzle",
   "metadata": {},
   "outputs": [],
   "source": [
    "f2 = mc.MEDCouplingFieldDouble(mc.ON_CELLS, mc.ONE_TIME)\n",
    "f2.setMesh(mesh)\n",
    "f2.setName(\"MyField2\")\n",
    "f2.fillFromAnalytic(\n",
    "    1, \"(x-5.)*(x-5.)+(y-5.)*(y-5.)+(z-5.)*(z-5.)\"\n",
    ")  # 1 means that the field should have one component"
   ]
  },
  {
   "cell_type": "markdown",
   "id": "yellow-classroom",
   "metadata": {},
   "source": [
    "Comparer les deux champs : comparer `f` et `f2` avec une précision de 1e-12 sur les coordonnées et de 1e-13 sur les valeurs."
   ]
  },
  {
   "cell_type": "code",
   "execution_count": null,
   "id": "hawaiian-relations",
   "metadata": {},
   "outputs": [],
   "source": [
    "print(\"Are f and f2 equal?\", f.isEqualWithoutConsideringStr(f2, 1e-12, 1e-13))"
   ]
  },
  {
   "cell_type": "markdown",
   "id": "engaged-waters",
   "metadata": {},
   "source": [
    "<div class=\"alert alert-block alert-success\">\n",
    "<b>Note:</b> Le WithoutConsideringStr dans le nom de la méthode précédente indique que les noms des champs ne seront pas comparés. On retrouve ce suffixe dans d’autres méthodes MEDCoupling.</div>\n",
    "\n",
    "## **Construire une sous-partie d’un champ**\n",
    "\n",
    "Récupérer dans une variable `ids1` la liste des identifiants de cellules pour lesquelles la valeur du champ est dans le range [0.0,5.0]. Utiliser pour cela la méthode `DataArrayDouble.findIdsInRange()`. Avec ce résultat, construire la sous-partie `fPart1` du champ f."
   ]
  },
  {
   "cell_type": "code",
   "execution_count": null,
   "id": "dimensional-tampa",
   "metadata": {},
   "outputs": [],
   "source": [
    "da1 = (\n",
    "    f.getArray()\n",
    ")  # a DataArrayDouble, which is a direct reference (not a copy) of the field's values\n",
    "ids1 = da1.findIdsInRange(0.0, 5.0)\n",
    "fPart1 = f.buildSubPart(ids1)\n",
    "fPart1.writeVTK(\"ExoField_fPart1.vtu\")"
   ]
  },
  {
   "cell_type": "markdown",
   "id": "mighty-flexibility",
   "metadata": {},
   "source": [
    "<img src=\"FieldDouble1.png\" style=\"width:500px;\">\n",
    "\n",
    "Sélectionner la partie `fPart2` du champ `f` dont toutes les valeurs de tuples sont dans `[50.,+infinity)`."
   ]
  },
  {
   "cell_type": "code",
   "execution_count": null,
   "id": "injured-doctrine",
   "metadata": {},
   "outputs": [],
   "source": [
    "ids2 = f.getArray().findIdsInRange(50.0, 1.0e300)\n",
    "fPart2 = f.buildSubPart(ids2)"
   ]
  },
  {
   "cell_type": "markdown",
   "id": "official-selling",
   "metadata": {},
   "source": [
    "Ce genre de technique permet d’extraire facilement les parties d’un champ relatives à un groupe de mailles par exemple.\n",
    "\n",
    "## **Renuméroter les entités d’un champ**\n",
    "\n",
    "La partie `fPart1` générée est valide d’un point de vue de MEDCoupling. Mais elle n’est pas valide d’un point de vue de MED fichier. Une renumérotation s’impose dans l’hypothèse de stocker ce champs dans un fichier MED afin d’ordonner les cellules par type géométrique.\n",
    "\n",
    "L’idée est d’utiliser les deux méthodes `MEDCouplingUMesh.sortCellsInMEDFileFrmt()` et `DataArrayDouble.renumberInPlace()` pour renuméroter manuellement une copie de `fPart1` :"
   ]
  },
  {
   "cell_type": "code",
   "execution_count": null,
   "id": "level-broadcasting",
   "metadata": {},
   "outputs": [],
   "source": [
    "fPart1Cpy = fPart1.deepCopy()\n",
    "o2n = fPart1Cpy.getMesh().sortCellsInMEDFileFrmt()\n",
    "fPart1Cpy.getArray().renumberInPlace(o2n)"
   ]
  },
  {
   "cell_type": "markdown",
   "id": "flexible-ethiopia",
   "metadata": {},
   "source": [
    "`fPart1Cpy` est désormais normalisé pour être stocké dans un fichier MED (ce que nous verrons plus loin)\n",
    "\n",
    "Vérifier que `fPart1Cpy` et `fPart1` sont les mêmes à une permutation près (`MEDCouplingFieldDouble.substractInPlaceDM()`)"
   ]
  },
  {
   "cell_type": "code",
   "execution_count": null,
   "id": "better-frost",
   "metadata": {},
   "outputs": [],
   "source": [
    "fPart1Cpy.substractInPlaceDM(fPart1, 12, 1e-12)\n",
    "fPart1Cpy.getArray().abs()\n",
    "print(\"Equal field ? %s\" % (fPart1Cpy.getArray().accumulate()[0] < 1e-12))"
   ]
  },
  {
   "cell_type": "markdown",
   "id": "advised-mention",
   "metadata": {},
   "source": [
    "<div class=\"alert alert-block alert-success\">\n",
    "<b>Note:</b> La renumérotation effectuée ici représente en fait d’un cas très particulier d’interpolation. Effectivement l’hypothèse est faite que les supports de fPart1 et fPart1Cpy sont égaux à une permutation de cellule et/ou noeuds.</div>\n",
    "\n",
    "## **Agréger des champs**\n",
    "\n",
    "Agréger `fPart1` et `fPart2` (utiliser `MEDCouplingFieldDouble.MergeFields()`). Et mettre le résultat de l’agrégation dans `fPart12`."
   ]
  },
  {
   "cell_type": "code",
   "execution_count": null,
   "id": "scenic-grove",
   "metadata": {},
   "outputs": [],
   "source": [
    "fPart12 = mc.MEDCouplingFieldDouble.MergeFields([fPart1, fPart2])\n",
    "fPart12.writeVTK(\"ExoField_fPart12.vtu\")"
   ]
  },
  {
   "cell_type": "markdown",
   "id": "silver-brick",
   "metadata": {},
   "source": [
    "<div class=\"alert alert-block alert-success\">\n",
    "<b>Note:</b> La méthode MEDCouplingFieldDouble.MergeFields() devrait vraiment se nommer MEDCouplingFieldDouble.AggregateFields() …</div>\n",
    "\n",
    "<img src=\"FieldDouble2.png\" style=\"width:500px;\">\n",
    "\n",
    "## **Evaluation d’un champ en des points donnés de l’espace**\n",
    "\n",
    "Evaluer la valeur du champ `fPart12` calculé précédemment sur les barycentres des cellules de son maillage (variable `bary`) et mettre le résultat dans `arr1`. Utiliser pour cela les méthodes `MEDCouplingFieldDouble.getValueOnMulti()` et `MEDCouplingMesh.computeCellCenterOfMass()`.\n",
    "\n",
    "De manière similaire, évaluer ensuite directement le champ `f` en utilisant la même liste de points que précédemment (`bary`) et mettre le résultat dans `arr2`.\n",
    "\n",
    "Vérifier ensuite que `arr1` et `arr2` sont bien égaux:"
   ]
  },
  {
   "cell_type": "code",
   "execution_count": null,
   "id": "living-designer",
   "metadata": {},
   "outputs": [],
   "source": [
    "bary = fPart12.getMesh().computeCellCenterOfMass()\n",
    "arr1 = fPart12.getValueOnMulti(bary)\n",
    "arr2 = f.getValueOnMulti(bary)\n",
    "delta = arr1 - arr2\n",
    "delta.abs()\n",
    "print(\"Is field evaluation matching?\", (delta.accumulate()[0] < 1e-12))"
   ]
  },
  {
   "cell_type": "markdown",
   "id": "material-supply",
   "metadata": {},
   "source": [
    "<div class=\"alert alert-block alert-success\">\n",
    "<b>Note:</b> Dans ce contexte, et pour un champ aux cellules (P0) par exemple, “évaluer” en un point signifie retourner la valeur de la cellule contenant le point donné. Pour les champs aux noeuds (P1), les cellules doivent être de types simples (triangles, tétraèdres) et une interpolation linéaire est alors utilisée.</div>\n",
    "\n",
    "<div class=\"alert alert-block alert-success\">\n",
    "<b>Note:</b> Cette technique peut être utilisée pour juger rapidement de la qualité d’une interpolation.</div>\n",
    "\n",
    "## **Opérations sur les champs**\n",
    "\n",
    "Calculer l’intégrale du champ `fPart12` sur le maillage, et la retrouver d’une autre manière en utilisant la méthode `DataArrayDouble.accumulate()` sur le tableau de valeurs de ce champ. On rappelle que, vu le maillage simplifié en jeu, les cellules ont toutes un volume unité."
   ]
  },
  {
   "cell_type": "code",
   "execution_count": null,
   "id": "native-processor",
   "metadata": {},
   "outputs": [],
   "source": [
    "integ1 = fPart12.integral(0, True)\n",
    "integ1_bis = fPart12.getArray().accumulate()[0]\n",
    "print(\"First integral matching ?\", (abs(integ1 - integ1_bis) < 1e-8))"
   ]
  },
  {
   "cell_type": "markdown",
   "id": "level-desert",
   "metadata": {},
   "source": [
    "Ensuite appliquer une homotétie de facteur 1.2 centrée en [0.,0.,0.] sur le support de `fPart12` (c’est-à-dire son maillage). Quelle est alors la nouvelle valeur de l’intégrale ?"
   ]
  },
  {
   "cell_type": "code",
   "execution_count": null,
   "id": "dependent-photograph",
   "metadata": {},
   "outputs": [],
   "source": [
    "fPart12.getMesh().scale([0.0, 0.0, 0.0], 1.2)\n",
    "integ2 = fPart12.integral(0, True)\n",
    "print(\"Second integral matching ?\", (abs(integ2 - integ1_bis * 1.2 * 1.2 * 1.2) < 1e-8))"
   ]
  },
  {
   "cell_type": "markdown",
   "id": "organic-brass",
   "metadata": {},
   "source": [
    "## **Exploser un champ - Vecteurs de déplacement**\n",
    "\n",
    "Nous allons maintenant créer un nouveau maillage représentant l’éclaté du maillage initial.\n",
    "\n",
    "Partant du maillage `mesh` créer un champ vectoriel aux cellules `fVec` ayant 3 composantes représentant le vecteur déplacement entre le point [5.,5.,5.] et le barycentre de chaque cellule du maillage. Utiliser la méthode `MEDCouplingMesh.fillFromAnalytic()` :"
   ]
  },
  {
   "cell_type": "code",
   "execution_count": null,
   "id": "social-google",
   "metadata": {},
   "outputs": [],
   "source": [
    "fVec = mesh.fillFromAnalytic(mc.ON_CELLS, 3, \"(x-5.)*IVec+(y-5.)*JVec+(z-5.)*KVec\")"
   ]
  },
  {
   "cell_type": "markdown",
   "id": "celtic-accordance",
   "metadata": {},
   "source": [
    "<div class=\"alert alert-block alert-success\">\n",
    "<b>Note:</b> Les identifiants spéciaux IVec, JVec et KVec représentent les vecteurs unitaires du repère.</div>\n",
    "\n",
    "Créer ensuite une réduction de `fVec` (nommée `fVecPart1`) sur les cellules `ids1` précédemment obtenues :"
   ]
  },
  {
   "cell_type": "code",
   "execution_count": null,
   "id": "regulated-definition",
   "metadata": {},
   "outputs": [],
   "source": [
    "fVecPart1 = fVec.buildSubPart(ids1)\n",
    "fVecPart1.setName(\"fVecPart1\")"
   ]
  },
  {
   "cell_type": "markdown",
   "id": "chinese-situation",
   "metadata": {},
   "source": [
    "Construire le champ scalaire `fPart1Exploded` ayant les mêmes valeurs que `fPart1` mais reposant sur un maillage eclaté par rapport à celui de `fPart1.getMesh()`. Pour exploser `fPart1.getMesh()` utiliser le champ de déplacement vectoriel `fVecPart1` afin d’appliquer à chaque cellule la translation associée."
   ]
  },
  {
   "cell_type": "code",
   "execution_count": null,
   "id": "continuous-international",
   "metadata": {},
   "outputs": [],
   "source": [
    "cells = fPart1.getMesh().getNumberOfCells() * [None]\n",
    "\n",
    "for icell, vec in enumerate(fVecPart1.getArray()):\n",
    "    m = fPart1.getMesh()[[icell]]\n",
    "    m.zipCoords()  # Not mandatory but saves memory\n",
    "    m.translate(vec)\n",
    "    cells[icell] = m\n",
    "    pass\n",
    "\n",
    "meshFVecPart1Exploded = mc.MEDCouplingUMesh.MergeUMeshes(cells)\n",
    "fPart1.setMesh(meshFVecPart1Exploded)\n",
    "fPart1.writeVTK(\"ExoField_fPart1_explo.vtu\")"
   ]
  },
  {
   "cell_type": "markdown",
   "id": "framed-mercury",
   "metadata": {},
   "source": [
    "Et voilà ce que vous devriez obtenir:\n",
    "\n",
    "<img src=\"FieldDouble3.png\" style=\"width:500px;\">"
   ]
  }
 ],
 "metadata": {
  "kernelspec": {
   "display_name": "Python 3",
   "language": "python",
   "name": "python3"
  },
  "language_info": {
   "codemirror_mode": {
    "name": "ipython",
    "version": 3
   },
   "file_extension": ".py",
   "mimetype": "text/x-python",
   "name": "python",
   "nbconvert_exporter": "python",
   "pygments_lexer": "ipython3",
   "version": "3.7.3"
  }
 },
 "nbformat": 4,
 "nbformat_minor": 5
}
