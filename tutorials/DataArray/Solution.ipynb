{
 "cells": [
  {
   "cell_type": "code",
   "execution_count": 1,
   "id": "efficient-auction",
   "metadata": {},
   "outputs": [
    {
     "name": "stdout",
     "output_type": "stream",
     "text": [
      "[3.0, 0.0, 1.5000000000000004, 2.598076211353316, -1.4999999999999993, 2.598076211353316, -3.0, 3.6739403974420594e-16, -1.5000000000000013, -2.598076211353315, 1.499999999999998, -2.598076211353317]\n",
      "Name of double array : \"\"\n",
      "Number of components : 2\n",
      "Info of these components : \"X [m]\"   \"Y [m]\"   \n",
      "Number of tuples : 6\n",
      "Internal memory facts : 12/12\n",
      "Data content :\n",
      "Tuple #0 : 3 0 \n",
      "Tuple #1 : 1.5000000000000004 2.598076211353316 \n",
      "Tuple #2 : -1.4999999999999993 2.598076211353316 \n",
      "Tuple #3 : -3 3.6739403974420594e-16 \n",
      "Tuple #4 : -1.5000000000000013 -2.5980762113533151 \n",
      "Tuple #5 : 1.499999999999998 -2.5980762113533169 \n",
      "\n",
      "Uniform array? True\n",
      "Name of int array : \"\"\n",
      "Number of components : 1\n",
      "Info of these components : \"\"   \n",
      "Number of tuples : 3\n",
      "Internal memory facts : 3/3\n",
      "Data content :\n",
      "Tuple #0 : 0 \n",
      "Tuple #1 : 8 \n",
      "Tuple #2 : 16 \n",
      "\n",
      "Have I got the right number of tuples?\n",
      "myNewNbOfTuples = 24, newNbOfTuples = 24\n",
      "Are d3 and d3_bis equal ? True\n",
      "Mesh dimension is 2\n",
      "Spatial dimension is 2\n"
     ]
    },
    {
     "data": {
      "text/plain": [
       "'My7hexagons.vtu'"
      ]
     },
     "execution_count": 1,
     "metadata": {},
     "output_type": "execute_result"
    }
   ],
   "source": [
    "import medcoupling as mc\n",
    "import math\n",
    "# Building the coordinates of the initial hexagon, centered at 0,0\n",
    "d = mc.DataArrayDouble(6,2)\n",
    "d[:,0] = 3.\n",
    "d[:,1] = list(range(6))\n",
    "d[:,1] *= math.pi/3.\n",
    "d = d.fromPolarToCart()\n",
    "d.setInfoOnComponents([\"X [m]\",\"Y [m]\"])\n",
    "print(d.getValues())\n",
    "print(d)\n",
    "print(\"Uniform array?\", d.magnitude().isUniform(3.,1e-12))\n",
    "# Translating the 7 hexagons with a translation\n",
    "radius = 3.\n",
    "translationToPerform = [[0.,0.],[3./2.*radius,-radius*math.sqrt(3.)/2],[3./2.*radius,radius*math.sqrt(3.)/2],[0.,radius*math.sqrt(3.)],[-3./2.*radius,radius*math.sqrt(3.)/2],[-3./2.*radius,-radius*math.sqrt(3.)/2],[0.,-radius*math.sqrt(3.)]]\n",
    "ds = len(translationToPerform)*[None]\n",
    "for pos,t in enumerate(translationToPerform):\n",
    "                 ds[pos] = d[:]         # Perform a deep copy of d and place it at position 'pos' in ds\n",
    "                 ds[pos] += t             # Adding a vector to a set of coordinates does a translation\n",
    "                 pass\n",
    "# Identifying duplicate tuples\n",
    "d2 = mc.DataArrayDouble.Aggregate(ds)\n",
    "oldNbOfTuples = d2.getNumberOfTuples()\n",
    "c,cI = d2.findCommonTuples(1e-12)\n",
    "tmp = c[cI[0]:cI[0+1]]\n",
    "print(tmp)\n",
    "a = cI.deltaShiftIndex()\n",
    "b = a - 1\n",
    "myNewNbOfTuples = oldNbOfTuples - sum(b.getValues())\n",
    "o2n, newNbOfTuples = mc.DataArrayInt.ConvertIndexArrayToO2N(oldNbOfTuples,c,cI)\n",
    "print(\"Have I got the right number of tuples?\")\n",
    "print(\"myNewNbOfTuples = %d, newNbOfTuples = %d\" % (myNewNbOfTuples, newNbOfTuples))\n",
    "assert(myNewNbOfTuples == newNbOfTuples)\n",
    "# Extracting the unique set of tuples\n",
    "d3 = d2.renumberAndReduce(o2n, newNbOfTuples)\n",
    "n2o = o2n.invertArrayO2N2N2O(newNbOfTuples)\n",
    "d3_bis = d2[n2o]\n",
    "print(\"Are d3 and d3_bis equal ? %s\" % (str(d3.isEqual(d3_bis, 1e-12))))\n",
    "# Now translate everything\n",
    "d3 += [3.3,4.4]\n",
    "# And build an unstructured mesh representing the final pattern\n",
    "m = mc.MEDCouplingUMesh(\"My7hexagons\",2)\n",
    "m.setCoords(d3)\n",
    "print(\"Mesh dimension is\", m.getMeshDimension())\n",
    "print(\"Spatial dimension is\", m.getCoords().getNumberOfComponents())\n",
    "m.allocateCells(7)\n",
    "for i in list(range(7)):\n",
    "        cell_connec = o2n[6*i:6*(i+1)]\n",
    "        m.insertNextCell(mc.NORM_POLYGON, cell_connec.getValues())\n",
    "        pass\n",
    "# Check that everything is coherent (will throw if not)\n",
    "m.checkConsistencyLight()\n",
    "# Write the result into a VTU file that can be read with ParaView\n",
    "m.writeVTK(\"My7hexagons.vtu\")"
   ]
  }
 ],
 "metadata": {
  "kernelspec": {
   "display_name": "Python 3",
   "language": "python",
   "name": "python3"
  },
  "language_info": {
   "codemirror_mode": {
    "name": "ipython",
    "version": 3
   },
   "file_extension": ".py",
   "mimetype": "text/x-python",
   "name": "python",
   "nbconvert_exporter": "python",
   "pygments_lexer": "ipython3",
   "version": "3.7.3"
  }
 },
 "nbformat": 4,
 "nbformat_minor": 5
}
