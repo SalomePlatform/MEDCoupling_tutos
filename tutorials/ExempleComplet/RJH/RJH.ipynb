{
 "cells": [
  {
   "cell_type": "markdown",
   "id": "recent-rental",
   "metadata": {},
   "source": [
    "# MEDCoupling / MEDLoader - Exemple complet 2 - RJH\n",
    "\n",
    "Ici nous partons de deux fichiers MED très librement inspirés du réacteur expérimental RJH (Réacteur Jules Horowitz).\n",
    "\n",
    "Le premier, Fixe.med, représente la partie statique du réacteur sans dispositif expérimental.\n",
    "\n",
    "<img src=\"fixm.jpg\" style=\"width:300px;\">\n",
    "\n",
    "Le deuxième, Mobile.med, représente la partie mobile.\n",
    "\n",
    "<img src=\"mobm.jpg\" style=\"width:300px;\">\n",
    "\n",
    "## Objectif\n",
    "\n",
    "Le but ici est d’utiliser MEDCoupling pour:\n",
    "\n",
    "> - intersecter ces deux maillages,\n",
    "> - y mettre un champ,\n",
    "> - et ainsi localiser les zones de recouvrement\n",
    "\n",
    "## Début de l’implémentation\n",
    "\n",
    "Pour commencer l’exercice importer tout le module python MEDLoader (qui inclus MEDCoupling).\n"
   ]
  },
  {
   "cell_type": "code",
   "execution_count": null,
   "id": "overall-phrase",
   "metadata": {},
   "outputs": [],
   "source": [
    "import medcoupling as mc"
   ]
  },
  {
   "cell_type": "markdown",
   "id": "weekly-presence",
   "metadata": {},
   "source": [
    "## Lire et réparer le maillage statique “Fixe.med”\n",
    "\n",
    "Avec l’API avancée lire tout le fichier “Fixe.med” et appeler `fixm`** l’objet de type **`MEDCouplingUMesh` représentant le maillage statique."
   ]
  },
  {
   "cell_type": "code",
   "execution_count": null,
   "id": "common-phone",
   "metadata": {},
   "outputs": [],
   "source": [
    "fixe = mc.MEDFileMesh.New(\"Fixe.med\")\n",
    "fixm = fixe.getMeshAtLevel(0)"
   ]
  },
  {
   "cell_type": "markdown",
   "id": "attractive-token",
   "metadata": {},
   "source": [
    "Pour ce qui suit il faut absolument que deux cellules se touchant partagent les mêmes edges. Pour ce faire, comme on est en connectivité nodale, il faut absolument que les noeuds soient les mêmes. Il s’avère que cela n’est pas le cas ici. Fusionner le noeuds distants de moins de 1e-10 et regarder l’impact sur le nombre de noeuds de `fixm` ."
   ]
  },
  {
   "cell_type": "code",
   "execution_count": null,
   "id": "martial-economy",
   "metadata": {},
   "outputs": [],
   "source": [
    "print(\"Nb of nodes in the file : %i \" % (fixm.getNumberOfNodes()))\n",
    "fixm.mergeNodes(1e-10)\n",
    "print(\"Nb of non duplicated nodes : %i\" % (fixm.getNumberOfNodes()))"
   ]
  },
  {
   "cell_type": "markdown",
   "id": "optical-string",
   "metadata": {},
   "source": [
    "Même traitement pour `Mobile.med`**, le lire avec l’API avancée de MEDLoader (appeler **`mobm` l’instance du maillage) et le réparer en supprimant les noeuds dupliqués."
   ]
  },
  {
   "cell_type": "code",
   "execution_count": null,
   "id": "later-viewer",
   "metadata": {},
   "outputs": [],
   "source": [
    "mobile = mc.MEDFileMesh.New(\"Mobile.med\")\n",
    "mobm = mobile.getMeshAtLevel(0)\n",
    "mobm.mergeNodes(1e-10)"
   ]
  },
  {
   "cell_type": "markdown",
   "id": "optical-scott",
   "metadata": {},
   "source": [
    "Le maillage du RJH étant plus général que des `TRI6`** et des **`QUAD8`**, on a besoin de stocker ces cellules avec un type géométrique à **`QPOLYG`** (Quadratic Polygon) qui représente un polygone quadratique (le terme n’est pas très heureux, encore des raisons historiques, …), c’est-à-dire un polygone avec un nombre arbitraire de côtés, et potentiellement des côtés en forme d’arcs de cercles plutôt que de segments de droites. Ce type géométrique **`NORM_QPOLYG` est dans MEDCoupling/MEDLoader et aussi dans MED fichier.\n",
    "\n",
    "Nous voudrions visualiser ces deux maillages dans PARAVIS/ParaView, mais nous rencontrons ici deux soucis:\n",
    "\n",
    "> - les polygones non-convexes sont, par défaut, mal représentés par VTK en mode Surface. Il faut sélectionner l’option avancée “Triangulate” dans le panneau Display de PARAVIS/ParaView pour avoir un rendu correct.\n",
    "> - les arcs de cercles ne sont pas correctement supportés par ParaView. Il faut les tesséliser, c’est-à-dire les transformer en plusieurs petits segments de droite. La méthode `MEDCouplingUMesh.tessellate2D()`** fait ce travail, mais modifie le maillage. Nous faisons donc une copie préalable. Nous passons en paramètre la finesse de découpage (0.1 est suffisant – angle en radian). Attention donc à ne pas modifer ni **`fixm`** ni **`mobm` !"
   ]
  },
  {
   "cell_type": "code",
   "execution_count": null,
   "id": "sharing-gauge",
   "metadata": {},
   "outputs": [],
   "source": [
    "fixm2 = fixm.deepCopy()  # tessellate2D() modifies the current mesh\n",
    "fixm2.tessellate2D(0.1)\n",
    "fixm2.writeVTK(\"fixm2.vtu\")\n",
    "mobm2 = mobm.deepCopy()\n",
    "mobm2.tessellate2D(0.1)\n",
    "mobm2.writeVTK(\"mobm2.vtu\")"
   ]
  },
  {
   "cell_type": "markdown",
   "id": "complicated-determination",
   "metadata": {},
   "source": [
    "Faire une petite méthode `displayVTK()`, faisant le travail qui nous servira souvent après."
   ]
  },
  {
   "cell_type": "code",
   "execution_count": null,
   "id": "prescription-forward",
   "metadata": {},
   "outputs": [],
   "source": [
    "def displayVTK(m, fname):\n",
    "    tmp = m.deepCopy()\n",
    "    tmp.tessellate2D(0.1)\n",
    "    tmp.writeVTK(fname)\n",
    "    return"
   ]
  },
  {
   "cell_type": "markdown",
   "id": "continuous-hollow",
   "metadata": {},
   "source": [
    "## Faire des réductions et des repérages de zones\n",
    "\n",
    "Le maillage `mobm`** est en 6 parties distinctes (voir l’image au dessus). On ne veut récupérer que la première partie. Utiliser **`MEDCouplingUMesh.partitionBySpreadZone()`** pour partitionner en zones **`mobm`** et ne prendre que la première zone. Appeler cette nouvelle instance **`zone1Mobm`** et lui retirer tous les noeuds orphelins (**`MEDCouplingUMesh.zipCoords()`) Enfin l’afficher :"
   ]
  },
  {
   "cell_type": "code",
   "execution_count": null,
   "id": "single-principle",
   "metadata": {},
   "outputs": [],
   "source": [
    "zonesInMobm = mobm.partitionBySpreadZone()\n",
    "print(\"Nb of zones in mobm : %i\" % (len(zonesInMobm)))\n",
    "zone1Mobm = mobm[zonesInMobm[0]]\n",
    "zone1Mobm.zipCoords()\n",
    "displayVTK(zone1Mobm, \"zone1Mobm.vtu\")"
   ]
  },
  {
   "cell_type": "markdown",
   "id": "decimal-eight",
   "metadata": {},
   "source": [
    "<img src=\"zone1Mobm.jpg\" style=\"width:300px;\">\n",
    "\n",
    "Nous allons désormais travailler autour de `zone1Mobm`**. Nous allons réduire la zone de travail de **`fixm`** autour de **`zone1Mobm`**. Pour ce faire, réduire **`fixm`** en ne prenant que les cellules dans la boîte englobante de **`zone1Mobm`** (**`MEDCouplingUMesh.getBoundingBox()`** et **`MEDCouplingUMesh.getCellsInBoundingBox()`**). Appeler ce nouvel objet **`partFixm`, lui retirer ses noeuds orphelins et l’afficher."
   ]
  },
  {
   "cell_type": "code",
   "execution_count": null,
   "id": "extended-efficiency",
   "metadata": {},
   "outputs": [],
   "source": [
    "ids2 = fixm.getCellsInBoundingBox(zone1Mobm.getBoundingBox(), 1e-10)\n",
    "partFixm = fixm[ids2]\n",
    "partFixm.zipCoords()\n",
    "displayVTK(partFixm, \"partFixm.vtu\")"
   ]
  },
  {
   "cell_type": "markdown",
   "id": "olympic-athens",
   "metadata": {},
   "source": [
    "<img src=\"partFixmAndzone1Mobm.jpg\" style=\"width:400px;\">\n",
    "\n",
    "## Intersecter géométriquement deux maillages\n",
    "\n",
    "C’est le coeur de l’exercice. Nous allons intersecter géométriquement `partFixm`** et **`zone1Mobm`**. Cela revient à partitionner à minima **`partFixm`** en cellules appartenant soit complètement à **`partFixm`** soit à **`partFixm`** et **`zone1Mobm`**. Invoquer la méthode statique **`MEDCouplingUMesh.Intersect2DMeshes()`**, avec **`partFixm`** et **`zone1Mobm`** et mettre une précision de 1e-10 (seuil de détection de fusion). Cette méthode retourne 3 paramètres (voir API dans la doc) que l’on appellera ici **`partFixMob`**, **`iPart`** et **`iMob` dans cet ordre.\n",
    "\n",
    "Sur `partFixMob` merger les noeuds à 1e-10 près."
   ]
  },
  {
   "cell_type": "code",
   "execution_count": null,
   "id": "alternative-occupation",
   "metadata": {},
   "outputs": [],
   "source": [
    "partFixMob, iPart, iMob = mc.MEDCouplingUMesh.Intersect2DMeshes(\n",
    "    partFixm, zone1Mobm, 1e-10\n",
    ")\n",
    "partFixMob.mergeNodes(1e-10)"
   ]
  },
  {
   "cell_type": "markdown",
   "id": "alert-admission",
   "metadata": {},
   "source": [
    "Récupérer et afficher la partie de `partFixm`** qui n’est pas dans **`zone1Mobm`**. Appeler ce maillage **`partFixmWithoutZone1Mobm`."
   ]
  },
  {
   "cell_type": "code",
   "execution_count": null,
   "id": "productive-cradle",
   "metadata": {},
   "outputs": [],
   "source": [
    "ids3 = iMob.findIdsEqual(-1)\n",
    "partFixmWithoutZone1Mobm = partFixMob[ids3]\n",
    "displayVTK(partFixmWithoutZone1Mobm, \"partFixmWithoutZone1Mobm.vtu\")"
   ]
  },
  {
   "cell_type": "markdown",
   "id": "willing-canberra",
   "metadata": {},
   "source": [
    "<img src=\"partFixmWithoutZone1Mobm.jpg\" style=\"width:400px;\">\n",
    "\n",
    "Maintenant, on va vérifier la qualité du résultat retourné par `MEDCouplingUMesh.Intersect2DMeshes()`. Pour ce faire on va passer 3 tests:\n",
    "\n",
    "> - Check #0** la somme des aires des cellules de **`partFixm`** et égale à celle de **`partFixMob`\n",
    "> - Check #1** la somme des aires des cellules de **`zone1Mobm`** et égale à la somme des cells de **`partFixMob`** dont l’id dans **`iMob` est different de -1\n",
    "> - Check #2** pour chaque cellule de **`partFixm`**, son aire est égale à la somme des aires des cellules de **`partFixMob`\n",
    "\n",
    "L’aire est une valeur algébrique. Donc attention cette verification ne peut se faire que si les cellules sont toutes bien orientées ou à minima toutes orientées de la même manière. Pour ce faire, regardons les aires des 38 cellules de `partFixm`** (nom de variable : **`areaPartFixm)`."
   ]
  },
  {
   "cell_type": "code",
   "execution_count": null,
   "id": "worth-seating",
   "metadata": {},
   "outputs": [],
   "source": [
    "areaPartFixm = partFixm.getMeasureField(True).getArray()\n",
    "print(areaPartFixm.getValues())"
   ]
  },
  {
   "cell_type": "markdown",
   "id": "ancient-wales",
   "metadata": {},
   "source": [
    "On voit que toutes les valeurs sont négatives. Bilan: ce fichier MED ne respecte pas la convention MED fichier ! `partFixm`** étant mal orienté, et **`MEDCouplingUMesh.Intersect2DMeshes()`** conservant l’orientation, **`partFixMob`** est lui aussi mal orienté. Bref, on va faire les comparaisons sur des tableaux de valeurs absolues. Vérifier alors **Check #0."
   ]
  },
  {
   "cell_type": "code",
   "execution_count": null,
   "id": "random-victory",
   "metadata": {},
   "outputs": [],
   "source": [
    "areaPartFixm = partFixm.getMeasureField(\n",
    "    isAbs=False\n",
    ").getArray()  # prise en compte de l'orientation des mailles\n",
    "areaPartFixm.abs()\n",
    "areaPartFixMob = partFixMob.getMeasureField(isAbs=False).getArray()\n",
    "areaPartFixMob.abs()\n",
    "val1 = areaPartFixm.accumulate()[0]\n",
    "val2 = areaPartFixMob.accumulate()[0]\n",
    "print(\n",
    "    \"Check #0 %lf == %lf with precision 1e-8? %s\"\n",
    "    % (val1, val2, str(abs(val1 - val2) < 1e-8))\n",
    ")"
   ]
  },
  {
   "cell_type": "markdown",
   "id": "offensive-crack",
   "metadata": {},
   "source": [
    "On peut passer au Check #1**. L’esprit est le même que le **Check #0."
   ]
  },
  {
   "cell_type": "code",
   "execution_count": null,
   "id": "express-greenhouse",
   "metadata": {},
   "outputs": [],
   "source": [
    "areaZone1Mobm = zone1Mobm.getMeasureField(isAbs=False).getArray()\n",
    "areaZone1Mobm.abs()\n",
    "val3 = areaZone1Mobm.accumulate()[0]\n",
    "ids4 = iMob.findIdsNotEqual(-1)\n",
    "areaPartFixMob2 = areaPartFixMob[ids4]\n",
    "val4 = areaPartFixMob2.accumulate()[0]\n",
    "print(\n",
    "    \"Check #1 %lf == %lf with precision 1e-8 ? %s\"\n",
    "    % (val3, val4, str(abs(val3 - val4) < 1e-8))\n",
    ")"
   ]
  },
  {
   "cell_type": "markdown",
   "id": "liberal-upset",
   "metadata": {},
   "source": [
    "Puis le Check #2."
   ]
  },
  {
   "cell_type": "code",
   "execution_count": null,
   "id": "cross-boost",
   "metadata": {},
   "outputs": [],
   "source": [
    "isCheck2OK = True\n",
    "for icell in list(range(partFixm.getNumberOfCells())):\n",
    "    ids5 = iPart.findIdsEqual(icell)\n",
    "    areaOfCells = areaPartFixMob[ids5]\n",
    "    areaOfCells.abs()\n",
    "    if abs(areaOfCells.accumulate()[0] - areaPartFixm[icell]) > 1e-9:\n",
    "        isCheck2OK = False\n",
    "        pass\n",
    "    pass\n",
    "\n",
    "print(\"Check #2? %s\" % (str(isCheck2OK)))"
   ]
  },
  {
   "cell_type": "markdown",
   "id": "rolled-parks",
   "metadata": {},
   "source": [
    "## Utiliser les informations de l’intersection pour en faire des champs\n",
    "\n",
    "OK pour `partFixMob`. Nous souhaitons maintenant créer un champ représentant une fonction indicatrice de la zone\n",
    "\n",
    "Maintenant créer un champ aux cellules sur `partFixMob`** en mettant 0 sur la partie exclusive **`partFixm` et 1 sur la partie couverte. Nous créons donc un champ représentant une fonction indicatrice. Le visualiser en utilisant un fichier VTK (ne pas oublier l’option Triangulate de ParaView)."
   ]
  },
  {
   "cell_type": "code",
   "execution_count": null,
   "id": "substantial-puzzle",
   "metadata": {},
   "outputs": [],
   "source": [
    "f = mc.MEDCouplingFieldDouble(mc.ON_CELLS, mc.ONE_TIME)\n",
    "m = partFixMob.deepCopy()\n",
    "m.tessellate2D(0.1)\n",
    "f.setMesh(m)\n",
    "arr = mc.DataArrayDouble(partFixMob.getNumberOfCells(), 1)\n",
    "arr[iMob.findIdsEqual(-1)] = 0.0\n",
    "arr[iMob.findIdsNotEqual(-1)] = 1.0\n",
    "f.setArray(arr)\n",
    "f.checkConsistencyLight()\n",
    "f.setName(\"Zone\")\n",
    "mc.MEDCouplingFieldDouble.WriteVTK(\"Zone.vtu\", [f])"
   ]
  },
  {
   "cell_type": "markdown",
   "id": "cosmetic-modification",
   "metadata": {},
   "source": [
    "<img src=\"LocationEx2.jpg\" style=\"width:400px;\">\n",
    "\n",
    "Plus généralement prendre les zones 0, 1 et 5. Faire un champ aux cellules qui vaut 0 dans la zone exclusivement de `fixm`, 1 dans zone #0, 2 dans la zone #1 et finalement 3 dans la zone #5.\n"
   ]
  },
  {
   "cell_type": "code",
   "execution_count": null,
   "id": "minus-girlfriend",
   "metadata": {},
   "outputs": [],
   "source": [
    "zonesMobm = mc.MEDCouplingUMesh.MergeUMeshesOnSameCoords(\n",
    "    [mobm[zonesInMobm[0]], mobm[zonesInMobm[1]], mobm[zonesInMobm[5]]]\n",
    ")\n",
    "zonesMobm.zipCoords()\n",
    "partFixMob2, iPart2, iMob2 = mc.MEDCouplingUMesh.Intersect2DMeshes(\n",
    "    partFixm, zonesMobm, 1e-10\n",
    ")\n",
    "partFixMob2.mergeNodes(1e-10)\n",
    "f2 = mc.MEDCouplingFieldDouble(mc.ON_CELLS, mc.ONE_TIME)\n",
    "m2 = partFixMob2.deepCopy()\n",
    "m2.tessellate2D(0.1)\n",
    "f2.setMesh(m2)\n",
    "arr = mc.DataArrayDouble(partFixMob2.getNumberOfCells(), 1)\n",
    "arr[iMob2.findIdsEqual(-1)] = 0.0\n",
    "st = 0\n",
    "end = st + len(zonesInMobm[0])\n",
    "arr[iMob2.findIdsInRange(st, end)] = 1.0\n",
    "st += len(zonesInMobm[0])\n",
    "end = st + len(zonesInMobm[1])\n",
    "arr[iMob2.findIdsInRange(st, end)] = 2.0\n",
    "st += len(zonesInMobm[1])\n",
    "end = st + len(zonesInMobm[2])\n",
    "arr[iMob2.findIdsInRange(st, end)] = 3.0\n",
    "f2.setArray(arr)\n",
    "f2.checkConsistencyLight()\n",
    "f2.setName(\"Zone2\")\n",
    "mc.MEDCouplingFieldDouble.WriteVTK(\"Zone2.vtu\", [f2])"
   ]
  },
  {
   "cell_type": "markdown",
   "id": "balanced-midnight",
   "metadata": {},
   "source": [
    "Ne pas oublier l’option Triangulate de ParaView dans le panneau Display pour bien voir les champs:\n",
    "\n",
    "<img src=\"zonesMobm.jpg\" style=\"width:450px;\">\n"
   ]
  }
 ],
 "metadata": {
  "kernelspec": {
   "display_name": "Python 3 (ipykernel)",
   "language": "python",
   "name": "python3"
  },
  "language_info": {
   "codemirror_mode": {
    "name": "ipython",
    "version": 3
   },
   "file_extension": ".py",
   "mimetype": "text/x-python",
   "name": "python",
   "nbconvert_exporter": "python",
   "pygments_lexer": "ipython3",
   "version": "3.7.9"
  }
 },
 "nbformat": 4,
 "nbformat_minor": 5
}
