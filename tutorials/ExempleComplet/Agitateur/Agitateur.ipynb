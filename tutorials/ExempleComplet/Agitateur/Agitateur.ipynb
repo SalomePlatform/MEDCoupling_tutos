{
 "cells": [
  {
   "cell_type": "markdown",
   "id": "0",
   "metadata": {},
   "source": [
    "# MEDCoupling / MEDLoader - Exemple complet 1 - Agitateur\n",
    "\n",
    "Nous partons ici d’un fichier agitateur.med ayant le contenu suivant :\n",
    "\n",
    "<img src=\"agitateur.jpg\" style=\"width:600px;\">\n",
    "\n",
    "Il s’agit du résultat d’un petit calcul diphasique : l’agitateur magnétique en vert (repéré seulement par un champ aux cellules, et n’ayant pas de maillage propre) tourne d’un pas de temps à l’autre au sein d’une phase liquide. Deux gouttes de liquide chutent pendant ce temps vers l’interface air/eau (en gris).\n",
    "\n",
    "Le but de l’exercice est de calculer le couple appliqué sur cet agitateur, qui est la pièce mécanique entraînant la partie basse du fluide.\n",
    "\n",
    "## Objectif\n",
    "\n",
    "L’objectif est de donner un exemple complet de post-traitement non trivial à partir d’un fichier MED.\n",
    "\n",
    "## Début de l’implémentation\n",
    "\n",
    "Pour commencer l’exercice importer tout le module python `MEDLoader` (qui inclut `MEDCoupling`). Importer aussi `numpy`.\n"
   ]
  },
  {
   "cell_type": "code",
   "execution_count": null,
   "id": "1",
   "metadata": {},
   "outputs": [],
   "source": [
    "import medcoupling as mc\n",
    "import numpy as np"
   ]
  },
  {
   "cell_type": "markdown",
   "id": "2",
   "metadata": {},
   "source": [
    "## **Extraction des maillages et champs avec l’API avancée**\n",
    "\n",
    "Avec l’API avancée lire tout le fichier `agitateur.med` et afficher tous les pas de temps du 1er champ.\n"
   ]
  },
  {
   "cell_type": "code",
   "execution_count": null,
   "id": "3",
   "metadata": {},
   "outputs": [],
   "source": [
    "filename: str = \"agitateur.med\"\n",
    "data = mc.MEDFileData(filename)\n",
    "f0 = data.getFields()[0]\n",
    "print(type(f0))\n",
    "print(f\"{f0.getName() = }\")\n",
    "\n",
    "ts = f0.getTimeSteps()\n",
    "print(f\"{ts = }\")"
   ]
  },
  {
   "cell_type": "markdown",
   "id": "4",
   "metadata": {},
   "source": [
    "Récupérer le maillage de l’agitateur (en vert) au pas de temps (2,-1) (cf. ts).\n",
    "La position de l’agitateur est définie par un champ sur le maillage global du\n",
    "système et n’a pas de maillage propre. Il faut donc utiliser le champ aux\n",
    "cellules `DISTANCE_INTERFACE_ELEM_BODY_ELEM_DOM` et ne sélectionner que la\n",
    "partie du champ ayant une valeur entre dans `[0.,1.]`. Mettre les\n",
    "identifiants de cellules correspondant dans `ids` :"
   ]
  },
  {
   "cell_type": "code",
   "execution_count": null,
   "id": "5",
   "metadata": {},
   "outputs": [],
   "source": [
    "fMts = data.getFields()[\"DISTANCE_INTERFACE_ELEM_BODY_ELEM_DOM\"]\n",
    "f1ts = fMts[(2, -1)]\n",
    "fMc = f1ts.getFieldAtLevel(mc.ON_CELLS, 0)\n",
    "arr = fMc.getArray()\n",
    "arr.getMinMaxPerComponent()  # just to see the field variation range per component\n",
    "ids = arr.findIdsInRange(0.0, 1.0)\n",
    "f2Mc = fMc[ids]"
   ]
  },
  {
   "cell_type": "markdown",
   "id": "6",
   "metadata": {},
   "source": [
    "A l’aide du champ nommé `PRESSION_ELEM_DOM`, on trouve le champ de pression 3D qu’applique l’agitateur.\n"
   ]
  },
  {
   "cell_type": "code",
   "execution_count": null,
   "id": "7",
   "metadata": {},
   "outputs": [],
   "source": [
    "pressMts = data.getFields()[\"PRESSION_ELEM_DOM\"]\n",
    "press1ts = pressMts[(2, -1)]\n",
    "pressMc = press1ts.getFieldAtLevel(mc.ON_CELLS, 0)\n",
    "pressOnAgitateurMc = pressMc[ids]"
   ]
  },
  {
   "cell_type": "markdown",
   "id": "8",
   "metadata": {},
   "source": [
    "On supprime les nœuds inutiles de `pressOnAgitateurMc.getMesh()` :\n"
   ]
  },
  {
   "cell_type": "code",
   "execution_count": null,
   "id": "9",
   "metadata": {},
   "outputs": [],
   "source": [
    "pressOnAgitateurMc.getMesh().zipCoords()"
   ]
  },
  {
   "cell_type": "markdown",
   "id": "10",
   "metadata": {},
   "source": [
    "## **Passer d’un champ aux cellules 3D à un champ surfacique 3D**\n",
    "\n",
    "Deduire le champ 3D de pression sur la peau de l’agitateur. Pour ce faire passer par le maillage descendant `MEDCouplingUMesh.buildDescendingConnectivity()`.\n"
   ]
  },
  {
   "cell_type": "code",
   "execution_count": null,
   "id": "11",
   "metadata": {},
   "outputs": [],
   "source": [
    "agitateurMesh3DMc = pressOnAgitateurMc.getMesh()\n",
    "(\n",
    "    m3DSurf,\n",
    "    desc,\n",
    "    descI,\n",
    "    revDesc,\n",
    "    revDescI,\n",
    ") = agitateurMesh3DMc.buildDescendingConnectivity()\n",
    "nbOf3DCellSharing = revDescI.deltaShiftIndex()\n",
    "ids2 = nbOf3DCellSharing.findIdsEqual(\n",
    "    1\n",
    ")  # Cells with only one neighbor are on the boundary, i.e. on the skin\n",
    "agitateurSkinMc = m3DSurf[ids2]\n",
    "offsetsOfTupleIdsInField = revDescI[ids2]\n",
    "tupleIdsInField = revDesc[offsetsOfTupleIdsInField]\n",
    "pressOnSkinAgitateurMc = pressOnAgitateurMc[tupleIdsInField]\n",
    "pressOnSkinAgitateurMc.setMesh(agitateurSkinMc)"
   ]
  },
  {
   "cell_type": "markdown",
   "id": "12",
   "metadata": {},
   "source": [
    "## **Manipuler les champs**\n",
    "\n",
    "Calculer le champ vectoriel de force sur la peau de l’agitateur en multipliant pour chaque cellule la pression par la surface et ensuite par le vecteur normal. La pression est en bar, la convertir au préalable en pascal (Pa).\n"
   ]
  },
  {
   "cell_type": "code",
   "execution_count": null,
   "id": "13",
   "metadata": {},
   "outputs": [],
   "source": [
    "pressSkin = pressOnSkinAgitateurMc.getArray()\n",
    "pressSkin *= 1e5  # conversion from bar to Pa\n",
    "areaSkin = agitateurSkinMc.getMeasureField(True).getArray()\n",
    "forceSkin = pressSkin * areaSkin\n",
    "normalSkin = agitateurSkinMc.buildOrthogonalField().getArray()\n",
    "forceVectSkin = forceSkin * normalSkin"
   ]
  },
  {
   "cell_type": "markdown",
   "id": "14",
   "metadata": {},
   "source": [
    "Voici maintenant le premier calcul du moment au centre de masse de l’agitateur :\n",
    "\n",
    "Pour faire ce 1er calcul de couple exercé sur l’agitateur, calculons la position du centre de masse de l’agitateur. Calculer le polyèdre représentant l’enveloppe du maillage 3D de l’agitateur `agitateurMesh3DMc` (utiliser `MEDCouplingUMesh.buildSpreadZonesWithPoly()`).\n"
   ]
  },
  {
   "cell_type": "code",
   "execution_count": null,
   "id": "15",
   "metadata": {},
   "outputs": [],
   "source": [
    "singlePolyhedron = agitateurMesh3DMc.buildSpreadZonesWithPoly()\n",
    "singlePolyhedron.orientCorrectlyPolyhedrons()\n",
    "centerOfMass = singlePolyhedron.computeCellCenterOfMass()"
   ]
  },
  {
   "cell_type": "markdown",
   "id": "16",
   "metadata": {},
   "source": [
    "<div class=\"alert alert-block alert-success\">\n",
    "<b>Note:</b> L’appel à MEDCouplingUMesh.orientCorrectlyPolyhedrons() n’est pas obligatoire mais conseillé car si par malheur le polyhèdre est mal orienté, son barycentre sera incorrect !</div>\n",
    "\n",
    "Calculer pour chaque cellule de la peau de l’agitateur le moment par rapport au centre de masse `centerOfMass` de l’agitateur. Pour ce faire calculer `posSkin` le `DataArrayDouble` donnant pour chaque cellule de la peau de l’agitateur le vecteur `centerOfMass` -> `G`, avec `G` le barycentre de la cellule courante.\n"
   ]
  },
  {
   "cell_type": "code",
   "execution_count": null,
   "id": "17",
   "metadata": {},
   "outputs": [],
   "source": [
    "barySkin = agitateurSkinMc.computeCellCenterOfMass()\n",
    "posSkin = barySkin - centerOfMass"
   ]
  },
  {
   "cell_type": "markdown",
   "id": "18",
   "metadata": {},
   "source": [
    "Appliquer maintenant la formule classique de calcul du moment : calculer le produit vectoriel par cellule de `posSkin` avec `forceVectSkin` (méthode `DataArrayDouble.CrossProduct()`).\n"
   ]
  },
  {
   "cell_type": "code",
   "execution_count": null,
   "id": "19",
   "metadata": {},
   "outputs": [],
   "source": [
    "torquePerCellOnSkin = mc.DataArrayDouble.CrossProduct(posSkin, forceVectSkin)"
   ]
  },
  {
   "cell_type": "markdown",
   "id": "20",
   "metadata": {},
   "source": [
    "Sommer `torqueOnSkin` en utilisant la méthode `DataArrayDouble.accumulate()`.\n"
   ]
  },
  {
   "cell_type": "code",
   "execution_count": null,
   "id": "21",
   "metadata": {},
   "outputs": [],
   "source": [
    "zeTorque = torquePerCellOnSkin.accumulate()\n",
    "print(\"couple = %r N.m\" % zeTorque[2])"
   ]
  },
  {
   "cell_type": "markdown",
   "id": "22",
   "metadata": {},
   "source": [
    "Vérifions le couple calculé précédemment en divisant la puissance par la vitesse angulaire. La vitesse linéaire est stockée dans le champ “VITESSE_ELEM_DOM”.\n",
    "\n",
    "Calculer la puissance par cellule de la peau de l’agitateur et la sommer.\n"
   ]
  },
  {
   "cell_type": "code",
   "execution_count": null,
   "id": "23",
   "metadata": {},
   "outputs": [],
   "source": [
    "speedMts = data.getFields()[\"VITESSE_ELEM_DOM\"]\n",
    "speed1ts = speedMts[(2, -1)]\n",
    "speedMc = speed1ts.getFieldAtLevel(mc.ON_CELLS, 0)\n",
    "speedOnSkin = speedMc.getArray()[tupleIdsInField]\n",
    "powerSkin = mc.DataArrayDouble.Dot(forceVectSkin, speedOnSkin)\n",
    "power = powerSkin.accumulate()[0]\n",
    "print(\"power = %r W\" % (power))"
   ]
  },
  {
   "cell_type": "markdown",
   "id": "24",
   "metadata": {},
   "source": [
    "Calculer la vitesse angulaire. Pour ce faire, calculer la somme de `x^2`, `y^2` et `xz` de `posSkin` et construire (avec NumPy) la matrice 2x2 d’inertie `inertiaSkin=[[x2,xy], [xy,z2]]`.\n",
    "\n",
    "Récupérer le vecteur propre associé à la valeur propre maximale avec `linalg.eig(inertiaSkin)`.\n"
   ]
  },
  {
   "cell_type": "code",
   "execution_count": null,
   "id": "25",
   "metadata": {},
   "outputs": [],
   "source": [
    "x2 = posSkin[:, 0] * posSkin[:, 0]\n",
    "x2 = x2.accumulate()[0]\n",
    "y2 = posSkin[:, 1] * posSkin[:, 1]\n",
    "y2 = y2.accumulate()[0]\n",
    "xy = posSkin[:, 0] * posSkin[:, 1]\n",
    "xy = xy.accumulate()[0]\n",
    "inertiaSkin = np.matrix([[x2, xy], [xy, y2]])\n",
    "inertiaSkinValues, inertiaSkinVects = np.linalg.eig(inertiaSkin)\n",
    "pos = max(enumerate(inertiaSkinValues), key=lambda x: x[1])[0]\n",
    "vect0 = inertiaSkinVects[pos].tolist()[0]\n",
    "print(vect0)"
   ]
  },
  {
   "cell_type": "markdown",
   "id": "26",
   "metadata": {},
   "source": [
    "Grâce au calcul précédent on peut déduire que l’agitateur a tourné de 1.1183827931 radian (cf. solution complète pour le détail - on remet les étapes précédentes dans une fonction que l’on applique sur plusieurs pas de temps).\n",
    "\n",
    "Calculer et comparer le couple sur l’agitateur.\n"
   ]
  },
  {
   "cell_type": "code",
   "execution_count": null,
   "id": "27",
   "metadata": {},
   "outputs": [],
   "source": [
    "omega = 1.1183827931 / (ts[-1][2] - ts[0][2])\n",
    "print(\n",
    "    \"At timestep (%d,%d) (physical time=%r s) the torque is: %r N.m, power/omega=%r N.m \"\n",
    "    % (ts[2][0], ts[2][1], ts[2][2], zeTorque[2], power / omega)\n",
    ")"
   ]
  }
 ],
 "metadata": {
  "kernelspec": {
   "display_name": "Python 3 (ipykernel)",
   "language": "python",
   "name": "python3"
  },
  "language_info": {
   "codemirror_mode": {
    "name": "ipython",
    "version": 3
   },
   "file_extension": ".py",
   "mimetype": "text/x-python",
   "name": "python",
   "nbconvert_exporter": "python",
   "pygments_lexer": "ipython3",
   "version": "3.10.12"
  }
 },
 "nbformat": 4,
 "nbformat_minor": 5
}
