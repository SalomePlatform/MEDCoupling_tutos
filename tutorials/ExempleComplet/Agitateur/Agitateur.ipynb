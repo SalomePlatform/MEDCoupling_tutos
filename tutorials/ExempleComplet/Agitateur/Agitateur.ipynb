{
 "cells": [
  {
   "cell_type": "markdown",
   "id": "29f06fcc",
   "metadata": {},
   "source": [
    "# MEDCoupling / MEDLoader - Exemple complet 1 - Agitateur\n",
    "\n",
    "Here, we start with a file called agitateur.med with the following content:\n",
    "\n",
    "<img src=\"agitateur.jpg\" style=\"width:600px;\">\n",
    "\n",
    "This is the result of a small two-phase calculation: the green magnetic stirrer (identified only by a cell field and having no proper mesh) rotates from one time step to another within a liquid phase. Two drops of liquid fall during this time towards the air/water interface (in gray).\n",
    "\n",
    "The goal of the exercise is to calculate the torque applied to this stirrer, which is the mechanical piece driving the lower part of the fluid.\n",
    "\n",
    "## Objective\n",
    "\n",
    "The objective is to provide a complete example of non-trivial post-processing from a MED file.\n",
    "\n",
    "## Start of the implementation\n",
    "\n",
    "To start the exercise, import the entire python module `MEDLoader` (which includes `MEDCoupling`). Also import `numpy`."
   ]
  },
  {
   "cell_type": "code",
   "execution_count": 1,
   "id": "37154319",
   "metadata": {},
   "outputs": [],
   "source": [
    "import medcoupling as mc\n",
    "import numpy as np"
   ]
  },
  {
   "cell_type": "markdown",
   "id": "df79f5e6",
   "metadata": {},
   "source": [
    "## **Extracting meshes and fields with the advanced API**\n",
    "\n",
    "With the advanced API, read the entire file `agitateur.med` and display all the time steps of the 1st field."
   ]
  },
  {
   "cell_type": "code",
   "execution_count": 2,
   "id": "da4cf5fb",
   "metadata": {},
   "outputs": [
    {
     "name": "stdout",
     "output_type": "stream",
     "text": [
      "<class 'medcoupling.MEDFileFieldMultiTS'>\n",
      "f0 name: CONCENTRATION_ELEM_DOM\n",
      "ts: [(0, -1, 0.0), (1, -1, 0.01), (2, -1, 0.02), (3, -1, 0.03), (4, -1, 0.04), (5, -1, 0.05), (6, -1, 0.06), (7, -1, 0.07), (8, -1, 0.08), (9, -1, 0.09), (10, -1, 0.1)]\n"
     ]
    }
   ],
   "source": [
    "filename: str = \"agitateur.med\"\n",
    "data = mc.MEDFileData(filename)\n",
    "f0 = data.getFields()[0]\n",
    "print(type(f0))\n",
    "print(f\"f0 name: {f0.getName()}\")\n",
    "\n",
    "ts = f0.getTimeSteps()\n",
    "print(f\"ts: {ts}\")"
   ]
  },
  {
   "cell_type": "markdown",
   "id": "595a65c0",
   "metadata": {},
   "source": [
    "Retrieve the mesh of the stirrer (in green) at time step (2, -1) (cf. ts). The position of the stirrer is defined by a field on the global mesh of the system and has no proper mesh. Therefore, use the cell field `DISTANCE_INTERFACE_ELEM_BODY_ELEM_DOM` and select only the part of the field with a value within `[0.,1.]`. Put the corresponding cell identifiers in `ids`:"
   ]
  },
  {
   "cell_type": "code",
   "execution_count": 3,
   "id": "5b2fed65",
   "metadata": {},
   "outputs": [],
   "source": [
    "fMts = data.getFields()[\"DISTANCE_INTERFACE_ELEM_BODY_ELEM_DOM\"]\n",
    "f1ts = fMts[(2, -1)]\n",
    "fMc = f1ts.getFieldAtLevel(mc.ON_CELLS, 0)\n",
    "arr = fMc.getArray()\n",
    "arr.getMinMaxPerComponent()  # just to see the field variation range per component\n",
    "ids = arr.findIdsInRange(0.0, 1.0)\n",
    "f2Mc = fMc[ids]"
   ]
  },
  {
   "cell_type": "markdown",
   "id": "faf1aadb",
   "metadata": {},
   "source": [
    "Using the field named `PRESSION_ELEM_DOM`, we find the 3D pressure field applied by the stirrer."
   ]
  },
  {
   "cell_type": "code",
   "execution_count": 4,
   "id": "f17a49d3",
   "metadata": {},
   "outputs": [],
   "source": [
    "pressMts = data.getFields()[\"PRESSION_ELEM_DOM\"]\n",
    "press1ts = pressMts[(2, -1)]\n",
    "pressMc = press1ts.getFieldAtLevel(mc.ON_CELLS, 0)\n",
    "pressOnAgitatorMc = pressMc[ids]"
   ]
  },
  {
   "cell_type": "markdown",
   "id": "7c8286c6",
   "metadata": {},
   "source": [
    "Remove unnecessary nodes from `pressOnAgitatorMc.getMesh()`:"
   ]
  },
  {
   "cell_type": "code",
   "execution_count": 5,
   "id": "beda42c2",
   "metadata": {},
   "outputs": [],
   "source": [
    "pressOnAgitatorMc.getMesh().zipCoords()"
   ]
  },
  {
   "cell_type": "markdown",
   "id": "af5bad07",
   "metadata": {},
   "source": [
    "## **Transition from a 3D cell field to a 3D surface field**\n",
    "\n",
    "Deduct the 3D pressure field on the surface of the stirrer. To do this, pass through the descending mesh `MEDCouplingUMesh.buildDescendingConnectivity()`."
   ]
  },
  {
   "cell_type": "code",
   "execution_count": 6,
   "id": "55912a76",
   "metadata": {},
   "outputs": [],
   "source": [
    "agitateurMesh3DMc = pressOnAgitatorMc.getMesh()\n",
    "(\n",
    "    m3DSurf,\n",
    "    desc,\n",
    "    descI,\n",
    "    revDesc,\n",
    "    revDescI,\n",
    ") = agitateurMesh3DMc.buildDescendingConnectivity()\n",
    "nbOf3DCellSharing = revDescI.deltaShiftIndex()\n",
    "ids2 = nbOf3DCellSharing.findIdsEqual(\n",
    "    1\n",
    ")  # Cells with only one neighbor are on the boundary, i.e. on the skin\n",
    "agitateurSkinMc = m3DSurf[ids2]\n",
    "offsetsOfTupleIdsInField = revDescI[ids2]\n",
    "tupleIdsInField = revDesc[offsetsOfTupleIdsInField]\n",
    "pressOnSkinAgitateurMc = pressOnAgitatorMc[tupleIdsInField]\n",
    "pressOnSkinAgitateurMc.setMesh(agitateurSkinMc)"
   ]
  },
  {
   "cell_type": "markdown",
   "id": "dcb67645",
   "metadata": {},
   "source": [
    "## **Manipulating fields**\n",
    "\n",
    "Calculate the vector field of force on the stirrer's surface by multiplying the pressure for each cell by the surface and then by the normal vector. The pressure is in bar, so convert it beforehand to pascal (Pa)."
   ]
  },
  {
   "cell_type": "code",
   "execution_count": 7,
   "id": "0e6a48ed",
   "metadata": {},
   "outputs": [],
   "source": [
    "pressSkin = pressOnSkinAgitateurMc.getArray()\n",
    "pressSkin *= 1e5  # conversion from bar to Pa\n",
    "areaSkin = agitateurSkinMc.getMeasureField(True).getArray()\n",
    "forceSkin = pressSkin * areaSkin\n",
    "normalSkin = agitateurSkinMc.buildOrthogonalField().getArray()\n",
    "forceVectSkin = forceSkin * normalSkin"
   ]
  },
  {
   "cell_type": "markdown",
   "id": "8b1f9deb",
   "metadata": {},
   "source": [
    "Now, let's calculate the first moment at the center of mass of the stirrer:\n",
    "\n",
    "To make this first calculation of the torque exerted on the stirrer, let's calculate the position of the stirrer's center of mass. Calculate the polyhedron representing the envelope of the 3D mesh of the stirrer `agitateurMesh3DMc` (use `MEDCouplingUMesh.buildSpreadZonesWithPoly()`)."
   ]
  },
  {
   "cell_type": "code",
   "execution_count": 8,
   "id": "d9c1b5f5",
   "metadata": {},
   "outputs": [],
   "source": [
    "singlePolyhedron = agitateurMesh3DMc.buildSpreadZonesWithPoly()\n",
    "singlePolyhedron.orientCorrectlyPolyhedrons()\n",
    "centerOfMass = singlePolyhedron.computeCellCenterOfMass()"
   ]
  },
  {
   "cell_type": "markdown",
   "id": "f478a91c",
   "metadata": {},
   "source": [
    "<div class=\"alert alert-block alert-success\">\n",
    "<b>Note:</b> Calling MEDCouplingUMesh.orientCorrectlyPolyhedrons() is not obligatory but recommended because if by chance the polyhedron is incorrectly oriented, its barycenter will be incorrect!</div>\n",
    "\n",
    "Calculate for each cell of the stirrer's surface the moment with respect to the center of mass `centerOfMass` of the stirrer. To do this, calculate `posSkin`, the `DataArrayDouble` giving for each cell of the stirrer's surface the vector `centerOfMass` -> `G`, with `G` the barycenter of the current cell."
   ]
  },
  {
   "cell_type": "code",
   "execution_count": 9,
   "id": "8e57f690",
   "metadata": {},
   "outputs": [],
   "source": [
    "barySkin = agitateurSkinMc.computeCellCenterOfMass()\n",
    "posSkin = barySkin - centerOfMass"
   ]
  },
  {
   "cell_type": "markdown",
   "id": "14924596",
   "metadata": {},
   "source": [
    "Now apply the classical formula for moment calculation: calculate the cross product by cell of `posSkin` with `forceVectSkin` (method `DataArrayDouble.CrossProduct()`)."
   ]
  },
  {
   "cell_type": "code",
   "execution_count": 10,
   "id": "5f08398a",
   "metadata": {},
   "outputs": [],
   "source": [
    "torquePerCellOnSkin = mc.DataArrayDouble.CrossProduct(posSkin, forceVectSkin)"
   ]
  },
  {
   "cell_type": "markdown",
   "id": "4ac56a09",
   "metadata": {},
   "source": [
    "Sum `torqueOnSkin` using the method `DataArrayDouble.accumulate()`."
   ]
  },
  {
   "cell_type": "code",
   "execution_count": 11,
   "id": "023cd412",
   "metadata": {},
   "outputs": [
    {
     "name": "stdout",
     "output_type": "stream",
     "text": [
      "torque = 0.3711375034033866 N.m\n"
     ]
    }
   ],
   "source": [
    "zeTorque = torquePerCellOnSkin.accumulate()\n",
    "print(\"torque = %r N.m\" % zeTorque[2])"
   ]
  },
  {
   "cell_type": "markdown",
   "id": "0247a464",
   "metadata": {},
   "source": [
    "Let's check the previously calculated torque by dividing the power by the angular velocity. The linear velocity is stored in the field \"VITESSE_ELEM_DOM\".\n",
    "\n",
    "Calculate the power for each cell of the stirrer's surface and sum it."
   ]
  },
  {
   "cell_type": "code",
   "execution_count": 12,
   "id": "f1667a2b",
   "metadata": {},
   "outputs": [
    {
     "name": "stdout",
     "output_type": "stream",
     "text": [
      "power = 4.2182814639631365 W\n"
     ]
    }
   ],
   "source": [
    "speedMts = data.getFields()[\"VITESSE_ELEM_DOM\"]\n",
    "speed1ts = speedMts[(2, -1)]\n",
    "speedMc = speed1ts.getFieldAtLevel(mc.ON_CELLS, 0)\n",
    "speedOnSkin = speedMc.getArray()[tupleIdsInField]\n",
    "powerSkin = mc.DataArrayDouble.Dot(forceVectSkin, speedOnSkin)\n",
    "power = powerSkin.accumulate()[0]\n",
    "print(\"power = %r W\" % (power))"
   ]
  },
  {
   "cell_type": "markdown",
   "id": "25717b38",
   "metadata": {},
   "source": [
    "Calculate the angular velocity. To do this, calculate the sum of `x^2`, `y^2`, and `xz` from `posSkin` and build (with NumPy) the 2x2 inertia matrix `inertiaSkin=[[x2,xy], [xy,z2]]`.\n",
    "\n",
    "Retrieve the eigenvector associated with the maximum eigenvalue with `linalg.eig(inertiaSkin)`."
   ]
  },
  {
   "cell_type": "code",
   "execution_count": 13,
   "id": "7456aba8",
   "metadata": {},
   "outputs": [
    {
     "name": "stdout",
     "output_type": "stream",
     "text": [
      "[0.9801318427259155, -0.19834709696565114]\n"
     ]
    }
   ],
   "source": [
    "x2 = posSkin[:, 0] * posSkin[:, 0]\n",
    "x2 = x2.accumulate()[0]\n",
    "y2 = posSkin[:, 1] * posSkin[:, 1]\n",
    "y2 = y2.accumulate()[0]\n",
    "xy = posSkin[:, 0] * posSkin[:, 1]\n",
    "xy = xy.accumulate()[0]\n",
    "inertiaSkin = np.matrix([[x2, xy], [xy, y2]])\n",
    "inertiaSkinValues, inertiaSkinVects = np.linalg.eig(inertiaSkin)\n",
    "pos = max(enumerate(inertiaSkinValues), key=lambda x: x[1])[0]\n",
    "vect0 = inertiaSkinVects[pos].tolist()[0]\n",
    "print(vect0)"
   ]
  },
  {
   "cell_type": "markdown",
   "id": "95545e07",
   "metadata": {},
   "source": [
    "With the previous calculation, we can deduce that the stirrer has rotated by 1.1183827931 radians (cf. complete solution for details - we put the previous steps in a function that we apply to several time steps).\n",
    "\n",
    "Calculate and compare the torque on the stirrer."
   ]
  },
  {
   "cell_type": "code",
   "execution_count": 14,
   "id": "fb084c5a",
   "metadata": {},
   "outputs": [
    {
     "name": "stdout",
     "output_type": "stream",
     "text": [
      "At timestep (2,-1) (physical time=0.02 s) the torque is: 0.3711375034033866 N.m, power/omega=0.377176892383211 N.m \n"
     ]
    }
   ],
   "source": [
    "omega = 1.1183827931 / (ts[-1][2] - ts[0][2])\n",
    "print(\n",
    "    \"At timestep (%d,%d) (physical time=%r s) the torque is: %r N.m, power/omega=%r N.m \"\n",
    "    % (ts[2][0], ts[2][1], ts[2][2], zeTorque[2], power / omega)\n",
    ")"
   ]
  }
 ],
 "metadata": {
  "kernelspec": {
   "display_name": "Python 3",
   "language": "python",
   "name": "python3"
  },
  "language_info": {
   "codemirror_mode": {
    "name": "ipython",
    "version": 3
   },
   "file_extension": ".py",
   "mimetype": "text/x-python",
   "name": "python",
   "nbconvert_exporter": "python",
   "pygments_lexer": "ipython3",
   "version": "3.6.15"
  }
 },
 "nbformat": 4,
 "nbformat_minor": 5
}
