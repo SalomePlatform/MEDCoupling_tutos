{
 "cells": [
  {
   "cell_type": "markdown",
   "id": "laughing-mustang",
   "metadata": {},
   "source": [
    "# Spliter et fusionner un fichier MED grâce à l’API avancée de MEDLoader\n",
    "\n",
    "## Objectif\n",
    "\n",
    "Cet exercise présente un cas complet et avancé d’utilisation de l’API avancée de MEDLoader. Le but est de créer un maillage multi-type à partir de rien avec 2 champs :\n",
    "\n",
    "> - un champ aux cellules “CellField”\n",
    "> - un champ aux noeuds “NodeField”\n",
    "\n",
    "Nous allons ensuite couper ces champs en deux parties (dans le but d’un traitement en parallèle par un code par exemple) et aussi montrer comment re-fusionner deux champs à partir de morceaux disjoints.\n",
    "\n",
    "## Début de l’implémentation\n",
    "\n",
    "Créer un unstructured mesh `m0` issu d’un maillage structuré (meshDim=2, spaceDim=2) de 30*30. Chacune des cellules paires du maillage sera simplexisée (i.e. coupée en triangle - méthode `MEDCouplingUMesh.simplexize(0)`)"
   ]
  },
  {
   "cell_type": "code",
   "execution_count": null,
   "id": "chicken-standard",
   "metadata": {},
   "outputs": [],
   "source": [
    "import medcoupling as mc\n",
    "\n",
    "m0 = mc.MEDCouplingCMesh()\n",
    "arr = mc.DataArrayDouble(31, 1)\n",
    "arr.iota(0.0)\n",
    "m0.setCoords(arr, arr)\n",
    "m0 = m0.buildUnstructured()\n",
    "m00 = m0[::2]  # Extract even cells\n",
    "m00.simplexize(0)\n",
    "m01 = m0[1::2]\n",
    "m0 = mc.MEDCouplingUMesh.MergeUMeshes([m00, m01])\n",
    "m0.getCoords()[:] *= 1 / 15.0  # Illustrate how to quickly rescale a mesh\n",
    "m0.setName(\"mesh\")"
   ]
  },
  {
   "cell_type": "markdown",
   "id": "adolescent-today",
   "metadata": {},
   "source": [
    "<div class=\"alert alert-block alert-success\">\n",
    "<b>Note:</b> Le setName() sur “m0” est obligatoire. Ne pas oublier que dans le contexte MED fichier le nommage correct des maillages est fondamental.</div>\n",
    "\n",
    "Créer les champs `cellField` et `nodeField` au pas de temps identifié à (5,6) et au pas de temps 5.6 s."
   ]
  },
  {
   "cell_type": "code",
   "execution_count": null,
   "id": "noticed-nurse",
   "metadata": {},
   "outputs": [],
   "source": [
    "# Cell field\n",
    "cellField = mc.MEDCouplingFieldDouble(mc.ON_CELLS, mc.ONE_TIME)\n",
    "cellField.setTime(5.6, 5, 6)\n",
    "cellField.setMesh(m0)\n",
    "cellField.setName(\"CellField\")\n",
    "cellField.fillFromAnalytic(1, \"exp(-((x-1)*(x-1)+(y-1)*(y-1)))\")\n",
    "cellField.getArray().setInfoOnComponent(0, \"powercell [W]\")\n",
    "# Node field\n",
    "nodeField = mc.MEDCouplingFieldDouble(mc.ON_NODES, mc.ONE_TIME)\n",
    "nodeField.setTime(5.6, 5, 6)\n",
    "nodeField.setMesh(m0)\n",
    "nodeField.setName(\"NodeField\")\n",
    "nodeField.fillFromAnalytic(1, \"exp(-((x-1)*(x-1)+(y-1)*(y-1)))\")\n",
    "nodeField.getArray().setInfoOnComponent(0, \"powernode [W]\")"
   ]
  },
  {
   "cell_type": "markdown",
   "id": "prescribed-opposition",
   "metadata": {},
   "source": [
    "On obtient par exemple pour “CellField” ceci :\n",
    "\n",
    "<img src=\"SplitAndMergeCell1.jpg\" style=\"width:500px;\">\n",
    "\n",
    "## Partitionnement de maillage\n",
    "\n",
    "Couper `m0` en deux parties distinctes. Les deux parties seront nommées **`proc0`** et **`proc1`**. **`proc0`** sera la partie dans la boîte englobante (**`MEDCouplingUMesh.getCellsInBoundingBox()`**) **`[(0.,0.4),(0.,0.4)]`** à 1e-10 près. **`proc1`** sera le complémentaire (`DataArrayInt.buildComplement()`)."
   ]
  },
  {
   "cell_type": "code",
   "execution_count": null,
   "id": "spread-reward",
   "metadata": {},
   "outputs": [],
   "source": [
    "proc0 = m0.getCellsInBoundingBox([(0.0, 0.4), (0.0, 0.4)], 1e-10)\n",
    "proc1 = proc0.buildComplement(m0.getNumberOfCells())"
   ]
  },
  {
   "cell_type": "markdown",
   "id": "burning-equipment",
   "metadata": {},
   "source": [
    "<img src=\"SplitAndMergeCell2.jpg\" style=\"width:500px;\">\n",
    "\n",
    "## Ecriture dans 2 fichiers MED séparés\n",
    "\n",
    "En partant du partitionnement `proc0` et `proc1` créer 2 fichiers MED appelés “proc0.med” et “proc1.med” :"
   ]
  },
  {
   "cell_type": "code",
   "execution_count": null,
   "id": "suited-fence",
   "metadata": {},
   "outputs": [],
   "source": [
    "nodeField0 = nodeField[proc0]\n",
    "cellField0 = cellField[proc0]\n",
    "cellField0.setMesh(nodeField0.getMesh())\n",
    "nodeField1 = nodeField[proc1]\n",
    "cellField1 = cellField[proc1]\n",
    "cellField1.setMesh(nodeField1.getMesh())\n",
    "\n",
    "proc0_fname = \"proc0.med\"\n",
    "mc.WriteField(proc0_fname, nodeField0, True)\n",
    "mc.WriteFieldUsingAlreadyWrittenMesh(proc0_fname, cellField0)\n",
    "\n",
    "proc1_fname = \"proc1.med\"\n",
    "mc.WriteField(proc1_fname, nodeField1, True)\n",
    "mc.WriteFieldUsingAlreadyWrittenMesh(proc1_fname, cellField1)"
   ]
  },
  {
   "cell_type": "markdown",
   "id": "spanish-sellers",
   "metadata": {},
   "source": [
    "Lecture et fusion des 2 fichiers MED séparés (non optimal)\n",
    "\n",
    "Partant de “proc0.med” et de “proc1.med” lire leur “CellField” respectif avec l’API basique, agréger les deux et mettre le résultat dans `cellField_read` :"
   ]
  },
  {
   "cell_type": "code",
   "execution_count": null,
   "id": "accepted-chapel",
   "metadata": {},
   "outputs": [],
   "source": [
    "cellField0_read = mc.ReadFieldCell(\"proc0.med\", \"mesh\", 0, \"CellField\", 5, 6)\n",
    "cellField1_read = mc.ReadFieldCell(\"proc1.med\", \"mesh\", 0, \"CellField\", 5, 6)\n",
    "cellField_read = mc.MEDCouplingFieldDouble.MergeFields(\n",
    "    [cellField0_read, cellField1_read]\n",
    ")"
   ]
  },
  {
   "cell_type": "markdown",
   "id": "atmospheric-hurricane",
   "metadata": {},
   "source": [
    "<div class=\"alert alert-block alert-success\">\n",
    "<b>Note:</b> On peut avoir l’impression que l’information Cell (méthode ReadFieldCell) est répétée de manière abusive (effectivement le champ “CellField” a été créé aux cellules), mais ne pas oublier que dans la norme MED fichier rien n’interdit qu’un champ repose sur des cellules mais aussi simultanément sur des noeuds, ou des points de Gauss …</div>\n",
    "\n",
    "Comparer `cellField_read` et **`cellField0`**. Problème, à cause de la contrainte sur la numérotation MED fichier, on a perdu la numérotation initiale. Ou plus exactement il n’y a pas de moyen standard de retrouver la numérotation originale. Donc un **`MEDCouplingFieldDouble.isEqual()`** n’est pas suffisant. Utilisons un **`MEDCouplingFieldDouble.substractInPlaceDM()`** qui opère pour nous une renumérotation suivant une politique particulière (policy, voir doc html). Pour ce faire une copie profonde (deep copy) de **`cellField`** vers **`cellFieldCpy`** et opérer sur cette copie un **`substractInPlaceDM`** (DM pour “Different Meshes”, contrairement à `substract` qui ne marche que s’ils partagent le même maillage):"
   ]
  },
  {
   "cell_type": "code",
   "execution_count": null,
   "id": "polished-format",
   "metadata": {},
   "outputs": [],
   "source": [
    "cellFieldCpy = cellField.deepCopy()\n",
    "cellFieldCpy.substractInPlaceDM(cellField_read, 10, 1e-12)\n",
    "cellFieldCpy.getArray().abs()\n",
    "print(cellFieldCpy.getArray().isUniform(0.0, 1e-12))"
   ]
  },
  {
   "cell_type": "markdown",
   "id": "robust-classroom",
   "metadata": {},
   "source": [
    "Opérons le même travail sur “NodeField” que celui réalisé plus haut sur “CellField”. La différence ici c’est qu’il va y avoir duplication de l’information à la frontière, car les noeuds limites sont partagés des deux côtés :"
   ]
  },
  {
   "cell_type": "code",
   "execution_count": null,
   "id": "varied-claim",
   "metadata": {},
   "outputs": [],
   "source": [
    "nodeField0_read = mc.ReadFieldNode(\"proc0.med\", \"mesh\", 0, \"NodeField\", 5, 6)\n",
    "nodeField1_read = mc.ReadFieldNode(\"proc1.med\", \"mesh\", 0, \"NodeField\", 5, 6)\n",
    "nodeField_read = mc.MEDCouplingFieldDouble.MergeFields(\n",
    "    [nodeField0_read, nodeField1_read]\n",
    ")"
   ]
  },
  {
   "cell_type": "markdown",
   "id": "changed-occupation",
   "metadata": {},
   "source": [
    "<div class=\"alert alert-block alert-success\">\n",
    "<b>Note:</b> Dans cette partie, on a donc relu le maillage une deuxième fois ce qui peut être pénalisant …</div>\n",
    "\n",
    "Invoquer `MEDCouplingUMesh.mergeNodes()` sur **`nodeField_read`** pour lui retirer les noeuds dupliqués. Faire une deep copy appelée **`nodeFieldCpy`** de `nodeField` et supprimer encore les doublons :"
   ]
  },
  {
   "cell_type": "code",
   "execution_count": null,
   "id": "saving-scanner",
   "metadata": {},
   "outputs": [],
   "source": [
    "nodeField_read.mergeNodes(1e-10)\n",
    "nodeFieldCpy = nodeField.deepCopy()\n",
    "nodeFieldCpy.mergeNodes(1e-10)"
   ]
  },
  {
   "cell_type": "markdown",
   "id": "waiting-navigator",
   "metadata": {},
   "source": [
    "<div class=\"alert alert-block alert-success\">\n",
    "<b>Note:</b> A noter que mergeNodes() possède deux paramètres de précisions (epsilons), le premier, classique, sur la distance absolue entre les noeuds, et l’autre sur la tolérance acceptée sur les valeurs du champ. Si la valeur du champ de deux noeuds à fusionner dépasse ce deuxième epsilon, une exception est levée.</div>\n",
    "\n",
    "Comparer `nodeFieldCpy` et **`nodeField_read`** toujours en utilisant `MEDCouplingFieldDouble.substractInPlaceDM()` :"
   ]
  },
  {
   "cell_type": "code",
   "execution_count": null,
   "id": "helpful-timeline",
   "metadata": {},
   "outputs": [],
   "source": [
    "nodeFieldCpy.substractInPlaceDM(nodeField_read, 10, 1e-12)\n",
    "print(nodeFieldCpy.getArray().isUniform(0.0, 1e-12))"
   ]
  },
  {
   "cell_type": "markdown",
   "id": "single-jefferson",
   "metadata": {},
   "source": [
    "## Lecture et merge des 2 fichiers MED séparés (moins facile, mais plus optimal)\n",
    "\n",
    "Il s’agit ici de faire une méthode plus systématique et potentiellement plus générale de fusion de fichiers. Pour de gros fichiers cette approche est à préférer. Outre la performance, cette approche a l’avantage de pouvoir rajouter des infos.\n",
    "\n",
    "Avec l’API avancée lire les maillages des deux fichiers “proc0.med” et “proc1.med” et agréger le résultat dans une instance `mergeMLMesh` de **`MEDFileUMesh`**. Traiter tous les niveaux de dimension (même si ici il n’y en a qu’un seul) en utilisant la méthode `MEDFileUMesh.getNonEmptyLevels()` sur l’instance venant de “proc0.med”.\n",
    "\n",
    "La solution donnée ci-dessous est la plus générique possible, car elle traite aussi les différents pas de temps et les différents types géométriques :"
   ]
  },
  {
   "cell_type": "code",
   "execution_count": null,
   "id": "animal-battlefield",
   "metadata": {},
   "outputs": [],
   "source": [
    "fileNames = [\"proc0.med\", \"proc1.med\"]\n",
    "msML = [mc.MEDFileMesh.New(fname) for fname in fileNames]\n",
    "fsML = [mc.MEDFileFields.New(fname) for fname in fileNames]\n",
    "mergeMLMesh = mc.MEDFileUMesh()\n",
    "mergeMLFields = mc.MEDFileFields()\n",
    "for lev in msML[0].getNonEmptyLevels():\n",
    "    o2nML = len(msML[0].getNonEmptyLevels()) * [None]\n",
    "    cs = [mML.getCoords() for mML in msML]\n",
    "    mergeMLMesh.setCoords(mc.DataArrayDouble.Aggregate(cs))\n",
    "    ms = [mML.getMeshAtLevel(lev) for mML in msML]\n",
    "    m = mc.MEDCouplingUMesh.MergeUMeshes(ms)\n",
    "    m.setCoords(mergeMLMesh.getCoords())\n",
    "    o2nML[lev] = m.sortCellsInMEDFileFrmt()\n",
    "    mergeMLMesh.setMeshAtLevel(lev, m)\n",
    "    pass\n",
    "\n",
    "for fieldName in fsML[0].getFieldsNames():\n",
    "    fmts = [fML[fieldName] for fML in fsML]\n",
    "    mergeField = mc.MEDFileFieldMultiTS()\n",
    "    for dt, it, tim in fmts[0].getTimeSteps():\n",
    "        fts = [fmt[dt, it] for fmt in fmts]\n",
    "        arrs = len(fts) * [None]\n",
    "        for typp in fts[0].getTypesOfFieldAvailable():\n",
    "            arr1s = []\n",
    "            if typp == mc.ON_CELLS:\n",
    "                for ft in fts:\n",
    "                    for geoTyp, smth in ft.getFieldSplitedByType():\n",
    "                        if geoTyp != mc.NORM_ERROR:\n",
    "                            smth1 = filter(lambda x: x[0] == mc.ON_CELLS, smth)\n",
    "                            arr2s = [\n",
    "                                ft.getUndergroundDataArray()[elt[1][0] : elt[1][1]]\n",
    "                                for elt in smth1\n",
    "                            ]\n",
    "                            arr1s.append(mc.DataArrayDouble.Aggregate(arr2s))\n",
    "                            pass\n",
    "                        pass\n",
    "                    pass\n",
    "                pass\n",
    "            else:\n",
    "                for ft in fts:\n",
    "                    smth = filter(\n",
    "                        lambda x: x[0] == mc.NORM_ERROR, ft.getFieldSplitedByType()\n",
    "                    )\n",
    "                    arr2 = mc.DataArrayDouble.Aggregate(\n",
    "                        [\n",
    "                            ft.getUndergroundDataArray()[\n",
    "                                elt[1][0][1][0] : elt[1][0][1][1]\n",
    "                            ]\n",
    "                            for elt in smth\n",
    "                        ]\n",
    "                    )\n",
    "                    arr1s.append(arr2)\n",
    "                    pass\n",
    "                pass\n",
    "\n",
    "            arr = mc.DataArrayDouble.Aggregate(arr1s)\n",
    "\n",
    "            if typp == mc.ON_CELLS:\n",
    "                arr.renumberInPlace(o2nML[lev])\n",
    "\n",
    "            mcf = mc.MEDCouplingFieldDouble(typp, mc.ONE_TIME)\n",
    "            mcf.setName(fieldName)\n",
    "            mcf.setTime(tim, dt, it)\n",
    "            mcf.setArray(arr)\n",
    "            mcf.setMesh(mergeMLMesh.getMeshAtLevel(lev))\n",
    "            mcf.checkConsistencyLight()\n",
    "            mergeField.appendFieldNoProfileSBT(mcf)\n",
    "            pass\n",
    "        pass\n",
    "    mergeMLFields.pushField(mergeField)\n",
    "    pass\n",
    "\n",
    "mergeMLMesh.write(\"merge.med\", 2)\n",
    "mergeMLFields.write(\"merge.med\", 0)"
   ]
  }
 ],
 "metadata": {
  "kernelspec": {
   "display_name": "Python 3 (ipykernel)",
   "language": "python",
   "name": "python3"
  },
  "language_info": {
   "codemirror_mode": {
    "name": "ipython",
    "version": 3
   },
   "file_extension": ".py",
   "mimetype": "text/x-python",
   "name": "python",
   "nbconvert_exporter": "python",
   "pygments_lexer": "ipython3",
   "version": "3.7.9"
  }
 },
 "nbformat": 4,
 "nbformat_minor": 5
}
