{
 "cells": [
  {
   "cell_type": "code",
   "execution_count": null,
   "id": "intermediate-islam",
   "metadata": {},
   "outputs": [],
   "source": [
    "import MEDLoader as ml\n",
    "\n",
    "# Mesh creation\n",
    "targetCoords = [-0.3,-0.3, 0.2,-0.3, 0.7,-0.3, -0.3,0.2, 0.2,0.2, 0.7,0.2, -0.3,0.7, 0.2,0.7, 0.7,0.7 ]\n",
    "targetConn = [0,3,4,1, 1,4,2, 4,5,2, 6,7,4,3, 7,8,5,4]\n",
    "targetMesh = ml.MEDCouplingUMesh(\"MyMesh\",2)\n",
    "targetMesh.allocateCells(5)\n",
    "targetMesh.insertNextCell(ml.NORM_TRI3,3,targetConn[4:7])\n",
    "targetMesh.insertNextCell(ml.NORM_TRI3,3,targetConn[7:10])\n",
    "targetMesh.insertNextCell(ml.NORM_QUAD4,4,targetConn[0:4])\n",
    "targetMesh.insertNextCell(ml.NORM_QUAD4,4,targetConn[10:14])\n",
    "targetMesh.insertNextCell(ml.NORM_QUAD4,4,targetConn[14:18])\n",
    "myCoords = ml.DataArrayDouble(targetCoords,9,2)\n",
    "myCoords.setInfoOnComponents([\"X [km]\",\"YY [mm]\"])\n",
    "targetMesh.setCoords(myCoords)\n",
    "\n",
    "# Writing mesh only\n",
    "ml.WriteUMesh(\"TargetMesh.med\",targetMesh,True)  # True means 'from scratch'\n",
    "\n",
    "# Re-read it and test equality\n",
    "meshRead = ml.ReadUMeshFromFile(\"TargetMesh.med\",targetMesh.getName(),0)\n",
    "print(\"Is the read mesh equal to 'targetMesh' ?\", meshRead.isEqual(targetMesh,1e-12))\n",
    "\n",
    "# Writing a field and its support mesh in one go\n",
    "f = ml.MEDCouplingFieldDouble.New(ml.ON_CELLS, ml.ONE_TIME)\n",
    "f.setTime(5.6,7,8)                              # Declare the timestep associated to the field\n",
    "f.setArray(targetMesh.computeCellCenterOfMass())\n",
    "f.setMesh(targetMesh)\n",
    "f.setName(\"AFieldName\")\n",
    "ml.WriteField(\"MyFirstField.med\",f,True)\n",
    "\n",
    "# Re-read it and test equality\n",
    "f2 = ml.ReadFieldCell(\"MyFirstField.med\", f.getMesh().getName(), 0, f.getName(), 7, 8)\n",
    "print(\"Is the read field identical to 'f' ?\", f2.isEqual(f,1e-12,1e-12))\n",
    "\n",
    "# Writing in several steps\n",
    "ml.WriteUMesh(\"MySecondField.med\",f.getMesh(),True)\n",
    "ml.WriteFieldUsingAlreadyWrittenMesh(\"MySecondField.med\",f)\n",
    "\n",
    "# A second field to write\n",
    "f2 = f.clone(True)         # 'True' means that we need a deep copy\n",
    "f2.getArray()[:] = 2.0\n",
    "f2.setTime(7.8,9,10)\n",
    "ml.WriteFieldUsingAlreadyWrittenMesh(\"MySecondField.med\",f2)\n",
    "\n",
    "# Re-read and test this two-timestep field\n",
    "f3 = ml.ReadFieldCell(\"MySecondField.med\",f.getMesh().getName(),0,f.getName(),7,8)\n",
    "print(\"Is the field read in file equals to 'f' ?\", f.isEqual(f3,1e-12,1e-12))\n",
    "f4 = ml.ReadFieldCell(\"MySecondField.med\",f.getMesh().getName(),0,f.getName(),9,10)\n",
    "print(\"Is the field read in file equals to 'f2' ?\", f2.isEqual(f4,1e-12,1e-12))"
   ]
  }
 ],
 "metadata": {
  "kernelspec": {
   "display_name": "Python 3",
   "language": "python",
   "name": "python3"
  },
  "language_info": {
   "codemirror_mode": {
    "name": "ipython",
    "version": 3
   },
   "file_extension": ".py",
   "mimetype": "text/x-python",
   "name": "python",
   "nbconvert_exporter": "python",
   "pygments_lexer": "ipython3",
   "version": "3.7.3"
  }
 },
 "nbformat": 4,
 "nbformat_minor": 5
}
