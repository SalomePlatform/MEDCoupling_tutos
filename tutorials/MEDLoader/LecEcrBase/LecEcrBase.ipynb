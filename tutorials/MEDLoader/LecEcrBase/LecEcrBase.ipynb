{
 "cells": [
  {
   "cell_type": "markdown",
   "id": "mineral-efficiency",
   "metadata": {},
   "source": [
    "# **Lecture, écriture d’un fichier MED grâce à l’API basique de MEDLoader**\n",
    "\n",
    "L’API basique de MEDLoader est contenue dans la classe **`MEDLoader`**. Toutes les méthodes de cette classe sont statiques (elles ne dépendent pas d’une instance particulière de la classe), leurs noms commencent par une majuscule. L’ensemble des lectures/écritures sont exécutées à chaque appel de méthode et aucun état interne à la classe n’est enregistré.\n",
    "\n",
    "## **Objectif**\n",
    "\n",
    "Ecrire un maillage et un champ à partir de rien, les relire et comparer les résultats.\n",
    "\n",
    "Points abordés: en utilisant l’API basique de **`MEDLoader`**\n",
    "\n",
    "> - Ecrire un fichier\n",
    "> - Lire un fichier\n",
    "\n",
    "## **Début d’implémentation**\n",
    "\n",
    "Cet exercice repose comme tous les autres sur le language de script Python. On charge le module Python **`MEDLoader`**.\n",
    "\n",
    "Pour information, le module **`MEDCoupling`** complet est inclus dans **`MEDLoader`**. Pas besoin de l’importer si **`MEDLoader`** a été chargé."
   ]
  },
  {
   "cell_type": "code",
   "execution_count": null,
   "id": "reserved-lewis",
   "metadata": {},
   "outputs": [],
   "source": [
    "import medcoupling as mc"
   ]
  },
  {
   "cell_type": "markdown",
   "id": "specific-entrepreneur",
   "metadata": {},
   "source": [
    "## **Lecture, écriture d’un maillage**\n",
    "\n",
    "Tout d’abord créons un maillage **`targetMesh`** composé de plusieurs types géométriques."
   ]
  },
  {
   "cell_type": "code",
   "execution_count": null,
   "id": "related-cuisine",
   "metadata": {},
   "outputs": [],
   "source": [
    "targetCoords = [-0.3,-0.3, 0.2,-0.3, 0.7,-0.3, -0.3,0.2, 0.2,0.2, 0.7,0.2, -0.3,0.7, 0.2,0.7, 0.7,0.7 ]\n",
    "targetConn = [0,3,4,1, 1,4,2, 4,5,2, 6,7,4,3, 7,8,5,4]\n",
    "targetMesh = mc.MEDCouplingUMesh(\"MyMesh\",2)\n",
    "targetMesh.allocateCells(5)\n",
    "targetMesh.insertNextCell(mc.NORM_TRI3,3,targetConn[4:7])\n",
    "targetMesh.insertNextCell(mc.NORM_TRI3,3,targetConn[7:10])\n",
    "targetMesh.insertNextCell(mc.NORM_QUAD4,4,targetConn[0:4])\n",
    "targetMesh.insertNextCell(mc.NORM_QUAD4,4,targetConn[10:14])\n",
    "targetMesh.insertNextCell(mc.NORM_QUAD4,4,targetConn[14:18])\n",
    "myCoords = mc.DataArrayDouble(targetCoords,9,2)\n",
    "myCoords.setInfoOnComponents([\"X [km]\",\"YY [mm]\"])\n",
    "targetMesh.setCoords(myCoords)"
   ]
  },
  {
   "cell_type": "markdown",
   "id": "comparative-visitor",
   "metadata": {},
   "source": [
    "<div class=\"alert alert-block alert-success\">\n",
    "<b>Note:</b> Le maillage targetMesh est ordonné par type géométrique.</div>\n",
    "\n",
    "Le maillage peut alors directement être écrit …"
   ]
  },
  {
   "cell_type": "code",
   "execution_count": null,
   "id": "surgical-cross",
   "metadata": {},
   "outputs": [],
   "source": [
    "mc.WriteUMesh(\"TargetMesh.med\",targetMesh,True)  # True means 'from scratch'"
   ]
  },
  {
   "cell_type": "markdown",
   "id": "changed-heater",
   "metadata": {},
   "source": [
    "… et relu."
   ]
  },
  {
   "cell_type": "code",
   "execution_count": null,
   "id": "human-showcase",
   "metadata": {},
   "outputs": [],
   "source": [
    "meshRead = mc.ReadUMeshFromFile(\"TargetMesh.med\",targetMesh.getName(),0)\n",
    "print(\"Is the read mesh equal to 'targetMesh' ?\", meshRead.isEqual(targetMesh,1e-12))"
   ]
  },
  {
   "cell_type": "markdown",
   "id": "needed-drawing",
   "metadata": {},
   "source": [
    "## **Lire/Ecrire un champ sur un pas de temps**\n",
    "\n",
    "Nous créons maintenant un champ de vecteurs **`f`** aux cellules (P0) avec **`targetMesh`** comme support. Ce champ correspond par exemple au temps physique 5.6, repéré par l’itération 7 et la sous-itération 8. Nous en profitons pour rappeler que dans les champs **`MEDCoupling`**, le temps physique est donné pour information seulement, le stockage et la plupart des fonctions de l’API se basent sur les deux derniers entiers."
   ]
  },
  {
   "cell_type": "code",
   "execution_count": null,
   "id": "sealed-navigator",
   "metadata": {},
   "outputs": [],
   "source": [
    "f = mc.MEDCouplingFieldDouble.New(mc.ON_CELLS, mc.ONE_TIME)\n",
    "f.setTime(5.6,7,8)                              # Declare the timestep associated to the field\n",
    "f.setArray(targetMesh.computeCellCenterOfMass())\n",
    "f.setMesh(targetMesh)\n",
    "f.setName(\"AFieldName\")\n",
    "mc.WriteField(\"MyFirstField.med\",f,True)"
   ]
  },
  {
   "cell_type": "markdown",
   "id": "generous-society",
   "metadata": {},
   "source": [
    "Question subsidiaire : à quoi correspond le champ ainsi créé ?\n",
    "\n",
    "<div class=\"alert alert-block alert-success\">\n",
    "<b>Note:</b> Le maillage et le champ sont écrits d’un seul coup dans le fichier “MyFirstField.med”.</div>\n",
    "\n",
    "Nous relisons ensuite MyFirstField.med :"
   ]
  },
  {
   "cell_type": "code",
   "execution_count": null,
   "id": "ruled-split",
   "metadata": {},
   "outputs": [],
   "source": [
    "f2 = mc.ReadFieldCell(\"MyFirstField.med\", f.getMesh().getName(), 0, f.getName(), 7, 8)\n",
    "print(\"Is the read field identical to 'f' ?\", f2.isEqual(f,1e-12,1e-12))"
   ]
  },
  {
   "cell_type": "markdown",
   "id": "starting-musician",
   "metadata": {},
   "source": [
    "<div class=\"alert alert-block alert-success\">\n",
    "<b>Note:</b> Lors de la lecture du champ, on doit donc connaître: son nom, le nom de sa mesh de support et le pas de temps voulu. Des fonctions du type MEDFileFields.getFieldsNames() ou encore MEDFileMeshes.getMeshesNames() aident à cela.</div>\n",
    "\n",
    "<div class=\"alert alert-block alert-success\">\n",
    "<b>Note:</b> Le nom ReadFieldCell() rappelle que le champ doit être lu aux cellules. Souvenez-vous que suivant la norme MED fichier, un même champ peut avoir une partie de ses données stockées aux cellules, mais aussi simultanément aux noeuds, aux points de Gauss, etc … même si ce genre de mélange exotique n’est généralement pas conseillé.</div>\n",
    "\n",
    "## **Lire/Ecrire un champ sur plusieurs pas de temps**\n",
    "\n",
    "Ici contrairement au cas précédent, nous écrivons en plusieurs fois dans le même fichier MED. Ecrivons tout d’abord le maillage."
   ]
  },
  {
   "cell_type": "code",
   "execution_count": null,
   "id": "tender-short",
   "metadata": {},
   "outputs": [],
   "source": [
    "mc.WriteUMesh(\"MySecondField.med\",f.getMesh(),True)"
   ]
  },
  {
   "cell_type": "markdown",
   "id": "upper-conversation",
   "metadata": {},
   "source": [
    "Ensuite, nous écrivons seulement les informations relatives au champ (principalement son tableau de valeurs en fait )."
   ]
  },
  {
   "cell_type": "code",
   "execution_count": null,
   "id": "recreational-reply",
   "metadata": {},
   "outputs": [],
   "source": [
    "mc.WriteFieldUsingAlreadyWrittenMesh(\"MySecondField.med\",f)   # mesh is not re-written"
   ]
  },
  {
   "cell_type": "markdown",
   "id": "average-carter",
   "metadata": {},
   "source": [
    "Nous rajoutons ensuite un second pas de temps sur le même maillage."
   ]
  },
  {
   "cell_type": "code",
   "execution_count": null,
   "id": "breathing-thomson",
   "metadata": {},
   "outputs": [],
   "source": [
    "f2 = f.clone(True)         # 'True' means that we need a deep copy\n",
    "f2.getArray()[:] = 2.0\n",
    "f2.setTime(7.8,9,10)\n",
    "mc.WriteFieldUsingAlreadyWrittenMesh(\"MySecondField.med\",f2)"
   ]
  },
  {
   "cell_type": "markdown",
   "id": "electoral-repair",
   "metadata": {},
   "source": [
    "Maintenant le fichier “MySecondField.med” contient le maillage et un champ à deux pas de temps porté par ce maillage.\n",
    "\n",
    "Nous pouvons relire tout cela avec des méthodes similaires à ce qui a été vu précédemment :"
   ]
  },
  {
   "cell_type": "code",
   "execution_count": null,
   "id": "federal-smooth",
   "metadata": {},
   "outputs": [],
   "source": [
    "f3 = mc.ReadFieldCell(\"MySecondField.med\",f.getMesh().getName(),0,f.getName(),7,8)\n",
    "print(\"Is the field read in file equals to 'f' ?\", f.isEqual(f3,1e-12,1e-12))\n",
    "f4 = mc.ReadFieldCell(\"MySecondField.med\",f.getMesh().getName(),0,f.getName(),9,10)\n",
    "print(\"Is the field read in file equals to 'f2' ?\", f2.isEqual(f4,1e-12,1e-12))"
   ]
  }
 ],
 "metadata": {
  "kernelspec": {
   "display_name": "Python 3 (ipykernel)",
   "language": "python",
   "name": "python3"
  },
  "language_info": {
   "codemirror_mode": {
    "name": "ipython",
    "version": 3
   },
   "file_extension": ".py",
   "mimetype": "text/x-python",
   "name": "python",
   "nbconvert_exporter": "python",
   "pygments_lexer": "ipython3",
   "version": "3.7.9"
  }
 },
 "nbformat": 4,
 "nbformat_minor": 5
}
