{
 "cells": [
  {
   "cell_type": "markdown",
   "id": "visible-worse",
   "metadata": {},
   "source": [
    "# **Lecture, écriture d’un fichier MED grâce à l’API avancée de MEDLoader**\n",
    "\n",
    "L’API avancée de MEDLoader est représentée par les classes **`MEDFile*`** de la bibliothèque MEDLoader.\n",
    "\n",
    "> - Au plus haut niveau, pour l’ensemble du fichier: **`MEDFileData`**,\n",
    "> - Pour l’ensemble des maillages du fichier : **`MEDFileMeshes`**,\n",
    "> - Pour chacun des maillages : **`MEDFileMeshMultiTS`**, **`MEDFileMesh`**, **`MEDFileUMesh`**, **`MEDFileCMesh`**,\n",
    "> - Pour l’ensemble des champs du fichier : **`MEDFileFields`**, **`MEDFileFieldGlobs`**,\n",
    "> - Et enfin pour chacun des champs : **`MEDFileField1TS`**, **`MEDFileFieldMultiTS`**\n",
    "\n",
    "## **Objectif**\n",
    "\n",
    "Ecrire un maillage et un champ à partir de rien, les relire et comparer les résultats.\n",
    "\n",
    "Points abordés : en utilisant l’API avancée de MEDLoader,\n",
    "\n",
    "> - Ecrire un fichier\n",
    "> - Lire un fichier\n",
    "\n",
    "## **Début d’implémentation**\n",
    "\n",
    "Cet exercice repose comme tous les autres sur le language de script Python. On charge le module Python **`MEDLoader`**.\n",
    "\n",
    "Pour information, le module **`MEDCoupling`** complet est inclus dans **`MEDLoader`**. Pas besoin de l’importer si **`MEDLoader`** a été chargé."
   ]
  },
  {
   "cell_type": "code",
   "execution_count": null,
   "id": "spectacular-washington",
   "metadata": {},
   "outputs": [],
   "source": [
    "import MEDLoader as ml"
   ]
  },
  {
   "cell_type": "markdown",
   "id": "written-shopping",
   "metadata": {},
   "source": [
    "## **Lecture, écriture d’un maillage**\n",
    "\n",
    "Nous créons tout d’abord le même maillage **`targetMesh`** que pour l’API simple."
   ]
  },
  {
   "cell_type": "code",
   "execution_count": null,
   "id": "documented-protest",
   "metadata": {},
   "outputs": [],
   "source": [
    "targetCoords = [-0.3,-0.3, 0.2,-0.3, 0.7,-0.3, -0.3,0.2, 0.2,0.2, 0.7,0.2, -0.3,0.7, 0.2,0.7, 0.7,0.7 ]\n",
    "targetConn = [0,3,4,1, 1,4,2, 4,5,2, 6,7,4,3, 7,8,5,4]\n",
    "targetMesh = ml.MEDCouplingUMesh(\"MyMesh\",2)\n",
    "targetMesh.allocateCells(5)\n",
    "targetMesh.insertNextCell(ml.NORM_TRI3,3,targetConn[4:7])\n",
    "targetMesh.insertNextCell(ml.NORM_TRI3,3,targetConn[7:10])\n",
    "targetMesh.insertNextCell(ml.NORM_QUAD4,4,targetConn[0:4])\n",
    "targetMesh.insertNextCell(ml.NORM_QUAD4,4,targetConn[10:14])\n",
    "targetMesh.insertNextCell(ml.NORM_QUAD4,4,targetConn[14:18])\n",
    "myCoords = ml.DataArrayDouble(targetCoords,9,2)\n",
    "myCoords.setInfoOnComponents([\"X [km]\",\"YY [mm]\"])\n",
    "targetMesh.setCoords(myCoords)"
   ]
  },
  {
   "cell_type": "markdown",
   "id": "private-conditioning",
   "metadata": {},
   "source": [
    "<div class=\"alert alert-block alert-success\">\n",
    "<b>Note:</b> Le maillage targetMesh est ordonné par type géométrique.</div>\n",
    "\n",
    "Nous construisons ensuite **`targetMesh1`** représentant les sous-constituants (faces) du maillage **`targetMesh`**, et nous en extrayons seulement les cellules (donc ici des surfaces) [3,4,7,8]. Pour plus de détails sur la connectivité descendante, consulter la section ***Connectivité descendante*** du deuxième exercise. Cet ensemble peut par exemple représenter un ensemble d’intérêt pour un calcul :"
   ]
  },
  {
   "cell_type": "code",
   "execution_count": null,
   "id": "engaged-might",
   "metadata": {},
   "outputs": [],
   "source": [
    "targetMeshConsti, _, _, _, _ = targetMesh.buildDescendingConnectivity()\n",
    "targetMesh1 = targetMeshConsti[[3,4,7,8]]\n",
    "targetMesh1.setName(targetMesh.getName())"
   ]
  },
  {
   "cell_type": "markdown",
   "id": "consecutive-wichita",
   "metadata": {},
   "source": [
    "<div class=\"alert alert-block alert-success\">\n",
    "<b>Note:</b> En Python, le underscore _ signifie que l’on attend une valeur de retour, mais qu’on n’en aura pas l’usage (on ne la bind pas).</div>\n",
    "\n",
    "<div class=\"alert alert-block alert-success\">\n",
    "<b>Note:</b> targetMesh1 sera sauvé comme étant une partie du même maillage global dans le fichier MED. Il doit donc avoir le même nom. C’est là qu’on voit qu’un maillage au sens MED fichier peut mélanger les dimensions.</div>\n",
    "\n",
    "On peut alors écrire les deux maillages dans le fichier “TargetMesh2.med”."
   ]
  },
  {
   "cell_type": "code",
   "execution_count": null,
   "id": "blocked-rabbit",
   "metadata": {},
   "outputs": [],
   "source": [
    "meshMEDFile = ml.MEDFileUMesh()\n",
    "meshMEDFile.setMeshAtLevel(0,targetMesh)\n",
    "meshMEDFile.setMeshAtLevel(-1,targetMesh1)\n",
    "meshMEDFile.write(\"TargetMesh2.med\",2)         # 2 stands for 'write from scratch'"
   ]
  },
  {
   "cell_type": "markdown",
   "id": "silver-softball",
   "metadata": {},
   "source": [
    "## **Lecture, écriture de groupes de mailles**\n",
    "\n",
    "Créons deux groupes de cellules sur le maillage 2D, c’est à dire au niveau relatif 0 (ici, le niveau relatif 0 correspond à la 2D, le niveau -1 correspond à la 1D, etc …). Le premier groupe **`grp0_Lev0`** contient les cellules [0,1,3] le second **`grp1_Lev0`** les cellules [1,2,3,4] :"
   ]
  },
  {
   "cell_type": "code",
   "execution_count": null,
   "id": "white-healthcare",
   "metadata": {},
   "outputs": [],
   "source": [
    "grp0_0 = ml.DataArrayInt([0,1,3])\n",
    "grp0_0.setName(\"grp0_Lev0\")\n",
    "grp1_0 = ml.DataArrayInt([1,2,3,4])\n",
    "grp1_0.setName(\"grp1_Lev0\")\n",
    "meshMEDFile.setGroupsAtLevel(0, [grp0_0,grp1_0])"
   ]
  },
  {
   "cell_type": "markdown",
   "id": "fantastic-chrome",
   "metadata": {},
   "source": [
    "<div class=\"alert alert-block alert-success\">\n",
    "<b>Note:</b> On voit évidemment ici l’importance de nommer les tableaux : c’est le nom qui sera utilisé pour le groupe.</div>\n",
    "\n",
    "Créons trois groupes de niveau -1, c’est à dire des groupes de faces. Le premier appelé **`grp0_LevM1`** aux cellules [0,1], le second appelé **`grp1_LevM1`** aux cellules [0,1,2], et le 3ème **`grp2_LevM1`** aux cellules [1,2,3] :"
   ]
  },
  {
   "cell_type": "code",
   "execution_count": null,
   "id": "latter-concord",
   "metadata": {},
   "outputs": [],
   "source": [
    "grp0_M1 = ml.DataArrayInt([0,1])\n",
    "grp0_M1.setName(\"grp0_LevM1\")\n",
    "grp1_M1 = ml.DataArrayInt([0,1,2])\n",
    "grp1_M1.setName(\"grp1_LevM1\")\n",
    "grp2_M1 = ml.DataArrayInt([1,2,3])\n",
    "grp2_M1.setName(\"grp2_LevM1\")\n",
    "meshMEDFile.setGroupsAtLevel(-1,[grp0_M1,grp1_M1,grp2_M1])"
   ]
  },
  {
   "cell_type": "markdown",
   "id": "spanish-canada",
   "metadata": {},
   "source": [
    "Ecrivons le tout :"
   ]
  },
  {
   "cell_type": "code",
   "execution_count": null,
   "id": "incomplete-optimum",
   "metadata": {},
   "outputs": [],
   "source": [
    "meshMEDFile.write(\"TargetMesh2.med\",2)         # 2 stands for 'write from scratch'"
   ]
  },
  {
   "cell_type": "markdown",
   "id": "toxic-separate",
   "metadata": {},
   "source": [
    "Nous pouvons ensuite re-lire le fichier MED :"
   ]
  },
  {
   "cell_type": "code",
   "execution_count": null,
   "id": "vanilla-logging",
   "metadata": {},
   "outputs": [],
   "source": [
    "meshMEDFileRead = ml.MEDFileMesh.New(\"TargetMesh2.med\") # a new is needed because it returns a MEDFileUMesh (MEDFileMesh is abstract)\n",
    "meshRead0 = meshMEDFileRead.getMeshAtLevel(0)\n",
    "meshRead1 = meshMEDFileRead.getMeshAtLevel(-1)\n",
    "print(\"Is level 0 in the file equal to 'targetMesh'?\", meshRead0.isEqual(targetMesh,1e-12))\n",
    "print(\"Is level 0 in the file equal to 'targetMesh1'?\", meshRead1.isEqual(targetMesh1,1e-12))"
   ]
  },
  {
   "cell_type": "markdown",
   "id": "conservative-weekly",
   "metadata": {},
   "source": [
    "Affichons les niveaux disponibles pour le groupe **`grp0_Lev0`** :"
   ]
  },
  {
   "cell_type": "code",
   "execution_count": null,
   "id": "surprised-database",
   "metadata": {},
   "outputs": [],
   "source": [
    "print(meshMEDFileRead.getGrpNonEmptyLevels(\"grp0_Lev0\"))"
   ]
  },
  {
   "cell_type": "markdown",
   "id": "aggregate-greene",
   "metadata": {},
   "source": [
    "Et récupérons enfin les identifiants de cellules contenus dans le groupe **`grp0_Lev0`** :"
   ]
  },
  {
   "cell_type": "code",
   "execution_count": null,
   "id": "russian-beach",
   "metadata": {},
   "outputs": [],
   "source": [
    "grp0_0_read = meshMEDFileRead.getGroupArr(0,\"grp0_Lev0\")\n",
    "print(\"Is group 'grp0_Lev0' equal to what is read in the file?\" , grp0_0_read.isEqual(grp0_0))"
   ]
  },
  {
   "cell_type": "markdown",
   "id": "decreased-combining",
   "metadata": {},
   "source": [
    "## **Lire/écrire des champs avec l’API avancée**\n",
    "\n",
    "Créons un champ de vecteurs simple, aux cellules (P0), avec un seul pas de temps, appelé f."
   ]
  },
  {
   "cell_type": "code",
   "execution_count": null,
   "id": "accepting-reproduction",
   "metadata": {},
   "outputs": [],
   "source": [
    "f = ml.MEDCouplingFieldDouble(ml.ON_CELLS, ml.ONE_TIME)\n",
    "f.setTime(5.6,7,8)\n",
    "f.setArray(targetMesh.computeCellCenterOfMass())\n",
    "f.setMesh(targetMesh)\n",
    "f.setName(\"AFieldName\")"
   ]
  },
  {
   "cell_type": "markdown",
   "id": "false-melissa",
   "metadata": {},
   "source": [
    "Stocker f dans un object **`MEDFileField1TS`** (un champ avec un seul pas de temps – one time-step, 1TS) pour préparer l’écriture MED"
   ]
  },
  {
   "cell_type": "code",
   "execution_count": null,
   "id": "clear-refrigerator",
   "metadata": {},
   "outputs": [],
   "source": [
    "fMEDFile = ml.MEDFileField1TS()\n",
    "fMEDFile.setFieldNoProfileSBT(f)     # No profile desired on the field, Sort By Type"
   ]
  },
  {
   "cell_type": "markdown",
   "id": "physical-appliance",
   "metadata": {},
   "source": [
    "Ajouter le champ au fichier “TargetMesh2.med”"
   ]
  },
  {
   "cell_type": "code",
   "execution_count": null,
   "id": "initial-baltimore",
   "metadata": {},
   "outputs": [],
   "source": [
    "fMEDFile.write(\"TargetMesh2.med\",0) # 0 is paramount to indicate that we *append* (and no overwrite) to the MED file"
   ]
  },
  {
   "cell_type": "markdown",
   "id": "checked-player",
   "metadata": {},
   "source": [
    "<div class=\"alert alert-block alert-success\">\n",
    "<b>Note:</b> Noter l’utilisation du 0 pour indiquer que nous désirons ajouter au fichier existant.</div>\n",
    "\n",
    "Lire le champ :"
   ]
  },
  {
   "cell_type": "code",
   "execution_count": null,
   "id": "colored-arcade",
   "metadata": {},
   "outputs": [],
   "source": [
    "fMEDFileRead = ml.MEDFileField1TS(\"TargetMesh2.med\",f.getName(),7,8)\n",
    "fRead1 = fMEDFileRead.getFieldOnMeshAtLevel(ml.ON_CELLS,0,meshMEDFileRead) # Quickest way, not re-reading mesh in the file.\n",
    "fRead2 = fMEDFileRead.getFieldAtLevel(ml.ON_CELLS,0)                       # Like above, but this time the mesh is read!\n",
    "print(\"Does the field remain OK with the quick method?\", fRead1.isEqual(f,1e-12,1e-12))\n",
    "print(\"Does the field remain OK with the slow method?\", fRead2.isEqual(f,1e-12,1e-12))"
   ]
  },
  {
   "cell_type": "markdown",
   "id": "appointed-ecuador",
   "metadata": {},
   "source": [
    "## **Lire/écrire un champ sur un “profil”**\n",
    "\n",
    "Nous allons maintenant voir un concept avancé des fichiers MED, à savoir la possibilité d’écrire un champ sur seulement une partie du maillage. La technique habituellement utilisée est plutôt de mettre des valeurs particulières (e.g. +infinity soit 1e+300) sur les zones où le champ n’a pas de sens, permettant ainsi de repérer en plus des bugs éventuels lors du calcul.\n",
    "\n",
    "Le mode de fonctionnement avec les profils reste donc peu courant.\n",
    "\n",
    "Construisons une réduction aux cellules [1,2,3] de **`f`** et appelons la **`fPart`** :"
   ]
  },
  {
   "cell_type": "code",
   "execution_count": null,
   "id": "intermediate-baseball",
   "metadata": {},
   "outputs": [],
   "source": [
    "pfl = ml.DataArrayInt([1,2,3])\n",
    "pfl.setName(\"My1stPfl\")\n",
    "fPart = f.buildSubPart(pfl)\n",
    "fPart.setName(\"fPart\")"
   ]
  },
  {
   "cell_type": "markdown",
   "id": "behind-pacific",
   "metadata": {},
   "source": [
    "La stocker dans la structure **`MEDFileField1TS`** et invoquer **`setFieldProfile()`**."
   ]
  },
  {
   "cell_type": "code",
   "execution_count": null,
   "id": "cellular-sweet",
   "metadata": {},
   "outputs": [],
   "source": [
    "fMEDFile2 = ml.MEDFileField1TS()\n",
    "fMEDFile2.setFieldProfile(fPart,meshMEDFileRead,0,pfl) # 0 is the relative level (here 0 means 2D)\n",
    "fMEDFile2.write(\"TargetMesh2.med\",0) # 0 is paramount to indicate that we *append* (and no overwrite) to the MED file"
   ]
  },
  {
   "cell_type": "markdown",
   "id": "alert-manor",
   "metadata": {},
   "source": [
    "Lire le champ **`fPart`** du fichier “TargetMesh2.med” et les identifiants de cellules correspondant."
   ]
  },
  {
   "cell_type": "code",
   "execution_count": null,
   "id": "uniform-climate",
   "metadata": {},
   "outputs": [],
   "source": [
    "fMEDFileRead2 = ml.MEDFileField1TS(\"TargetMesh2.med\",fPart.getName(),7,8)\n",
    "fPartRead, pflRead = fMEDFileRead2.getFieldWithProfile(ml.ON_CELLS,0,meshMEDFileRead)\n",
    "print(\"Is the partial field correctly read?\", fPartRead.isEqualWithoutConsideringStr(fPart.getArray(),1e-12))\n",
    "print(\"Is the list of cell identifiers matching?\", pflRead.isEqualWithoutConsideringStr(pfl))"
   ]
  }
 ],
 "metadata": {
  "kernelspec": {
   "display_name": "Python 3",
   "language": "python",
   "name": "python3"
  },
  "language_info": {
   "codemirror_mode": {
    "name": "ipython",
    "version": 3
   },
   "file_extension": ".py",
   "mimetype": "text/x-python",
   "name": "python",
   "nbconvert_exporter": "python",
   "pygments_lexer": "ipython3",
   "version": "3.7.3"
  }
 },
 "nbformat": 4,
 "nbformat_minor": 5
}
