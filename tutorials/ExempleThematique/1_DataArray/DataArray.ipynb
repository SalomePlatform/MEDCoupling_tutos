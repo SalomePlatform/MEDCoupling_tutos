{
 "cells": [
  {
   "cell_type": "markdown",
   "id": "0",
   "metadata": {
    "editable": true,
    "slideshow": {
     "slide_type": ""
    },
    "tags": []
   },
   "source": [
    "# Manipuler les `DataArray`"
   ]
  },
  {
   "cell_type": "markdown",
   "id": "1dd1c03b",
   "metadata": {},
   "source": [
    "## Introduction\n",
    "\n",
    "Les `DataArray` (`DataArrayInt` et `DataArrayDouble`) sont utilisés dans\n",
    "MEDCoupling pour stocker des valeurs sous forme de tableaux contigus en mémoire.\n",
    "Les valeurs sont groupées par tuples, et chaque tuple a le même nombre de\n",
    "composantes. Ils sont à la base de beaucoup de traitements réalisés dans\n",
    "MEDCoupling. Il est donc important de bien savoir les manipuler.\n",
    "\n",
    "Les `DataArrayDouble` sont souvent utilisés pour la manipulation directe des\n",
    "valeurs d'un champ, comme on le verra plus tard. \n",
    "\n",
    "Les `DataArrayInt`, eux sont utilisés pour les manipulations des identifiants de\n",
    "cellules et/ou de points."
   ]
  },
  {
   "cell_type": "markdown",
   "id": "e195608c",
   "metadata": {},
   "source": [
    "## Résumé de l'exercice\n",
    "\n",
    "L'Objectif de cet exercice est de se familiariser avec la manipulation des `DataArray`.\n",
    "\n",
    "L'existe consiste à créer un maillage contenant 4 carrés adjacents.\n",
    "\n",
    "<img src=\"four_squares.svg\" style=\"width:300px;\">\n",
    "\n",
    "On commence par **créer un `DataArray`** (tableau), contenant les coordonnées\n",
    "des nœuds d'un carré de côté $1$, et centré en $(0, 0)$. La première composante\n",
    "du tableau de coordonnées s’appelle `X` avec l'unité `m` (mètre) et la 2ème\n",
    "composante s'appellera `Y` (même unité).\n",
    "\n",
    "On construit les coordonnées des nœuds des quatres carrés que l'on souhaite\n",
    "obtenir en **dupliquant les coordonnées** des nœuds du carré original, puis en\n",
    "leur appliquant une **translation**.\n",
    "\n",
    "Il est ensuite nécessaire de **fusionner les nœuds présent en double**, issus\n",
    "des multiples duplications.\n",
    "\n",
    "Les notions abordées dans cet exercice sont :\n",
    "\n",
    "- Créer une instance de `DataArrayDouble`\n",
    "- Afficher une instance de `DataArrayDouble` et invoquer la méthode\n",
    "  `getValue()`, pour la convertir en liste \n",
    "- Utiliser les notations de type \"slice\" `da[:,:]`\n",
    "- Apprendre la renumérotation (convention `old-2-new`)\n",
    "- Invoquer des services tels que `findCommonTuples()`\n"
   ]
  },
  {
   "cell_type": "markdown",
   "id": "39218c83",
   "metadata": {},
   "source": [
    "### Import de MEDCoupling \n",
    "\n",
    "Il est nécessaire d'importer le module Python `medcoupling`, pour pouvoir utiliser ses fonctionnalités.\n",
    "On utilise l'alias `mc`, de manière à ne pas devoir réécrire `medcoupling.` à chaque appel de fonction.\n",
    "\n",
    "Toutes les méthodes statiques du module commencent par une majuscule. Avec ces imports, sont disponibles:\n",
    "\n",
    "- toutes les classes de MEDCoupling\n",
    "- tous les énumérations (par exemple, les types de cellules standard: `mc.ON_CELLS`, `mc.ON_NODES`, `mc.ONE_TIME`...)\n",
    "- toutes les méthodes statiques\n",
    "\n",
    "Le module natif de Python `math` est également importé, pour réaliser des manipulations trigonométriques. "
   ]
  },
  {
   "cell_type": "code",
   "execution_count": null,
   "id": "1",
   "metadata": {},
   "outputs": [],
   "source": [
    "import medcoupling as mc\n",
    "import math"
   ]
  },
  {
   "cell_type": "markdown",
   "id": "2",
   "metadata": {},
   "source": [
    "### Créer une instance de `DataArrayDouble`, contenant 4 tuples\n",
    "\n",
    "Le but ici est de créer une instance de `DataArrayDouble`, qui servira à stocker\n",
    "les coordonnées des points aux angles d'un seul carré.\n",
    "\n",
    "Il existe différentes manière de construire un `DataArray` :"
   ]
  },
  {
   "cell_type": "code",
   "execution_count": null,
   "id": "3",
   "metadata": {},
   "outputs": [],
   "source": [
    "data_arr = mc.DataArrayDouble(4, 2)"
   ]
  },
  {
   "cell_type": "markdown",
   "id": "4",
   "metadata": {},
   "source": [
    "Ici, les arguments `4` et `2` correspondent aux **dimensions** du `DataArray`.\n",
    "\n",
    "Le premier argument `4`, indique le nombre de **lignes** du tableau. Cela\n",
    "correspond, ici, au nombre de points servant à définir un carré. Il y aurait,\n",
    "par exemple, fallu mettre `6`, pour stocker les points aux angles d'un hexagone.\n",
    "\n",
    "Le second argument `2` indique le nombre de **colonnes**. Cela correspond, ici,\n",
    "au nombre de coordonnées de chaque point.  Comme, dans cet exercice, on\n",
    "travaille dans un repère 2D, chaque point possède bien deux coordonnées,\n",
    "relatives aux axes $x$ et $y$."
   ]
  },
  {
   "cell_type": "markdown",
   "id": "0787321f",
   "metadata": {},
   "source": [
    "On peut également construire un `DataArray` d'abord, et préciser ses dimensions dans un **second temps**."
   ]
  },
  {
   "cell_type": "code",
   "execution_count": null,
   "id": "5",
   "metadata": {},
   "outputs": [],
   "source": [
    "data_arr = mc.DataArrayDouble()\n",
    "data_arr.alloc(4, 2)\n",
    "print(data_arr)"
   ]
  },
  {
   "cell_type": "markdown",
   "id": "6",
   "metadata": {},
   "source": [
    "On peut également construire un `DataArray` de **12 lignes**, puis le réorganiser en **2 colonnes**."
   ]
  },
  {
   "cell_type": "code",
   "execution_count": null,
   "id": "7",
   "metadata": {},
   "outputs": [],
   "source": [
    "data_arr = mc.DataArrayDouble(12)\n",
    "data_arr.rearrange(2)\n",
    "print(data_arr)"
   ]
  },
  {
   "cell_type": "markdown",
   "id": "31bbbf23",
   "metadata": {},
   "source": [
    "### Remarque\n",
    "\n",
    "Pour les trois approches décrites ci-dessus, il est important de remarquer que les valeurs du tableau **ne sont pas initialisées**. Elles contiennent des valeurs qui n'ont aucun sens, dépendant de l'état de la mémoire de l'ordinateur."
   ]
  },
  {
   "cell_type": "markdown",
   "id": "8",
   "metadata": {},
   "source": [
    "Enfin, On peut construire un `DataArray` directement à partir d'une `list`\n",
    "Python. Par défaut le tableau n'a **qu'une seule composante**.  Il faut donc\n",
    "ensuite le réorganiser en **2 colonnes**.\n"
   ]
  },
  {
   "cell_type": "code",
   "execution_count": null,
   "id": "9",
   "metadata": {},
   "outputs": [],
   "source": [
    "data_arr = mc.DataArrayDouble([0.0, 1.0, 2.0, 3.0, 4.0, 5.0, 6.0, 7.0])\n",
    "data_arr.rearrange(2)\n",
    "print(data_arr)"
   ]
  },
  {
   "cell_type": "markdown",
   "id": "10",
   "metadata": {},
   "source": [
    "Toutes ces approches sont différentes manière de construire un tableau `d` contenant 12 valeurs, groupées en 4 tuples contenant chacun 2 composantes. Chaque tuple représente les coordonnées 2D d'un point."
   ]
  },
  {
   "cell_type": "markdown",
   "id": "32e8e7a5",
   "metadata": {},
   "source": [
    "### Affichage d'un tableau\n",
    "\n",
    "Jusqu'ici, le contenu d'un `DataArray` a été affiché à l'aide de la fonction\n",
    "`print()`, prenant directement le tableau en argument. Cette approche affiche de\n",
    "nombreuses méta-informations à propos l'objet.  Il est également possible de\n",
    "n'afficher que les valeurs brutes du tableau, à l'aide de la syntaxe suivante :\n"
   ]
  },
  {
   "cell_type": "code",
   "execution_count": null,
   "id": "2d8687d9",
   "metadata": {},
   "outputs": [],
   "source": [
    "print(data_arr.getValues())"
   ]
  },
  {
   "cell_type": "markdown",
   "id": "33412fb9",
   "metadata": {},
   "source": [
    "### Assignation de valeurs\n",
    "\n",
    "L'assignation de valeurs à un `DataArray` est très proche de la syntaxe utilisée pour les `ndarray` de la librairie `numpy`. On peut notamment utiliser le `slicing`, à l'aide du symbole `:`."
   ]
  },
  {
   "cell_type": "code",
   "execution_count": null,
   "id": "11",
   "metadata": {},
   "outputs": [],
   "source": [
    "data_arr[1:4, 0] = 3.0"
   ]
  },
  {
   "cell_type": "markdown",
   "id": "14",
   "metadata": {},
   "source": [
    "On peut, par exemple, directement assigner des valeurs à la deuxième colonne du tableau à l'aide d'une liste."
   ]
  },
  {
   "cell_type": "code",
   "execution_count": null,
   "id": "15",
   "metadata": {},
   "outputs": [],
   "source": [
    "data_arr[:, 1] = [1.0, 2.0, 3.0, 4.0]"
   ]
  },
  {
   "cell_type": "markdown",
   "id": "18",
   "metadata": {},
   "source": [
    "On assigne des valeurs à `d`, de manière à ce qu'il contienne coordonnées cartésiennes des nœuds d'un carré centré en `(0, 0)`, de côté `1`."
   ]
  },
  {
   "cell_type": "code",
   "execution_count": null,
   "id": "2c7c637f",
   "metadata": {},
   "outputs": [],
   "source": [
    "data_arr[:, 0] = [-0.5, 0.5, 0.5, -0.5]\n",
    "data_arr[:, 1] = [-0.5, -0.5, 0.5, 0.5]\n",
    "print(data_arr)"
   ]
  },
  {
   "cell_type": "markdown",
   "id": "23798a3e",
   "metadata": {},
   "source": [
    "**Remarque :** Si nécessaire, il est possible de travailler en coordonnées\n",
    "polaires, et de réaliser des conversions entre coordonnées polaires et\n",
    "cartésiennes.\n"
   ]
  },
  {
   "cell_type": "code",
   "execution_count": null,
   "id": "19",
   "metadata": {},
   "outputs": [],
   "source": [
    "data_arr_pol = data_arr.fromPolarToCart()\n",
    "print(data_arr_pol)\n",
    "\n",
    "data_arr_cart = data_arr_pol.fromCartToPolar()\n",
    "print(data_arr_cart)"
   ]
  },
  {
   "cell_type": "markdown",
   "id": "20",
   "metadata": {},
   "source": [
    "On peut assigner des **noms aux différentes composantes (colonnes) d'un `DataArray`**. Cela permet de donner des indications claire sur la manière dont il faut interpréter les données du tableau. On peut notamment renseigner le nom des coordonnées (cartésiennes, ici), et les unités (le mètre, ici)."
   ]
  },
  {
   "cell_type": "code",
   "execution_count": null,
   "id": "21",
   "metadata": {},
   "outputs": [],
   "source": [
    "data_arr.setInfoOnComponents(mc.svec([\"X [m]\", \"Y [m]\"]))\n",
    "print(data_arr)"
   ]
  },
  {
   "cell_type": "markdown",
   "id": "22",
   "metadata": {},
   "source": [
    "Dans le cadre de cet exercice, cela n'est pas indispensable. Cependant, d'autres fonctions plus avancées **nécessitent cette information**."
   ]
  },
  {
   "cell_type": "markdown",
   "id": "27",
   "metadata": {},
   "source": [
    "Les quatres nœuds du carré dont on a construit les coordonnées appartiennent au cercle de centre $(0, 0)$ et de rayon $\\frac{\\sqrt{2}}{2}$. On peut vérifier que la norme (`magnitude()`) de chaque tuple de `d` est bien égale à $\\frac{\\sqrt{2}}{2}$, avec une tolérance de `1.e-12`, grâce à la méthode `isUniform()`.\n"
   ]
  },
  {
   "cell_type": "code",
   "execution_count": null,
   "id": "28",
   "metadata": {},
   "outputs": [],
   "source": [
    "print(data_arr.magnitude())\n",
    "\n",
    "tolerance = 1.0e-12\n",
    "\n",
    "print(\"Is 'd' uniform ?\", data_arr.magnitude().isUniform(math.sqrt(2) / 2.0, tolerance))"
   ]
  },
  {
   "cell_type": "markdown",
   "id": "29",
   "metadata": {},
   "source": [
    "### Duplication et agrégation\n",
    "\n",
    "On construit maintenant la liste `translationToPerform`, qui contient une liste de vecteurs de taille 2. Cette liste de taille 4 (4 carrés), contient les différentes translations à opérer pour obtenir les coordonnées des nœuds des quatre carrés que l'on souhaite construire."
   ]
  },
  {
   "cell_type": "code",
   "execution_count": null,
   "id": "30",
   "metadata": {},
   "outputs": [],
   "source": [
    "translations = [\n",
    "    [0.5, 0.5],\n",
    "    [0.5, 1.5],\n",
    "    [1.5, 0.5],\n",
    "    [1.5, 1.5],\n",
    "]"
   ]
  },
  {
   "cell_type": "markdown",
   "id": "31",
   "metadata": {},
   "source": [
    "On crée les quatre tableaux, contenant les coordonnées translaté des nœuds du carré original."
   ]
  },
  {
   "cell_type": "code",
   "execution_count": null,
   "id": "32",
   "metadata": {},
   "outputs": [],
   "source": [
    "# list of 'DataArrayDouble'\n",
    "squares = []\n",
    "for translation in translations:\n",
    "    # Adding a vector to a set of coordinates does a translation. translation\n",
    "    # could have been a DataArrayDouble too.\n",
    "    squares.append(data_arr + translation)\n",
    "print(squares)"
   ]
  },
  {
   "cell_type": "markdown",
   "id": "35",
   "metadata": {},
   "source": [
    "## Agrégation de tableaux\n",
    "\n",
    "A partir de cette liste d'instances de `DataArrayDouble` , on construit un\n",
    "unique `DataArrayDouble`, résultat de l'agrégation des instances, les unes à la\n",
    "suite des autres. On utilise, pour cela, la méthode `Aggregate`."
   ]
  },
  {
   "cell_type": "code",
   "execution_count": null,
   "id": "36",
   "metadata": {},
   "outputs": [],
   "source": [
    "squares_da = mc.DataArrayDouble.Aggregate(squares)\n",
    "print(squares_da)"
   ]
  },
  {
   "cell_type": "markdown",
   "id": "37",
   "metadata": {},
   "source": [
    "On a ainsi construit un `DataArrayDouble`, contenant les coordonnées des nœuds\n",
    "des quatres carrés que l'on souhaite construire. Une remarque importante est que\n",
    "l'ordre d’agrégation des `DataArray` est préservé.\n",
    "\n",
    "**Remarques:**\n",
    "\n",
    "- Il en est de même pour l’agrégation de maillages et de champs, de\n",
    "  manière à faciliter l'accès et le repérage des données. C'est par exemple une\n",
    "  différence essentielle avec le modèle `MEDFichier`, comme on le verra plus tard.\n",
    "- Il existe également la méthode `mc.DataArrayDouble.Meld(arr)`, permettant d'agréger deux `DataArray` composante par composante, c'est-à-dire de concaténer des\n",
    "  tableaux colonne par colonne, plutôt que ligne par ligne.\n"
   ]
  },
  {
   "cell_type": "markdown",
   "id": "39",
   "metadata": {},
   "source": [
    "### Trouver les tuples égaux\n",
    "\n",
    "Dans le `DataArray` construit précédemment, certains tuples sont identiques. Il\n",
    "est nécessaire de détecter les tuples égaux, pour éviter de créer des nœuds\n",
    "doublons.  Pour trouver les tuples égaux, on utilise `findCommonTuples()`. Pour comparer deux tuples de nombre flottants entre eux, cette fonction prend en argument une tolérance absolue. \n",
    "\n",
    "\n",
    "**Remarque :**\n",
    "On peut utiliser `help(mc.DataArrayDouble.findCommonTuples)` pour obtenir des\n",
    "informations sur la manière d'utiliser cette fonction. l'interface. \n"
   ]
  },
  {
   "cell_type": "code",
   "execution_count": null,
   "id": "40",
   "metadata": {},
   "outputs": [],
   "source": [
    "print(\"number of tuples: \", squares_da.getNumberOfTuples())\n",
    "\n",
    "# help(mc.DataArrayDouble.findCommonTuples)\n",
    "\n",
    "absolute_tolerance = 1.0e-12\n",
    "\n",
    "common_tuples, common_tuples_indices = squares_da.findCommonTuples(absolute_tolerance)\n",
    "print(\"common_tuples:\\n\", common_tuples.getValues())\n",
    "print(\"common_tuples_indices:\\n\", common_tuples_indices.getValues())"
   ]
  },
  {
   "cell_type": "markdown",
   "id": "41",
   "metadata": {},
   "source": [
    "La fonction `findCommonTuples` renvoie deux `DataArrayInt`. La première contient\n",
    "les groupes d'indices de nœuds communs, concaténés entre eux. La seconde liste\n",
    "indique la position du début de chacun des groupes, dans la première liste.\n",
    "\n",
    "Ce format de retour en deux `DataArrayInt` est assez courant dans MEDCoupling,\n",
    "pour des raisons de performance. Il s'appelle l'**indirect indexing**. Ce format\n",
    "est particulièrement utilisé pour les fonctions manipulant des maillages\n",
    "non-structurés.\n",
    "\n",
    "**Attention, le dernier élément du deuxième tableau pointe en dehors du tableau du premier tableau**.\n",
    "Ce dernier index est toujours présent et permet de s'assurer que des traitements\n",
    "tels que les slices présentés juste après, sont toujours valables, sans avoir\n",
    "besoin de particulariser le dernier groupe.\n",
    "\n",
    "Voici un schéma illustrant le fonctionnement de l'indirect indexing, de manière générale :\n",
    "\n",
    "<img src=\"IndirectIndex.jpg\" style=\"width:700px;\">\n",
    "\n",
    "Le nombre de groupe est donc égal à la taille du deuxième tableau, celui contenant les indices, moins un."
   ]
  },
  {
   "cell_type": "code",
   "execution_count": null,
   "id": "312182c5",
   "metadata": {},
   "outputs": [],
   "source": [
    "c = common_tuples\n",
    "ci = list(common_tuples_indices)\n",
    "for i, (j, k) in enumerate(zip(ci[:-1], ci[1:])):\n",
    "    print(\"group\", i, \": \", c[int(j) : int(k)].getValues())"
   ]
  },
  {
   "cell_type": "markdown",
   "id": "5dddd925",
   "metadata": {},
   "source": [
    "Par exemple, on peut vérifier que les tuples `1` et `8`, ceux du groupe `0`, sont bien égaux:"
   ]
  },
  {
   "cell_type": "code",
   "execution_count": null,
   "id": "f625e123",
   "metadata": {},
   "outputs": [],
   "source": [
    "grp_index = 0\n",
    "grp = c[int(ci[grp_index]) : int(ci[grp_index + 1])]\n",
    "for i in grp:\n",
    "    print(squares_da[i].getValues())"
   ]
  },
  {
   "cell_type": "markdown",
   "id": "47",
   "metadata": {},
   "source": [
    "Dans un indirect indexing, on peut calculer la taille de chaque\n",
    "groupe, sans avoir à manipuler directement le tableau d'indices (i.e. le deuxième\n",
    "tableau). On utilise, pour cela, la fonction `DataArrayInt.deltaShiftIndex`."
   ]
  },
  {
   "cell_type": "code",
   "execution_count": null,
   "id": "48",
   "metadata": {},
   "outputs": [],
   "source": [
    "print(common_tuples_indices.deltaShiftIndex().getValues())"
   ]
  },
  {
   "cell_type": "markdown",
   "id": "53",
   "metadata": {},
   "source": [
    "### Construire un tableau \"old-2-new\"\n",
    "\n",
    "Grâce à la détection des nœuds doublons, effectuée précédemment, il est possible de créer un nouveau tableau dans lequel les doublons ont été éliminés.\n",
    "\n",
    "Mathématiquement, fusionner des nœuds doublons en un seul nœud revient à\n",
    "effectuer une surjection d'un espace de départ `X` (ici à 16 nœuds) vers un\n",
    "espace d'arrivé `Y`, à 9 nœuds.\n",
    "\n",
    "<img src=\"SurjectionDataArray.png\" style=\"width:250px;\">\n",
    "\n",
    "Dans MEDCoupling, la manière de représenter cette surjection est de la\n",
    "par un `DataArrayInt`, stockant des indices, avec la convention MEDCoupling\n",
    "appelée **\"old-to-new\"**.\n",
    "\n",
    "**Remarque :** La convention \"old-to-new\" est, par convention, celle à privilégier\n",
    "également pour les bijections (e.g. une permutation).\n",
    "\n",
    "Dans cette convention, chaque élément d'indice $i$ de ce tableau\n",
    "contient le nouvel identifiant du tuple $i$ de `X`, dans l'ensemble d'arrivé `Y`.\n",
    "\n",
    "Par exemple, `[0, 1, 2, 2]`, en convention \"old-to-new\", signifie que:\n",
    "- `X[0]` correspond à `Y[0]`\n",
    "- `X[1]` correspond à `Y[1]`\n",
    "- `X[2]` correspond à `Y[2]`\n",
    "- `X[3]` correspond à `Y[2]`\n",
    "\n",
    "Nous allons construire ce tableau pour extraire un sous-ensemble des coordonnées\n",
    "de départ, et ne conserver que les tuples uniques (non doublons). \n",
    "\n",
    "La méthode statique `DataArrayInt.ConvertIndexArrayToO2N()` permet de passer du\n",
    "mode de stockage de cette surjection, représentée par un indirect indexing, au\n",
    "format \"old-to-new\". Le suffix `O2N` de la fonction se lit \"OldToNew\". Cette\n",
    "fonction renvoie également $Card(Y)$, c'est-à-dire le nombre de tuples après\n",
    "élimination des doublons, ici."
   ]
  },
  {
   "cell_type": "code",
   "execution_count": null,
   "id": "54",
   "metadata": {},
   "outputs": [],
   "source": [
    "o2n, newNbOfTuples = mc.DataArrayInt.ConvertIndexArrayToO2N(\n",
    "    len(squares_da), common_tuples, common_tuples_indices\n",
    ")\n",
    "print(\"old-to-new list: \", o2n.getValues())\n",
    "print(\"new number of tuples: \", newNbOfTuples)"
   ]
  },
  {
   "cell_type": "markdown",
   "id": "dbecd3ca",
   "metadata": {},
   "source": [
    "Dans le maillage final, on souhaite bien n'avoir que neuf nœuds (c.f. le schéma des quatre carrés, au début de l'exercice)."
   ]
  },
  {
   "cell_type": "markdown",
   "id": "55",
   "metadata": {},
   "source": [
    "Nous pouvons maintenant construire le tableau de tuples uniques, à l'aide de\n",
    "`o2n` et `newNbOfTuples`. On utilise, pour cela, la fonction\n",
    "`DataArrayDouble.renumberAndReduce()`."
   ]
  },
  {
   "cell_type": "code",
   "execution_count": null,
   "id": "56",
   "metadata": {},
   "outputs": [],
   "source": [
    "squares_nodes_no_duplicate = squares_da.renumberAndReduce(o2n, newNbOfTuples)"
   ]
  },
  {
   "cell_type": "markdown",
   "id": "61",
   "metadata": {},
   "source": [
    "Il est possible de translater tous les tuples d'un `DataArray` d'un seul coup,\n",
    "en additionnant directement une liste de même dimension que les tuples du\n",
    "tableau :"
   ]
  },
  {
   "cell_type": "code",
   "execution_count": null,
   "id": "62",
   "metadata": {},
   "outputs": [],
   "source": [
    "squares_nodes_no_duplicate += [1.0, 1.0]"
   ]
  },
  {
   "cell_type": "markdown",
   "id": "63",
   "metadata": {},
   "source": [
    "### Construire un maillage non-structuré\n",
    "\n",
    "On peut, à présent, créer un maillage non-structuré 2D, en utilisant le tableau\n",
    "construit pour définir les coordonnées des nœuds du maillage.\n"
   ]
  },
  {
   "cell_type": "code",
   "execution_count": null,
   "id": "64",
   "metadata": {},
   "outputs": [],
   "source": [
    "dimension = 2\n",
    "\n",
    "mesh = mc.MEDCouplingUMesh(\"FourSquares\", dimension)\n",
    "mesh.setCoords(squares_nodes_no_duplicate)\n",
    "\n",
    "print(\"Mesh dimension is\", mesh.getMeshDimension())\n",
    "print(\"Spatial dimension is\", mesh.getCoords().getNumberOfComponents())"
   ]
  },
  {
   "cell_type": "markdown",
   "id": "65",
   "metadata": {},
   "source": [
    "Pour l'instant, le maillage créé ne contient qu'une liste de nœuds. Il ne\n",
    "contient aucune cellule.\n",
    "\n",
    "Pour créer des cellules dans ce maillage,, il faut créer un groupe d'indices de\n",
    "nœuds d'une cellule à ajouter, puis utiliser la fonction `insertNextCell`. Ce\n",
    "groupe d'indices de nœuds s'appelle la table de connectivité de la cellule. \n",
    "\n",
    "Premièrement, Il est nécessaire d'allouer de la mémoire pour les cellules à créer:\n"
   ]
  },
  {
   "cell_type": "code",
   "execution_count": null,
   "id": "66",
   "metadata": {},
   "outputs": [],
   "source": [
    "mesh.allocateCells(4)"
   ]
  },
  {
   "cell_type": "markdown",
   "id": "67",
   "metadata": {},
   "source": [
    "Enfin, grâce au tableau \"old-to-new\" construit précédemment, on peut créer la\n",
    "table de connectivité de chaque cellule du maillage, i.e. des quatre carrés.\n"
   ]
  },
  {
   "cell_type": "code",
   "execution_count": null,
   "id": "68",
   "metadata": {},
   "outputs": [],
   "source": [
    "print(o2n.getValues())\n",
    "for i in range(4):\n",
    "    # iter through o2n by chunks of 4 nodes at a time\n",
    "    square_node_indices = o2n[4 * i : 4 * (i + 1)]\n",
    "    mesh.insertNextCell(mc.NORM_POLYGON, square_node_indices.getValues())"
   ]
  },
  {
   "cell_type": "markdown",
   "id": "69",
   "metadata": {},
   "source": [
    "On vérifie que le maillage ne contient pas d'anomalie.\n"
   ]
  },
  {
   "cell_type": "code",
   "execution_count": null,
   "id": "70",
   "metadata": {},
   "outputs": [],
   "source": [
    "mesh.checkConsistencyLight()"
   ]
  },
  {
   "cell_type": "markdown",
   "id": "71",
   "metadata": {},
   "source": [
    "C'est toujours une bonne idée d'appeler cette méthode après la construction d'un\n",
    "maillage. Cela assure qu'il n'y a pas d'erreurs grossières, notamment dans la\n",
    "table de connectivité du maillage.\n",
    "\n",
    "Pour vérifier visuellement que le maillage est correct, on l'exporte dans un\n",
    "fichier au format `.vtu`, que l'on peut visualiser dans `Paraview` ou le module\n",
    "`ParaVIS` de la plateforme `Salome`."
   ]
  },
  {
   "cell_type": "code",
   "execution_count": null,
   "id": "72",
   "metadata": {},
   "outputs": [],
   "source": [
    "mesh.writeVTK(mesh.getName() + \".vtu\")"
   ]
  },
  {
   "cell_type": "markdown",
   "id": "73",
   "metadata": {},
   "source": [
    "**Note :** On exporte ici le maillage au format `.vtu` et non `.med`, car\n",
    "MEDCoupling n'inclut pas, par défaut, la librairie `MED-file`, nécessaire à la\n",
    "génération des `.med`."
   ]
  }
 ],
 "metadata": {
  "kernelspec": {
   "display_name": "Python 3 (ipykernel)",
   "language": "python",
   "name": "python3"
  },
  "language_info": {
   "codemirror_mode": {
    "name": "ipython",
    "version": 3
   },
   "file_extension": ".py",
   "mimetype": "text/x-python",
   "name": "python",
   "nbconvert_exporter": "python",
   "pygments_lexer": "ipython3",
   "version": "3.10.12"
  }
 },
 "nbformat": 4,
 "nbformat_minor": 5
}
