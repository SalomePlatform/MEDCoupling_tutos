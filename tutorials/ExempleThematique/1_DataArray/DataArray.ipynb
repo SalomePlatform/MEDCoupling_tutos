{
 "cells": [
  {
   "cell_type": "markdown",
   "id": "0",
   "metadata": {},
   "source": [
    "## Manipulating `DataArray`\n",
    "\n",
    "### Introduction\n",
    "\n",
    "`DataArray` (`DataArrayInt` and `DataArrayDouble`) are used in MEDCoupling to store values as contiguous arrays in memory. Values are grouped by tuples, and each tuple has the same number of components. They form the basis of many operations performed in MEDCoupling. Therefore, it is important to know how to manipulate them effectively.\n",
    "\n",
    "`DataArrayDouble` is often used for the direct manipulation of field values, as we will see later on. \n",
    "\n",
    "`DataArrayInt`, on the other hand, is used for the manipulation of cell and point identifiers."
   ]
  },
  {
   "cell_type": "markdown",
   "id": "1",
   "metadata": {},
   "source": [
    "\n",
    "### Summary\n",
    "\n",
    "The objective of this exercise is to become familiar with manipulating `DataArray`. \n",
    "\n",
    "The task is to create a mesh containing 4 adjacent squares.\n",
    "\n",
    "<img src=\"four_squares.svg\" style=\"width:300px;\">\n",
    "\n",
    "The first step consists in **creating a `DataArray`** (array), containing the coordinates of the nodes of a square, with a side length of $1$, centered at $(0, 0)$. The first component of the coordinate array is called `X` with the unit `m` (meter), and the 2nd component is called `Y` (same unit).\n",
    "\n",
    "Then, we construct the coordinates of the nodes of the four squares we want to obtain by **duplicating the coordinates** of the nodes of the original square, and then applying a **translation** to them.\n",
    "\n",
    "It is then necessary to **merge the duplicate nodes**, resulting from multiple duplications.\n",
    "\n",
    "Finally, an **unstructured mesh** is created from the `DataArray` of nodes which has been created.\n",
    "\n",
    "The concepts covered in this exercise are:\n",
    "\n",
    "- Creating an instance of `DataArrayDouble`\n",
    "- Displaying an instance of `DataArrayDouble` and invoking the `getValue()` method to convert it to a list \n",
    "- Using \"slice\" type notations such as `da[:,:]`\n",
    "- Learning about renumbering (old-2-new convention)\n",
    "- Invoking services such as `findCommonTuples()`\n",
    "- Creating a `UMesh` (unstructured mesh)"
   ]
  },
  {
   "cell_type": "markdown",
   "id": "2",
   "metadata": {},
   "source": [
    "\n",
    "### Importing MEDCoupling \n",
    "\n",
    "It is necessary to import the Python module `medcoupling` to use its functionalities. We use the alias `mc` so that we don't have to rewrite `medcoupling` every time we call a function.\n",
    "\n",
    "All static methods of the module start with a capital letter. With these imports, the following are available:\n",
    "\n",
    "- all classes of MEDCoupling\n",
    "- all enumerations (for example, standard cell types: `mc.ON_CELLS`, `mc.ON_NODES`, `mc.ONE_TIME`...)\n",
    "- all static methods\n",
    "\n",
    "The native Python module `math` is also imported to perform trigonometric manipulations. "
   ]
  },
  {
   "cell_type": "code",
   "execution_count": null,
   "id": "3",
   "metadata": {},
   "outputs": [],
   "source": [
    "import medcoupling as mc\n",
    "import math"
   ]
  },
  {
   "cell_type": "markdown",
   "id": "4",
   "metadata": {},
   "source": [
    "### Creating an instance of `DataArrayDouble`, containing 4 tuples\n",
    "\n",
    "The goal here is to create an instance of `DataArrayDouble`, which will be used to store the coordinates of the points at the corners of a single square.\n",
    "\n",
    "There are different ways to construct a `DataArray`:"
   ]
  },
  {
   "cell_type": "code",
   "execution_count": null,
   "id": "5",
   "metadata": {},
   "outputs": [],
   "source": [
    "data_arr = mc.DataArrayDouble(4, 2)"
   ]
  },
  {
   "cell_type": "markdown",
   "id": "6",
   "metadata": {},
   "source": [
    "Here, the arguments `4` and `2` correspond to the **dimensions** of the `DataArray`.\n",
    "\n",
    "The first argument `4` indicates the number of **rows** of the array. This corresponds here to the number of corners of a square. For example, it would have been necessary to put `6` for a hexagon.\n",
    "\n",
    "The second argument `2` indicates the number of **columns**. This corresponds here to the number of coordinates for each point. Since we are working in a 2D space in this exercise, each point has two coordinates, relating to the $x$ and $y$ axes."
   ]
  },
  {
   "cell_type": "markdown",
   "id": "7",
   "metadata": {},
   "source": [
    "Alternatively, we can first create a `DataArray` and specify its dimensions **later**."
   ]
  },
  {
   "cell_type": "code",
   "execution_count": null,
   "id": "8",
   "metadata": {},
   "outputs": [],
   "source": [
    "# allocate\n",
    "data_arr = mc.DataArrayDouble()\n",
    "\n",
    "# specify the dimension\n",
    "data_arr.alloc(4, 2)\n",
    "\n",
    "print(data_arr)"
   ]
  },
  {
   "cell_type": "markdown",
   "id": "9",
   "metadata": {},
   "source": [
    "We can also construct a `DataArray` with **8 rows** and then rearrange it into **2 columns**."
   ]
  },
  {
   "cell_type": "code",
   "execution_count": null,
   "id": "10",
   "metadata": {},
   "outputs": [],
   "source": [
    "data_arr = mc.DataArrayDouble(8)\n",
    "\n",
    "data_arr.rearrange(2)\n",
    "\n",
    "print(data_arr)"
   ]
  },
  {
   "cell_type": "markdown",
   "id": "11",
   "metadata": {},
   "source": [
    "**Note:** For the three approaches described above, it is important to note that the values of the array are **not initialized**. They contain meaningless values."
   ]
  },
  {
   "cell_type": "markdown",
   "id": "12",
   "metadata": {},
   "source": [
    "Finally, we can construct a `DataArray` directly from a Python `list`. By default, the array has **only one component**. Therefore, it needs to be rearranged into **2 columns**."
   ]
  },
  {
   "cell_type": "code",
   "execution_count": null,
   "id": "13",
   "metadata": {},
   "outputs": [],
   "source": [
    "data_arr = mc.DataArrayDouble(list(range(8)))\n",
    "data_arr.rearrange(2)\n",
    "print(data_arr)"
   ]
  },
  {
   "cell_type": "markdown",
   "id": "14",
   "metadata": {},
   "source": [
    "All these approaches are different ways to construct a `DataArrayDouble` containing 8 values, grouped into 4 tuples, each containing 2 components. Each tuple represents the 2D coordinates of a point."
   ]
  },
  {
   "cell_type": "markdown",
   "id": "15",
   "metadata": {},
   "source": [
    "### Displaying an array\n",
    "\n",
    "So far, the content of a `DataArray` has been displayed using the `print()` function, taking the array directly as an argument. This approach displays many meta-information about the object. It is also possible to display only the raw values of the array using the following syntax:"
   ]
  },
  {
   "cell_type": "code",
   "execution_count": null,
   "id": "16",
   "metadata": {},
   "outputs": [],
   "source": [
    "print(data_arr.getValues())"
   ]
  },
  {
   "cell_type": "markdown",
   "id": "17",
   "metadata": {},
   "source": [
    "### Assigning values\n",
    "\n",
    "Assigning values to a `DataArray` is very similar to the syntax used for `ndarrays` from the `numpy` library. Notably, we can use **slicing**, using the colon character `:`."
   ]
  },
  {
   "cell_type": "code",
   "execution_count": null,
   "id": "18",
   "metadata": {},
   "outputs": [],
   "source": [
    "data_arr[1:4, 0] = 3.0"
   ]
  },
  {
   "cell_type": "markdown",
   "id": "19",
   "metadata": {},
   "source": [
    "For example, we can directly assign values to the second column of the array using a list."
   ]
  },
  {
   "cell_type": "code",
   "execution_count": null,
   "id": "20",
   "metadata": {},
   "outputs": [],
   "source": [
    "data_arr[:, 1] = [1.0, 2.0, 3.0, 4.0]"
   ]
  },
  {
   "cell_type": "markdown",
   "id": "21",
   "metadata": {},
   "source": [
    "We assign values to the array so that it contains the Cartesian coordinates of the nodes of a square, centered at `(0, 0)`, with a side length of `1`."
   ]
  },
  {
   "cell_type": "code",
   "execution_count": null,
   "id": "22",
   "metadata": {},
   "outputs": [],
   "source": [
    "data_arr[:, 0] = [-0.5, 0.5, 0.5, -0.5]\n",
    "data_arr[:, 1] = [-0.5, -0.5, 0.5, 0.5]\n",
    "print(data_arr)"
   ]
  },
  {
   "cell_type": "markdown",
   "id": "23",
   "metadata": {},
   "source": [
    "**Note:** If necessary, it is possible to work in polar coordinates and perform conversions between polar and Cartesian coordinates.\n"
   ]
  },
  {
   "cell_type": "code",
   "execution_count": null,
   "id": "24",
   "metadata": {},
   "outputs": [],
   "source": [
    "data_arr_pol = data_arr.fromCartToPolar()\n",
    "print(data_arr_pol)\n",
    "\n",
    "data_arr_cart = data_arr_pol.fromPolarToCart()\n",
    "print(data_arr_cart)"
   ]
  },
  {
   "cell_type": "markdown",
   "id": "25",
   "metadata": {},
   "source": [
    "We can assign **names to the different components (columns) of a `DataArray`**. This allows for clear indications on how to interpret the data in the array. Notably, we can specify the names of the coordinates (Cartesian, here), and the units (meter, here)."
   ]
  },
  {
   "cell_type": "code",
   "execution_count": null,
   "id": "26",
   "metadata": {},
   "outputs": [],
   "source": [
    "data_arr.setInfoOnComponents(mc.svec([\"X [m]\", \"Y [m]\"]))\n",
    "print(data_arr)"
   ]
  },
  {
   "cell_type": "markdown",
   "id": "27",
   "metadata": {},
   "source": [
    "In the context of this exercise, this is not essential. However, other more advanced functions **require this information**."
   ]
  },
  {
   "cell_type": "markdown",
   "id": "28",
   "metadata": {},
   "source": [
    "The four nodes of the square for which we constructed the coordinates belong to the circle centered at\n",
    "\n",
    " `(0, 0)` with a radius of $\\frac{\\sqrt{2}}{2}$. We can verify that the norm (`magnitude()`) of each tuple is indeed equal to $\\frac{\\sqrt{2}}{2}$, with a tolerance of `1.e-12`, using the `isUniform()` method."
   ]
  },
  {
   "cell_type": "code",
   "execution_count": null,
   "id": "29",
   "metadata": {},
   "outputs": [],
   "source": [
    "print(data_arr.magnitude())\n",
    "\n",
    "tolerance = 1.0e-12\n",
    "\n",
    "print(\n",
    "    \"Is norm of each tuple equal to '0.5 * sqrt(2)' ?\",\n",
    "    data_arr.magnitude().isUniform(math.sqrt(2) / 2.0, tolerance),\n",
    ")"
   ]
  },
  {
   "cell_type": "markdown",
   "id": "30",
   "metadata": {},
   "source": [
    "### Duplication and aggregation\n",
    "\n",
    "We now construct the list `translationToPerform`, which contains a list of vectors of size 2. This list of size 4 (4 squares) contains the different translations to be performed to obtain the coordinates of the nodes of the four squares we want to build."
   ]
  },
  {
   "cell_type": "code",
   "execution_count": null,
   "id": "31",
   "metadata": {},
   "outputs": [],
   "source": [
    "translations = [\n",
    "    [0.5, 0.5],\n",
    "    [0.5, 1.5],\n",
    "    [1.5, 0.5],\n",
    "    [1.5, 1.5],\n",
    "]"
   ]
  },
  {
   "cell_type": "markdown",
   "id": "32",
   "metadata": {},
   "source": [
    "We create the four arrays containing the translated coordinates of the nodes of the original square."
   ]
  },
  {
   "cell_type": "code",
   "execution_count": null,
   "id": "33",
   "metadata": {},
   "outputs": [],
   "source": [
    "# list of 'DataArrayDouble'\n",
    "squares = []\n",
    "for translation in translations:\n",
    "    # Adding a vector to a set of coordinates does a translation. translation\n",
    "    # could have been a DataArrayDouble too.\n",
    "    squares.append(data_arr + translation)\n",
    "print(squares)"
   ]
  },
  {
   "cell_type": "markdown",
   "id": "34",
   "metadata": {},
   "source": [
    "### Aggregation of arrays\n",
    "\n",
    "From this list of instances of `DataArrayDouble`, we build a single `DataArrayDouble`, the result of aggregating the instances one after the other. For this, we use the `Aggregate` method."
   ]
  },
  {
   "cell_type": "code",
   "execution_count": null,
   "id": "35",
   "metadata": {},
   "outputs": [],
   "source": [
    "squares_da = mc.DataArrayDouble.Aggregate(squares)  # 'da' means 'data array', here\n",
    "print(squares_da)"
   ]
  },
  {
   "cell_type": "markdown",
   "id": "36",
   "metadata": {},
   "source": [
    "We have thus constructed a `DataArrayDouble`, containing the coordinates of the nodes of the four squares we want to build. An important remark is that the order of aggregation of the `DataArray` is preserved.\n",
    "\n",
    "**Remarks:**\n",
    "\n",
    "- The same applies for the aggregation of meshes and fields, in order to facilitate access to and identification of data. This is, for example, an essential difference with the `MEDFile` model, as we will see later.\n",
    "- There is also the method `mc.DataArrayDouble.Meld(arr)`, which allows for the aggregation of two `DataArray` component by component, i.e., concatenating arrays column by column rather than row by row."
   ]
  },
  {
   "cell_type": "markdown",
   "id": "37",
   "metadata": {},
   "source": [
    "### Finding equal tuples\n",
    "\n",
    "In the `DataArray` constructed previously, some tuples are identical. It is necessary to detect the equal tuples to avoid creating duplicate nodes. To find equal tuples, we use `findCommonTuples()`. To compare two tuples of floating point numbers with each other, this function takes an absolute tolerance as an argument. "
   ]
  },
  {
   "cell_type": "markdown",
   "id": "38",
   "metadata": {},
   "source": [
    "**Note:**\n",
    "You can use `help(mc.DataArrayDouble.findCommonTuples)` to get information on how to use this function's interface. "
   ]
  },
  {
   "cell_type": "code",
   "execution_count": null,
   "id": "39",
   "metadata": {},
   "outputs": [],
   "source": [
    "print(\"number of tuples: \", squares_da.getNumberOfTuples())\n",
    "\n",
    "# help(mc.DataArrayDouble.findCommonTuples)\n",
    "\n",
    "absolute_tolerance = 1.0e-12\n",
    "\n",
    "common_tuples, common_tuples_indices = squares_da.findCommonTuples(absolute_tolerance)\n",
    "print(\"common_tuples:\\n\", common_tuples.getValues())\n",
    "print(\"common_tuples_indices:\\n\", common_tuples_indices.getValues())"
   ]
  },
  {
   "cell_type": "markdown",
   "id": "40",
   "metadata": {},
   "source": [
    "The function `findCommonTuples` returns two `DataArrayInt`. The first contains groups of indices of common nodes, concatenated together. The second list indicates the starting position of each group in the first list.\n",
    "\n",
    "This return format in two `DataArrayInt` is quite common in MEDCoupling for performance reasons. It is called **indirect indexing**. This format is particularly used for functions manipulating unstructured meshes.\n",
    "\n",
    "**Attention: the last element of the second array points outside the first array**.\n",
    "This last index is always present and ensures that treatments such as slices presented just after are always valid, without needing to specify the last group.\n",
    "\n",
    "Here is a diagram illustrating how indirect indexing works, in a general way:\n",
    "\n",
    "<img src=\"IndirectIndex.jpg\" style=\"width:700px;\">\n",
    "\n",
    "The number of groups is therefore equal to the size of the second array, the one containing the indices, minus one."
   ]
  },
  {
   "cell_type": "code",
   "execution_count": null,
   "id": "41",
   "metadata": {},
   "outputs": [],
   "source": [
    "c = common_tuples\n",
    "ci = list(common_tuples_indices)\n",
    "for i, (j, k) in enumerate(zip(ci[:-1], ci[1:])):\n",
    "    print(\"group\", i, \": \", c[int(j) : int(k)].getValues())"
   ]
  },
  {
   "cell_type": "markdown",
   "id": "42",
   "metadata": {},
   "source": [
    "For example, we can verify that tuples `1` and `8`, those in group `0`, are indeed equal:"
   ]
  },
  {
   "cell_type": "code",
   "execution_count": null,
   "id": "43",
   "metadata": {},
   "outputs": [],
   "source": [
    "grp_index = 0\n",
    "grp = c[int(ci[grp_index]) : int(ci[grp_index + 1])]\n",
    "for i in grp:\n",
    "    print(squares_da[i].getValues())"
   ]
  },
  {
   "cell_type": "markdown",
   "id": "44",
   "metadata": {},
   "source": [
    "### Calculating Group Sizes in Indirect Indexing\n",
    "\n",
    "In an indirect indexing, we can calculate the size of each group without directly manipulating the index array (i.e., the second array). For this purpose, the `DataArrayInt.deltaShiftIndex` function is utilized."
   ]
  },
  {
   "cell_type": "code",
   "execution_count": null,
   "id": "45",
   "metadata": {},
   "outputs": [],
   "source": [
    "print(common_tuples_indices.deltaShiftIndex().getValues())"
   ]
  },
  {
   "cell_type": "markdown",
   "id": "46",
   "metadata": {},
   "source": [
    "### Building an \"old-to-new\" Array\n",
    "\n",
    "Thanks to the previously performed duplicate node detection, it's possible to create a new table where duplicates have been eliminated.\n",
    "\n",
    "Mathematically, merging duplicate nodes into a single node is akin to performing a surjection from a starting space `X` (here with 16 nodes) to an arrival space `Y` with 9 nodes.\n",
    "\n",
    "<img src=\"SurjectionDataArray.png\" style=\"width:250px;\">\n",
    "\n",
    "In MEDCoupling, representing this surjection is done through a `DataArrayInt`, storing indices, following the MEDCoupling convention called **\"old-to-new\"**.\n",
    "\n",
    "**Note:** The \"old-to-new\" convention is preferred for bijections as well (e.g., a permutation).\n",
    "\n",
    "In this convention, each element at index $i$ in this array contains the new identifier of tuple $i$ from `X`, in the arrival set `Y`.\n",
    "\n",
    "For example, `[0, 1, 2, 2]`, in \"old-to-new\" convention, means that:\n",
    "- `X[0]` corresponds to `Y[0]`\n",
    "- `X[1]` corresponds to `Y[1]`\n",
    "- `X[2]` corresponds to `Y[2]`\n",
    "- `X[3]` corresponds to `Y[2]`\n",
    "\n",
    "We'll construct this table to extract a subset of the starting coordinates and keep only unique tuples (non-duplicates).\n",
    "\n",
    "The static method `DataArrayInt.ConvertIndexArrayToO2N()` allows us to switch from the storage mode of this surjection, represented by an indirect indexing, to the \"old-to-new\" format. The `O2N` suffix of the function stands for \"OldToNew\". This function also returns $Card(Y)$, which is the number of tuples after removing duplicates, here."
   ]
  },
  {
   "cell_type": "code",
   "execution_count": null,
   "id": "47",
   "metadata": {},
   "outputs": [],
   "source": [
    "o2n, newNbOfTuples = mc.DataArrayInt.ConvertIndexArrayToO2N(\n",
    "    len(squares_da), common_tuples, common_tuples_indices\n",
    ")\n",
    "print(\"old-to-new list: \", o2n.getValues())\n",
    "print(\"new number of tuples: \", newNbOfTuples)"
   ]
  },
  {
   "cell_type": "markdown",
   "id": "48",
   "metadata": {},
   "source": [
    "In the final mesh, we indeed want to have only nine nodes (refer to the diagram of the four squares at the beginning of the exercise).\n",
    "\n",
    "Now we can build the array of unique tuples using `o2n` and `newNbOfTuples`. We use the `DataArrayDouble.renumberAndReduce()` function for this purpose."
   ]
  },
  {
   "cell_type": "code",
   "execution_count": null,
   "id": "49",
   "metadata": {},
   "outputs": [],
   "source": [
    "squares_nodes_no_duplicate = squares_da.renumberAndReduce(o2n, newNbOfTuples)"
   ]
  },
  {
   "cell_type": "markdown",
   "id": "50",
   "metadata": {},
   "source": [
    "It's possible to translate all tuples in a `DataArray` at once by directly adding a list of the same dimension as the tuples in the array:"
   ]
  },
  {
   "cell_type": "code",
   "execution_count": null,
   "id": "51",
   "metadata": {},
   "outputs": [],
   "source": [
    "squares_nodes_no_duplicate += [1.0, 1.0]"
   ]
  },
  {
   "cell_type": "markdown",
   "id": "52",
   "metadata": {},
   "source": [
    "### Building an Unstructured Mesh\n",
    "\n",
    "We can now create a 2D unstructured mesh using the constructed array to define the mesh nodes."
   ]
  },
  {
   "cell_type": "code",
   "execution_count": null,
   "id": "53",
   "metadata": {},
   "outputs": [],
   "source": [
    "dimension = 2\n",
    "\n",
    "mesh = mc.MEDCouplingUMesh(\"FourSquares\", dimension)\n",
    "mesh.setCoords(squares_nodes_no_duplicate)\n",
    "\n",
    "print(\"Mesh dimension is\", mesh.getMeshDimension())\n",
    "print(\"Spatial dimension is\", mesh.getCoords().getNumberOfComponents())"
   ]
  },
  {
   "cell_type": "markdown",
   "id": "54",
   "metadata": {},
   "source": [
    "Currently, the created mesh only contains a list of nodes. It doesn't have any cells yet.\n",
    "\n",
    "To create cells in this mesh, we need to create a group of node indices of a cell to add, then use the `insertNextCell` function. This group of node indices is called the \"cell connectivity table\".\n",
    "\n",
    "First, we need to allocate memory for the cells to create:"
   ]
  },
  {
   "cell_type": "code",
   "execution_count": null,
   "id": "55",
   "metadata": {},
   "outputs": [],
   "source": [
    "mesh.allocateCells(4)"
   ]
  },
  {
   "cell_type": "markdown",
   "id": "56",
   "metadata": {},
   "source": [
    "Finally, thanks to the previously constructed \"old-to-new\" table, we can create the connectivity table of each cell of the mesh, i.e., the four squares."
   ]
  },
  {
   "cell_type": "code",
   "execution_count": null,
   "id": "57",
   "metadata": {},
   "outputs": [],
   "source": [
    "print(o2n.getValues())\n",
    "for i in range(4):\n",
    "    # iter through o2n by chunks of 4 nodes at a time\n",
    "    square_node_indices = o2n[4 * i : 4 * (i + 1)]\n",
    "    mesh.insertNextCell(mc.NORM_POLYGON, square_node_indices.getValues())"
   ]
  },
  {
   "cell_type": "markdown",
   "id": "58",
   "metadata": {},
   "source": [
    "We check that the mesh doesn't contain any anomalies."
   ]
  },
  {
   "cell_type": "code",
   "execution_count": null,
   "id": "59",
   "metadata": {},
   "outputs": [],
   "source": [
    "mesh.checkConsistencyLight()"
   ]
  },
  {
   "cell_type": "markdown",
   "id": "60",
   "metadata": {},
   "source": [
    "It's always a good idea to call this method after constructing a mesh. It ensures there are no gross errors, particularly in the connectivity table of the mesh.\n",
    "\n",
    "To visually verify that the mesh is correct, we export it to a file in `.vtu` format, which can be viewed in `Paraview` or the `ParaVIS` module of the `Salome` platform."
   ]
  },
  {
   "cell_type": "code",
   "execution_count": null,
   "id": "61",
   "metadata": {},
   "outputs": [],
   "source": [
    "mesh.writeVTK(mesh.getName() + \".vtu\")"
   ]
  },
  {
   "cell_type": "markdown",
   "id": "62",
   "metadata": {},
   "source": [
    "**Note:** Here, we export the mesh in `.vtu` format and not `.med` because MEDCoupling does not include, by default, the `MED-file` library necessary for generating `.med` files."
   ]
  }
 ],
 "metadata": {
  "jupytext": {
   "cell_metadata_filter": "-all",
   "main_language": "python",
   "notebook_metadata_filter": "-all"
  },
  "kernelspec": {
   "display_name": "Python 3 (ipykernel)",
   "language": "python",
   "name": "python3"
  },
  "language_info": {
   "codemirror_mode": {
    "name": "ipython",
    "version": 3
   },
   "file_extension": ".py",
   "mimetype": "text/x-python",
   "name": "python",
   "nbconvert_exporter": "python",
   "pygments_lexer": "ipython3",
   "version": "3.12.8"
  }
 },
 "nbformat": 4,
 "nbformat_minor": 5
}
