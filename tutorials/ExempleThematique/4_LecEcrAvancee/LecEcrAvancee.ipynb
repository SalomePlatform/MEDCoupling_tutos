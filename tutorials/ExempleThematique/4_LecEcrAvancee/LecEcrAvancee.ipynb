{
 "cells": [
  {
   "cell_type": "markdown",
   "id": "0",
   "metadata": {
    "editable": true,
    "slideshow": {
     "slide_type": ""
    },
    "tags": []
   },
   "source": [
    "# Reading, Writing a MED file using the advanced MEDLoader API\n",
    "\n",
    "The advanced MEDLoader API is represented by the `MEDFile*` classes of the MEDLoader library.\n",
    "\n",
    "> - At the highest level, for the entire file: `MEDFileData`,\n",
    "> - For all meshes in the file: `MEDFileMeshes`,\n",
    "> - For each mesh: `MEDFileMeshMultiTS`, `MEDFileMesh`, `MEDFileUMesh`, `MEDFileCMesh`,\n",
    "> - For all fields in the file: `MEDFileFields`, `MEDFileFieldGlobs`,\n",
    "> - And finally, for each field: `MEDFileField1TS`, `MEDFileFieldMultiTS`\n",
    "\n",
    "## Objective\n",
    "\n",
    "Write a mesh and a field from scratch, reread them, and compare the results.\n",
    "\n",
    "Topics covered: using the advanced MEDLoader API\n",
    "\n",
    "> - Writing a file\n",
    "> - Reading a file\n",
    "\n",
    "## Implementation Start\n",
    "\n",
    "We import the `MEDCoupling` python package named `medcoupling`. The functions of `MEDLoader` are included in `medcoupling`."
   ]
  },
  {
   "cell_type": "code",
   "execution_count": null,
   "id": "1",
   "metadata": {},
   "outputs": [],
   "source": [
    "import medcoupling as mc"
   ]
  },
  {
   "cell_type": "markdown",
   "id": "2",
   "metadata": {
    "editable": true,
    "slideshow": {
     "slide_type": ""
    },
    "tags": []
   },
   "source": [
    "## Mesh Reading, Writing\n",
    "\n",
    "First, let's create the same mesh `targetMesh` as for the simple API."
   ]
  },
  {
   "cell_type": "code",
   "execution_count": null,
   "id": "3",
   "metadata": {
    "editable": false,
    "slideshow": {
     "slide_type": ""
    },
    "tags": []
   },
   "outputs": [],
   "source": [
    "# fmt: off\n",
    "targetCoords = [\n",
    "    -0.3, -0.3, 0.2, -0.3, 0.7, -0.3, -0.3, 0.2, 0.2,\n",
    "     0.2,  0.7, 0.2, -0.3, 0.7,  0.2,  0.7, 0.7, 0.7,\n",
    "]\n",
    "# fmt: on\n",
    "qua1 = [0, 3, 4, 1]\n",
    "tri1 = [1, 4, 2]\n",
    "tri2 = [4, 5, 2]\n",
    "qua2 = [6, 7, 4, 3]\n",
    "qua3 = [7, 8, 5, 4]\n",
    "targetConnTest = qua1 + tri1 + tri2 + qua2 + qua3"
   ]
  },
  {
   "cell_type": "code",
   "execution_count": null,
   "id": "4",
   "metadata": {},
   "outputs": [],
   "source": [
    "targetMesh = mc.MEDCouplingUMesh(\"MyMesh\", 2)\n",
    "targetMesh.allocateCells(5)\n",
    "targetMesh.insertNextCell(mc.NORM_TRI3, 3, tri1)\n",
    "targetMesh.insertNextCell(mc.NORM_TRI3, 3, tri2)\n",
    "targetMesh.insertNextCell(mc.NORM_QUAD4, 4, qua1)\n",
    "targetMesh.insertNextCell(mc.NORM_QUAD4, 4, qua2)\n",
    "targetMesh.insertNextCell(mc.NORM_QUAD4, 4, qua3)\n",
    "myCoords = mc.DataArrayDouble(targetCoords, 9, 2)\n",
    "myCoords.setInfoOnComponents([\"X [km]\", \"YY [mm]\"])\n",
    "targetMesh.setCoords(myCoords)"
   ]
  },
  {
   "cell_type": "markdown",
   "id": "5",
   "metadata": {},
   "source": [
    "<div class=\"alert alert-block alert-success\">\n",
    "<b>Note:</b> The mesh `targetMesh` is ordered by geometric type.</div>\n",
    "\n",
    "Next, we construct `targetMesh1`, representing the subcomponents (faces) of mesh `targetMesh`, and extract only the cells (here, surfaces) [3,4,7,8]. For more details on descending connectivity, refer to the **Descending Connectivity** section of the second exercise. This set could, for example, represent an area of interest for a calculation:"
   ]
  },
  {
   "cell_type": "code",
   "execution_count": null,
   "id": "6",
   "metadata": {},
   "outputs": [],
   "source": [
    "targetMeshConsti, _, _, _, _ = targetMesh.buildDescendingConnectivity()\n",
    "targetMesh1 = targetMeshConsti[[3, 4, 7, 8]]\n",
    "targetMesh1.setName(targetMesh.getName())"
   ]
  },
  {
   "cell_type": "markdown",
   "id": "7",
   "metadata": {},
   "source": [
    "<div class=\"alert alert-block alert-success\">\n",
    "<b>Note:</b> In Python, the underscore `_` indicates that we expect a return value but won't use it (we don't bind it).</div>\n",
    "\n",
    "<div class=\"alert alert-block alert-success\">\n",
    "<b>Note:</b> `targetMesh1` will be saved as part of the same global mesh in the MED file. Therefore, it must have the same name. This illustrates how a mesh in the MED file sense can mix dimensions.</div>\n",
    "\n",
    "Then, we write both meshes to the file \"TargetMesh2.med\"."
   ]
  },
  {
   "cell_type": "code",
   "execution_count": null,
   "id": "8",
   "metadata": {},
   "outputs": [],
   "source": [
    "meshMEDFile = mc.MEDFileUMesh()\n",
    "meshMEDFile.setMeshAtLevel(0, targetMesh)\n",
    "meshMEDFile.setMeshAtLevel(-1, targetMesh1)\n",
    "meshMEDFile.write(\"TargetMesh2.med\", 2)  # 2 stands for 'write from scratch'"
   ]
  },
  {
   "cell_type": "markdown",
   "id": "9",
   "metadata": {},
   "source": [
    "## Reading, Writing Cell Groups\n",
    "\n",
    "Let's create two cell groups on the 2D mesh, i.e., at the relative level 0 (here, relative level 0 corresponds to 2D, level -1 corresponds to 1D, etc.). The first group `grp0_Lev0` contains cells [0,1,3], the second `grp1_Lev0` contains cells [1,2,3,4]:"
   ]
  },
  {
   "cell_type": "code",
   "execution_count": null,
   "id": "10",
   "metadata": {},
   "outputs": [],
   "source": [
    "grp0_0 = mc.DataArrayInt([0, 1, 3])\n",
    "grp0_0.setName(\"grp0_Lev0\")\n",
    "grp1_0 = mc.DataArrayInt([1, 2, 3, 4])\n",
    "grp1_0.setName(\"grp1_Lev0\")\n",
    "meshMEDFile.setGroupsAtLevel(0, [grp0_0, grp1_0])"
   ]
  },
  {
   "cell_type": "markdown",
   "id": "11",
   "metadata": {},
   "source": [
    "<div class=\"alert alert-block alert-success\">\n",
    "<b>Note:</b> Naming the arrays is crucial; the name will be used for the group.</div>\n",
    "\n",
    "Let's create three level -1 groups, i.e., face groups. The first one called `grp0_LevM1` contains cells [0,1], the second one called `grp1_LevM1` contains cells [0,1,2], and the third one `grp2_LevM1` contains cells [1,2,3]:"
   ]
  },
  {
   "cell_type": "code",
   "execution_count": null,
   "id": "12",
   "metadata": {},
   "outputs": [],
   "source": [
    "grp0_M1 = mc.DataArrayInt([0, 1])\n",
    "grp0_M1.setName(\"grp0_LevM1\")\n",
    "grp1_M1 = mc.DataArrayInt([0, 1, 2])\n",
    "grp1_M1.setName(\"grp1_LevM1\")\n",
    "grp2_M1 = mc.DataArrayInt([1, 2, 3])\n",
    "grp2_M1.setName(\"grp2_LevM1\")\n",
    "meshMEDFile.setGroupsAtLevel(-1, [grp0_M1, grp1_M1, grp2_M1])"
   ]
  },
  {
   "cell_type": "markdown",
   "id": "13",
   "metadata": {},
   "source": [
    "Write it all:"
   ]
  },
  {
   "cell_type": "code",
   "execution_count": null,
   "id": "14",
   "metadata": {},
   "outputs": [],
   "source": [
    "meshMEDFile.write(\"TargetMesh2.med\", 2)  # 2 stands for 'write from scratch'"
   ]
  },
  {
   "cell_type": "markdown",
   "id": "15",
   "metadata": {},
   "source": [
    "Then, we can reread the MED file:"
   ]
  },
  {
   "cell_type": "code",
   "execution_count": null,
   "id": "16",
   "metadata": {},
   "outputs": [],
   "source": [
    "meshMEDFileRead = mc.MEDFileMesh.New(\n",
    "    \"TargetMesh2.med\"\n",
    ")  # a new is needed because it returns a MEDFileUMesh (MEDFileMesh is abstract)\n",
    "meshRead0 = meshMEDFileRead.getMeshAtLevel(0)\n",
    "meshRead1 = meshMEDFileRead.getMeshAtLevel(-1)\n",
    "print(\n",
    "    \"Is level 0 in the file equal to 'targetMesh'?\",\n",
    "    meshRead0.isEqual(targetMesh, 1e-12),\n",
    ")\n",
    "print(\n",
    "    \"Is level 0 in the file equal to 'targetMesh1'?\",\n",
    "    meshRead1.isEqual(targetMesh1, 1e-12),\n",
    ")"
   ]
  },
  {
   "cell_type": "markdown",
   "id": "17",
   "metadata": {},
   "source": [
    "Display the available levels for the group `grp0_Lev0`:"
   ]
  },
  {
   "cell_type": "code",
   "execution_count": null,
   "id": "18",
   "metadata": {},
   "outputs": [],
   "source": [
    "print(meshMEDFileRead.getGrpNonEmptyLevels(\"grp0_Lev0\"))"
   ]
  },
  {
   "cell_type": "markdown",
   "id": "19",
   "metadata": {},
   "source": [
    "And finally, retrieve the cell identifiers contained in the group `grp0_Lev0`:"
   ]
  },
  {
   "cell_type": "code",
   "execution_count": null,
   "id": "20",
   "metadata": {},
   "outputs": [],
   "source": [
    "grp0_0_read = meshMEDFileRead.getGroupArr(0, \"grp0_Lev0\")\n",
    "print(\n",
    "    \"Is group 'grp0_Lev0' equal to what is read in the file?\",\n",
    "    grp0_0_read.isEqual(grp0_0),\n",
    ")"
   ]
  },
  {
   "cell_type": "markdown",
   "id": "21",
   "metadata": {},
   "source": [
    "## Reading/Writing Fields with the Advanced API\n",
    "\n",
    "Let's create a simple vector field, on cells (P0), with a single timestep, called `f`."
   ]
  },
  {
   "cell_type": "code",
   "execution_count": null,
   "id": "22",
   "metadata": {},
   "outputs": [],
   "source": [
    "f = mc.MEDCouplingFieldDouble(mc.ON_CELLS, mc.ONE_TIME)\n",
    "f.setTime(5.6, 7, 8)\n",
    "f.setArray(targetMesh.computeCellCenterOfMass())\n",
    "f.setMesh(targetMesh)\n",
    "f.setName(\"AFieldName\")"
   ]
  },
  {
   "cell_type": "markdown",
   "id": "23",
   "metadata": {},
   "source": [
    "Store `f` in an object `MEDFileField1TS` (a field with a single timestep) to prepare for MED writing."
   ]
  },
  {
   "cell_type": "code",
   "execution_count": null,
   "id": "24",
   "metadata": {},
   "outputs": [],
   "source": [
    "fMEDFile = mc.MEDFileField1TS()\n",
    "fMEDFile.setFieldNoProfileSBT(f)  # No profile desired on the field, Sort By Type"
   ]
  },
  {
   "cell_type": "markdown",
   "id": "25",
   "metadata": {},
   "source": [
    "Add the field to the file \"TargetMesh2.med\"."
   ]
  },
  {
   "cell_type": "code",
   "execution_count": null,
   "id": "26",
   "metadata": {},
   "outputs": [],
   "source": [
    "fMEDFile.write(\n",
    "    \"TargetMesh2.med\", 0\n",
    ")  # 0 is paramount to indicate that we *append* (and no overwrite) to the MED file"
   ]
  },
  {
   "cell_type": "markdown",
   "id": "27",
   "metadata": {},
   "source": [
    "<div class=\"alert alert-block alert-success\">\n",
    "<b>Note:</b> Note the use of 0 to indicate that we want to add to the existing file.</div>\n",
    "\n",
    "Read the field:"
   ]
  },
  {
   "cell_type": "code",
   "execution_count": null,
   "id": "28",
   "metadata": {},
   "outputs": [],
   "source": [
    "fMEDFileRead = mc.MEDFileField1TS(\"TargetMesh2.med\", f.getName(), 7, 8)\n",
    "fRead1 = fMEDFileRead.getFieldOnMeshAtLevel(\n",
    "    mc.ON_CELLS, 0, meshMEDFileRead\n",
    ")  # Quickest way, not re-reading mesh in the file.\n",
    "fRead2 = fMEDFileRead.getFieldAtLevel(\n",
    "    mc.ON_CELLS, 0\n",
    ")  # Like above, but this time the mesh is read!\n",
    "print(\n",
    "    \"Does the field remain OK with the quick method?\", fRead1.isEqual(f, 1e-12, 1e-12)\n",
    ")\n",
    "print(\"Does the field remain OK with the slow method?\", fRead2.isEqual(f, 1e-12, 1e-12))"
   ]
  },
  {
   "cell_type": "markdown",
   "id": "29",
   "metadata": {},
   "source": [
    "## Reading/Writing a Field on a Profile\n",
    "\n",
    "Now, let's see an advanced concept of MED files, the ability to write a field on only a part of the mesh. The commonly used technique is to put specific values (e.g., +infinity, i.e., 1e+300) on areas where the field doesn't make sense, thus helping to detect any bugs during the calculation.\n",
    "\n",
    "The operation mode with profiles remains uncommon.\n",
    "\n",
    "Let's construct a reduction to cells [1,2,3] of `f` and call it `fPart`:"
   ]
  },
  {
   "cell_type": "code",
   "execution_count": null,
   "id": "30",
   "metadata": {},
   "outputs": [],
   "source": [
    "pfl = mc.DataArrayInt([1, 2, 3])\n",
    "pfl.setName(\"My1stPfl\")\n",
    "fPart = f.buildSubPart(pfl)\n",
    "fPart.setName(\"fPart\")"
   ]
  },
  {
   "cell_type": "markdown",
   "id": "31",
   "metadata": {},
   "source": [
    "Store it in the `MEDFileField1TS` structure and invoke `setFieldProfile()`."
   ]
  },
  {
   "cell_type": "code",
   "execution_count": null,
   "id": "32",
   "metadata": {},
   "outputs": [],
   "source": [
    "fMEDFile2 = mc.MEDFileField1TS()\n",
    "fMEDFile2.setFieldProfile(\n",
    "    fPart, meshMEDFileRead, 0, pfl\n",
    ")  # 0 is the relative level (here 0 means 2D)\n",
    "fMEDFile2.write(\n",
    "    \"TargetMesh2.med\", 0\n",
    ")  # 0 is paramount to indicate that we *append* (and no overwrite) to the MED file"
   ]
  },
  {
   "cell_type": "markdown",
   "id": "33",
   "metadata": {},
   "source": [
    "Read the `fPart` field from the file \"TargetMesh2.med\" and the corresponding cell identifiers."
   ]
  },
  {
   "cell_type": "code",
   "execution_count": null,
   "id": "34",
   "metadata": {},
   "outputs": [],
   "source": [
    "fMEDFileRead2 = mc.MEDFileField1TS(\"TargetMesh2.med\", fPart.getName(), 7, 8)\n",
    "fPartRead, pflRead = fMEDFileRead2.getFieldWithProfile(mc.ON_CELLS, 0, meshMEDFileRead)\n",
    "print(\n",
    "    \"Is the partial field correctly read?\",\n",
    "    fPartRead.isEqualWithoutConsideringStr(fPart.getArray(), 1e-12),\n",
    ")\n",
    "print(\n",
    "    \"Is the list of cell identifiers matching?\",\n",
    "    pflRead.isEqualWithoutConsideringStr(pfl),\n",
    ")"
   ]
  }
 ],
 "metadata": {
  "kernelspec": {
   "display_name": "Python 3 (ipykernel)",
   "language": "python",
   "name": "python3"
  },
  "language_info": {
   "codemirror_mode": {
    "name": "ipython",
    "version": 3
   },
   "file_extension": ".py",
   "mimetype": "text/x-python",
   "name": "python",
   "nbconvert_exporter": "python",
   "pygments_lexer": "ipython3",
   "version": "3.8.10"
  }
 },
 "nbformat": 4,
 "nbformat_minor": 5
}
