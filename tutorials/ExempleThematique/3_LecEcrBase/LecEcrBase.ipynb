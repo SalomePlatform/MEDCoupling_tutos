{
 "cells": [
  {
   "cell_type": "markdown",
   "id": "4cee7dbb",
   "metadata": {
    "editable": true,
    "slideshow": {
     "slide_type": "slide"
    }
   },
   "source": [
    "# Reading, writing a MED file using the basic MEDLoader API\n",
    "\n",
    "The basic MEDLoader API is contained in the `MEDLoader` class. All methods of this class are static (they do not depend on a particular instance of the class), their names begin with a capital letter. All read/write operations are executed with each method call, and no internal state of the class is saved."
   ]
  },
  {
   "cell_type": "markdown",
   "id": "e5f71d5b",
   "metadata": {
    "editable": false,
    "slideshow": {
     "slide_type": "subslide"
    }
   },
   "source": [
    "## Objective\n",
    "\n",
    "Write a mesh and a field from scratch, reread them, and compare the results.\n",
    "\n",
    "Topics covered: using the basic `MEDLoader` API\n",
    "\n",
    "> - Writing a file\n",
    "> - Reading a file"
   ]
  },
  {
   "cell_type": "markdown",
   "id": "06a8a114",
   "metadata": {
    "editable": false,
    "slideshow": {
     "slide_type": "subslide"
    }
   },
   "source": [
    "## Implementation Start\n",
    "\n",
    "This exercise, like all others, relies on the Python scripting language. We load the Python module `MEDLoader`.\n",
    "\n",
    "For your information, the complete `MEDCoupling` module is included in `MEDLoader`. There's no need to import it if `MEDLoader` has been loaded."
   ]
  },
  {
   "cell_type": "code",
   "execution_count": 1,
   "id": "431a4550",
   "metadata": {
    "editable": false,
    "slideshow": {
     "slide_type": "skip"
    }
   },
   "outputs": [],
   "source": [
    "import medcoupling as mc"
   ]
  },
  {
   "cell_type": "markdown",
   "id": "7f091b6b",
   "metadata": {
    "editable": false,
    "slideshow": {
     "slide_type": "slide"
    }
   },
   "source": [
    "## Mesh Reading, Writing\n",
    "\n",
    "First, let's create a mesh `targetMesh` composed of several geometric types."
   ]
  },
  {
   "cell_type": "code",
   "execution_count": 2,
   "id": "d0de9d35",
   "metadata": {
    "editable": false,
    "slideshow": {
     "slide_type": "subslide"
    },
    "tags": []
   },
   "outputs": [
    {
     "name": "stdout",
     "output_type": "stream",
     "text": [
      "[1, 4, 2, 4, 5, 2, 0, 3, 4, 1, 6, 7, 4, 3, 7, 8, 5, 4]\n"
     ]
    }
   ],
   "source": [
    "# fmt: off\n",
    "targetCoords = [\n",
    "    -0.3, -0.3, 0.2, -0.3, 0.7, -0.3, -0.3, 0.2, 0.2,\n",
    "     0.2,  0.7, 0.2, -0.3, 0.7,  0.2,  0.7, 0.7, 0.7,\n",
    "]\n",
    "# fmt: on\n",
    "tri1 = [1, 4, 2]\n",
    "tri2 = [4, 5, 2]\n",
    "qua1 = [0, 3, 4, 1]\n",
    "qua2 = [6, 7, 4, 3]\n",
    "qua3 = [7, 8, 5, 4]\n",
    "\n",
    "targetConn = tri1 + tri2 + qua1 + qua2 + qua3\n",
    "print(targetConn)"
   ]
  },
  {
   "cell_type": "code",
   "execution_count": 3,
   "id": "13140a95",
   "metadata": {
    "editable": true,
    "slideshow": {
     "slide_type": ""
    }
   },
   "outputs": [],
   "source": [
    "targetMesh = mc.MEDCouplingUMesh(\"MyMesh\", 2)\n",
    "targetMesh.allocateCells(5)\n",
    "targetMesh.insertNextCell(mc.NORM_TRI3, 3, tri1)\n",
    "targetMesh.insertNextCell(mc.NORM_TRI3, 3, tri2)\n",
    "targetMesh.insertNextCell(mc.NORM_QUAD4, 4, qua1)\n",
    "targetMesh.insertNextCell(mc.NORM_QUAD4, 4, qua2)\n",
    "targetMesh.insertNextCell(mc.NORM_QUAD4, 4, qua3)\n",
    "myCoords = mc.DataArrayDouble(targetCoords, 9, 2)\n",
    "myCoords.setInfoOnComponents([\"X [km]\", \"Y [mm]\"])\n",
    "targetMesh.setCoords(myCoords)"
   ]
  },
  {
   "cell_type": "markdown",
   "id": "48e52b3b",
   "metadata": {
    "editable": false,
    "slideshow": {
     "slide_type": ""
    }
   },
   "source": [
    "<div class=\"alert alert-block alert-success\">\n",
    "<b>Note:</b> The mesh targetMesh is ordered by geometric type.</div>\n",
    "\n",
    "The mesh can then be directly written..."
   ]
  },
  {
   "cell_type": "code",
   "execution_count": 4,
   "id": "c9ee3848",
   "metadata": {
    "editable": true,
    "slideshow": {
     "slide_type": ""
    }
   },
   "outputs": [],
   "source": [
    "mc.WriteUMesh(\"TargetMesh.med\", targetMesh, True)  # True means 'from scratch'"
   ]
  },
  {
   "cell_type": "markdown",
   "id": "32d29933",
   "metadata": {
    "editable": false,
    "slideshow": {
     "slide_type": ""
    }
   },
   "source": [
    "... and read."
   ]
  },
  {
   "cell_type": "code",
   "execution_count": 5,
   "id": "f59d1029",
   "metadata": {},
   "outputs": [
    {
     "name": "stdout",
     "output_type": "stream",
     "text": [
      "Is the read mesh equal to 'targetMesh' ? True\n"
     ]
    }
   ],
   "source": [
    "meshRead = mc.ReadUMeshFromFile(\"TargetMesh.med\", targetMesh.getName(), 0)\n",
    "print(\"Is the read mesh equal to 'targetMesh' ?\", meshRead.isEqual(targetMesh, 1e-12))"
   ]
  },
  {
   "cell_type": "markdown",
   "id": "6a7c9abd",
   "metadata": {
    "editable": false,
    "slideshow": {
     "slide_type": ""
    }
   },
   "source": [
    "## Read/Write a Field on a Time Step\n",
    "\n",
    "We now create a vector field `f` on cells (P0) with `targetMesh` as its support. This field corresponds, for example, to the physical time 5.6, marked by iteration 7 and sub-iteration 8. We take this opportunity to remind you that in `MEDCoupling` fields, physical time is given for information only; storage and most API functions are based on the last two integers."
   ]
  },
  {
   "cell_type": "code",
   "execution_count": 6,
   "id": "0191107b",
   "metadata": {},
   "outputs": [],
   "source": [
    "f = mc.MEDCouplingFieldDouble.New(mc.ON_CELLS, mc.ONE_TIME)\n",
    "f.setTime(5.6, 7, 8)  # Declare the timestep associated with the field\n",
    "f.setArray(targetMesh.computeCellCenterOfMass())\n",
    "f.setMesh(targetMesh)\n",
    "f.setName(\"AFieldName\")\n",
    "mc.WriteField(\"MyFirstField.med\", f, True)"
   ]
  },
  {
   "cell_type": "markdown",
   "id": "1b492893",
   "metadata": {
    "editable": false,
    "slideshow": {
     "slide_type": ""
    }
   },
   "source": [
    "Subsidiary question: What does the field created correspond to?\n",
    "\n",
    "<div class=\"alert alert-block alert-success\">\n",
    "<b>Note:</b> The mesh and the field are written in one go to the file \"MyFirstField.med\".</div>\n",
    "\n",
    "We then read MyFirstField.med:"
   ]
  },
  {
   "cell_type": "code",
   "execution_count": 7,
   "id": "69b4613f",
   "metadata": {},
   "outputs": [
    {
     "name": "stdout",
     "output_type": "stream",
     "text": [
      "Is the read field identical to 'f' ? True\n"
     ]
    }
   ],
   "source": [
    "f2 = mc.ReadFieldCell(\"MyFirstField.med\", f.getMesh().getName(), 0, f.getName(), 7, 8)\n",
    "print(\"Is the read field identical to 'f' ?\", f2.isEqual(f, 1e-12, 1e-12))"
   ]
  },
  {
   "cell_type": "markdown",
   "id": "84727d73",
   "metadata": {
    "editable": false,
    "slideshow": {
     "slide_type": ""
    }
   },
   "source": [
    "<div class=\"alert alert-block alert-success\">\n",
    "<b>Note:</b> When reading the field, we must know its name, the name of its support mesh, and the desired timestep. Functions like MEDFileFields.getFieldsNames() or MEDFileMeshes.getMeshesNames() help with this.</div>\n",
    "\n",
    "<div class=\"alert alert-block alert-success\">\n",
    "<b>Note:</b> The name ReadFieldCell() reminds us that the field must be read on the cells. Remember that according to the MED file standard, the same field can have some of its data stored on cells, but also simultaneously on nodes, Gauss points, etc... even if this kind of exotic mix is generally not recommended.</div>\n",
    "\n",
    "## Read/Write a Field on Multiple Time Steps\n",
    "\n",
    "Here, unlike the previous case, we write multiple times to the same MED file. First, let's write the mesh."
   ]
  },
  {
   "cell_type": "code",
   "execution_count": 8,
   "id": "ccc4b812",
   "metadata": {},
   "outputs": [],
   "source": [
    "mc.WriteUMesh(\"MySecondField.med\", f.getMesh(), True)"
   ]
  },
  {
   "cell_type": "markdown",
   "id": "d430c5cc",
   "metadata": {
    "editable": false,
    "slideshow": {
     "slide_type": ""
    }
   },
   "source": [
    "Then, we write only the information related to the field (primarily its values array)."
   ]
  },
  {
   "cell_type": "code",
   "execution_count": 9,
   "id": "7fcb05a2",
   "metadata": {},
   "outputs": [],
   "source": [
    "mc.WriteFieldUsingAlreadyWrittenMesh(\"MySecondField.med\", f)  # mesh is not re-written"
   ]
  },
  {
   "cell_type": "markdown",
   "id": "f354b89b",
   "metadata": {
    "editable": false,
    "slideshow": {
     "slide_type": ""
    }
   },
   "source": [
    "Next, we add a second timestep on the same mesh."
   ]
  },
  {
   "cell_type": "code",
   "execution_count": 10,
   "id": "2ae04c47",
   "metadata": {},
   "outputs": [],
   "source": [
    "f2 = f.clone(True)  # 'True' means that we need a deep copy\n",
    "f2.getArray()[:] = 2.0\n",
    "f2.setTime(7.8, 9, 10)\n",
    "mc.WriteFieldUsingAlreadyWrittenMesh(\"MySecondField.med\", f2)"
   ]
  },
  {
   "cell_type": "markdown",
   "id": "a1d02d41",
   "metadata": {
    "editable": false,
    "slideshow": {
     "slide_type": ""
    }
   },
   "source": [
    "Now the file \"MySecondField.med\" contains the mesh and a field with two timesteps carried by this mesh.\n",
    "\n",
    "We can reread all of this with methods similar to what was seen previously:"
   ]
  },
  {
   "cell_type": "code",
   "execution_count": 11,
   "id": "b1132f41",
   "metadata": {
    "editable": true,
    "slideshow": {
     "slide_type": ""
    }
   },
   "outputs": [
    {
     "name": "stdout",
     "output_type": "stream",
     "text": [
      "Is the field read in the file equal to 'f' ? True\n",
      "Is the field read in the file equal to 'f2' ? True\n"
     ]
    }
   ],
   "source": [
    "f3 = mc.ReadFieldCell(\"MySecondField.med\", f.getMesh().getName(), 0, f.getName(), 7, 8)\n",
    "print(\"Is the field read in the file equal to 'f' ?\", f.isEqual(f3, 1e-12, 1e-12))\n",
    "f4 = mc.ReadFieldCell(\"MySecondField.med\", f.getMesh().getName(), 0, f.getName(), 9, 10)\n",
    "print(\"Is the field read in the file equal to 'f2' ?\", f2.isEqual(f4, 1e-12, 1e-12))"
   ]
  }
 ],
 "metadata": {
  "kernelspec": {
   "display_name": "Python 3 (ipykernel)",
   "language": "python",
   "name": "python3"
  },
  "language_info": {
   "codemirror_mode": {
    "name": "ipython",
    "version": 3
   },
   "file_extension": ".py",
   "mimetype": "text/x-python",
   "name": "python",
   "nbconvert_exporter": "python",
   "pygments_lexer": "ipython3",
   "version": "3.8.10"
  }
 },
 "nbformat": 4,
 "nbformat_minor": 5
}
