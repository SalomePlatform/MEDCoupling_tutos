{
 "cells": [
  {
   "cell_type": "markdown",
   "id": "0",
   "metadata": {
    "editable": true,
    "slideshow": {
     "slide_type": "slide"
    }
   },
   "source": [
    "# Reading, writing a MED file using the basic MEDLoader API\n",
    "\n",
    "The basic MEDLoader API is contained in the `MEDLoader` class. All methods of this class are static (they do not depend on a particular instance of the class), their names begin with a capital letter. All read/write operations are executed with each method call, and no internal state of the class is saved."
   ]
  },
  {
   "cell_type": "markdown",
   "id": "1",
   "metadata": {
    "editable": false,
    "slideshow": {
     "slide_type": "subslide"
    }
   },
   "source": [
    "## Objective\n",
    "\n",
    "Write a mesh and a field from scratch, reread them, and compare the results.\n",
    "\n",
    "Topics covered: using the basic `MEDLoader` API\n",
    "\n",
    "> - Writing a file\n",
    "> - Reading a file"
   ]
  },
  {
   "cell_type": "markdown",
   "id": "2",
   "metadata": {
    "editable": false,
    "slideshow": {
     "slide_type": "subslide"
    }
   },
   "source": [
    "## Implementation Start\n",
    "\n",
    "We import the `MEDCoupling` python package named `medcoupling`. The functions of `MEDLoader` are included in `medcoupling`."
   ]
  },
  {
   "cell_type": "code",
   "execution_count": null,
   "id": "3",
   "metadata": {
    "editable": false,
    "slideshow": {
     "slide_type": "skip"
    }
   },
   "outputs": [],
   "source": [
    "import medcoupling as mc"
   ]
  },
  {
   "cell_type": "markdown",
   "id": "4",
   "metadata": {
    "editable": false,
    "slideshow": {
     "slide_type": "slide"
    }
   },
   "source": [
    "## Mesh Reading, Writing\n",
    "\n",
    "First, let's create a mesh `targetMesh` composed of several geometric types.\n",
    "\n",
    "The coordinate array of the mesh is set from a `DataArray`:"
   ]
  },
  {
   "cell_type": "code",
   "execution_count": null,
   "id": "5",
   "metadata": {
    "editable": true,
    "slideshow": {
     "slide_type": ""
    }
   },
   "outputs": [],
   "source": [
    "targetMesh = mc.MEDCouplingUMesh(\"MyMesh\", 2)\n",
    "\n",
    "# fmt: off\n",
    "targetCoords = [\n",
    "    -0.3, -0.3, 0.2, -0.3, 0.7, -0.3, -0.3, 0.2, 0.2,\n",
    "     0.2,  0.7, 0.2, -0.3, 0.7,  0.2,  0.7, 0.7, 0.7,\n",
    "]\n",
    "# fmt: on\n",
    "\n",
    "myCoords = mc.DataArrayDouble(targetCoords, 9, 2)\n",
    "myCoords.setInfoOnComponents(mc.svec([\"X [km]\", \"Y [mm]\"]))\n",
    "targetMesh.setCoords(myCoords)"
   ]
  },
  {
   "cell_type": "markdown",
   "id": "6",
   "metadata": {},
   "source": [
    "Cells are inserted in the mesh. Cells are defined as a set of index of points (tuple) from the\n",
    "`DataArray` of coordinates of the mesh.\n",
    "\n",
    "For instance, `tri1 = [1, 4, 2]` designate a triangle cell composed of the\n",
    "first, fourth and second points of the coordinate array."
   ]
  },
  {
   "cell_type": "code",
   "execution_count": null,
   "id": "7",
   "metadata": {},
   "outputs": [],
   "source": [
    "tri1 = [1, 4, 2]\n",
    "tri2 = [4, 5, 2]\n",
    "qua1 = [0, 3, 4, 1]\n",
    "qua2 = [6, 7, 4, 3]\n",
    "qua3 = [7, 8, 5, 4]\n",
    "\n",
    "targetMesh.allocateCells(5)  # allocate memory\n",
    "targetMesh.insertNextCell(mc.NORM_TRI3, 3, tri1)\n",
    "targetMesh.insertNextCell(mc.NORM_TRI3, 3, tri2)\n",
    "targetMesh.insertNextCell(mc.NORM_QUAD4, 4, qua1)\n",
    "targetMesh.insertNextCell(mc.NORM_QUAD4, 4, qua2)\n",
    "targetMesh.insertNextCell(mc.NORM_QUAD4, 4, qua3)"
   ]
  },
  {
   "cell_type": "markdown",
   "id": "8",
   "metadata": {
    "editable": false,
    "slideshow": {
     "slide_type": ""
    }
   },
   "source": [
    "<div class=\"alert alert-block alert-success\">\n",
    "<b>Note:</b> The mesh targetMesh is ordered by geometric type.</div>\n",
    "\n",
    "The mesh can then be directly written..."
   ]
  },
  {
   "cell_type": "code",
   "execution_count": null,
   "id": "9",
   "metadata": {
    "editable": true,
    "slideshow": {
     "slide_type": ""
    }
   },
   "outputs": [],
   "source": [
    "mc.WriteUMesh(\"TargetMesh.med\", targetMesh, True)  # True means 'from scratch'"
   ]
  },
  {
   "cell_type": "markdown",
   "id": "10",
   "metadata": {
    "editable": false,
    "slideshow": {
     "slide_type": ""
    }
   },
   "source": [
    "... and read."
   ]
  },
  {
   "cell_type": "code",
   "execution_count": null,
   "id": "11",
   "metadata": {},
   "outputs": [],
   "source": [
    "meshRead: mc.MEDCouplingUMesh\n",
    "meshRead = mc.ReadUMeshFromFile(\"TargetMesh.med\", targetMesh.getName(), 0)\n",
    "print(\"Is the read mesh equal to 'targetMesh' ?\", meshRead.isEqual(targetMesh, 1e-12))"
   ]
  },
  {
   "cell_type": "markdown",
   "id": "12",
   "metadata": {
    "editable": false,
    "slideshow": {
     "slide_type": ""
    }
   },
   "source": [
    "## Read/Write a Field on a Time Step\n",
    "\n",
    "We now create a vector field `f` on cells (P0) with `targetMesh` as its support. This field corresponds, for example, to the physical time 5.6, marked by iteration 7 and sub-iteration 8. We take this opportunity to remind you that in `MEDCoupling` fields, physical time is given for information only; storage and most API functions are based on the last two integers."
   ]
  },
  {
   "cell_type": "code",
   "execution_count": null,
   "id": "13",
   "metadata": {},
   "outputs": [],
   "source": [
    "f: mc.MEDCouplingFieldDouble\n",
    "f = mc.MEDCouplingFieldDouble.New(mc.ON_CELLS, mc.ONE_TIME)\n",
    "f.setTime(5.6, 7, 8)  # Declare the timestep associated with the field\n",
    "f.setArray(targetMesh.computeCellCenterOfMass())\n",
    "f.setMesh(targetMesh)\n",
    "f.setName(\"AFieldName\")\n",
    "mc.WriteField(\"MyFirstField.med\", f, True)"
   ]
  },
  {
   "cell_type": "markdown",
   "id": "14",
   "metadata": {
    "editable": false,
    "slideshow": {
     "slide_type": ""
    }
   },
   "source": [
    "Subsidiary question: What does the field created correspond to?\n",
    "\n",
    "<div class=\"alert alert-block alert-success\">\n",
    "<b>Note:</b> The mesh and the field are written in one go to the file \"MyFirstField.med\".</div>\n",
    "\n",
    "We then read MyFirstField.med:"
   ]
  },
  {
   "cell_type": "code",
   "execution_count": null,
   "id": "15",
   "metadata": {},
   "outputs": [],
   "source": [
    "f2: mc.MEDCouplingFieldDouble\n",
    "f2 = mc.ReadFieldCell(\"MyFirstField.med\", f.getMesh().getName(), 0, f.getName(), 7, 8)\n",
    "print(\"Is the read field identical to 'f' ?\", f2.isEqual(f, 1e-12, 1e-12))"
   ]
  },
  {
   "cell_type": "markdown",
   "id": "16",
   "metadata": {
    "editable": false,
    "slideshow": {
     "slide_type": ""
    }
   },
   "source": [
    "<div class=\"alert alert-block alert-success\">\n",
    "<b>Note:</b> When reading the field, we must know its name, the name of its support mesh, and the desired timestep. Functions like MEDFileFields.getFieldsNames() or MEDFileMeshes.getMeshesNames() help with this.</div>\n",
    "\n",
    "<div class=\"alert alert-block alert-success\">\n",
    "<b>Note:</b> The name ReadFieldCell() reminds us that the field must be read on the cells. Remember that according to the MED file standard, the same field can have some of its data stored on cells, but also simultaneously on nodes, Gauss points, etc... even if this kind of exotic mix is generally not recommended.</div>\n",
    "\n",
    "## Read/Write a Field on Multiple Time Steps\n",
    "\n",
    "Here, unlike the previous case, we write multiple times to the same MED file. First, let's write the mesh."
   ]
  },
  {
   "cell_type": "code",
   "execution_count": null,
   "id": "17",
   "metadata": {},
   "outputs": [],
   "source": [
    "mc.WriteUMesh(\"MySecondField.med\", f.getMesh(), True)"
   ]
  },
  {
   "cell_type": "markdown",
   "id": "18",
   "metadata": {
    "editable": false,
    "slideshow": {
     "slide_type": ""
    }
   },
   "source": [
    "Then, we write only the information related to the field (primarily its values array)."
   ]
  },
  {
   "cell_type": "code",
   "execution_count": null,
   "id": "19",
   "metadata": {},
   "outputs": [],
   "source": [
    "mc.WriteFieldUsingAlreadyWrittenMesh(\"MySecondField.med\", f)  # mesh is not re-written"
   ]
  },
  {
   "cell_type": "markdown",
   "id": "20",
   "metadata": {
    "editable": false,
    "slideshow": {
     "slide_type": ""
    }
   },
   "source": [
    "Next, we add a second timestep on the same mesh."
   ]
  },
  {
   "cell_type": "code",
   "execution_count": null,
   "id": "21",
   "metadata": {},
   "outputs": [],
   "source": [
    "f2: mc.MEDCouplingFieldDouble\n",
    "f2 = f.clone(True)  # 'True' means that we need a deep copy\n",
    "f2.getArray()[:] = 2.0\n",
    "f2.setTime(7.8, 9, 10)\n",
    "mc.WriteFieldUsingAlreadyWrittenMesh(\"MySecondField.med\", f2)"
   ]
  },
  {
   "cell_type": "markdown",
   "id": "22",
   "metadata": {
    "editable": false,
    "slideshow": {
     "slide_type": ""
    }
   },
   "source": [
    "Now the file \"MySecondField.med\" contains the mesh and a field with two timesteps carried by this mesh.\n",
    "\n",
    "We can reread all of this with methods similar to what was seen previously:"
   ]
  },
  {
   "cell_type": "code",
   "execution_count": null,
   "id": "23",
   "metadata": {
    "editable": true,
    "slideshow": {
     "slide_type": ""
    }
   },
   "outputs": [],
   "source": [
    "f3: mc.MEDCouplingFieldDouble\n",
    "f3 = mc.ReadFieldCell(\"MySecondField.med\", f.getMesh().getName(), 0, f.getName(), 7, 8)\n",
    "print(\"Is the field read in the file equal to 'f' ?\", f.isEqual(f3, 1e-12, 1e-12))\n",
    "f4: mc.MEDCouplingFieldDouble\n",
    "f4 = mc.ReadFieldCell(\"MySecondField.med\", f.getMesh().getName(), 0, f.getName(), 9, 10)\n",
    "print(\"Is the field read in the file equal to 'f2' ?\", f2.isEqual(f4, 1e-12, 1e-12))"
   ]
  }
 ],
 "metadata": {
  "kernelspec": {
   "display_name": ".venv",
   "language": "python",
   "name": "python3"
  },
  "language_info": {
   "codemirror_mode": {
    "name": "ipython",
    "version": 3
   },
   "file_extension": ".py",
   "mimetype": "text/x-python",
   "name": "python",
   "nbconvert_exporter": "python",
   "pygments_lexer": "ipython3",
   "version": "3.12.3"
  }
 },
 "nbformat": 4,
 "nbformat_minor": 5
}
