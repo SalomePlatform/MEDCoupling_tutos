{
 "cells": [
  {
   "cell_type": "markdown",
   "id": "0",
   "metadata": {},
   "source": [
    "# Splitting and Merging a MED File Using the Advanced MEDLoader API\n",
    "\n",
    "## Objective\n",
    "\n",
    "This exercise presents a complete and advanced use case of the advanced MEDLoader API. The goal is to create a multi-type mesh from scratch with 2 fields:\n",
    "\n",
    "- A cell field \"CellField\"\n",
    "- A node field \"NodeField\"\n",
    "\n",
    "We will then split these fields into two parts (for parallel processing by a code, for example) and also demonstrate how to merge two fields from disjoint pieces.\n",
    "\n",
    "## Implementation Start\n",
    "\n",
    "Create an unstructured mesh `m0` from a structured mesh (meshDim=2, spaceDim=2) of 30*30. Each of the even cells of the mesh will be simplexized (i.e., split into triangles - using `MEDCouplingUMesh.simplexize(0)` method)."
   ]
  },
  {
   "cell_type": "code",
   "execution_count": null,
   "id": "1",
   "metadata": {},
   "outputs": [],
   "source": [
    "import medcoupling as mc\n",
    "\n",
    "m0 = mc.MEDCouplingCMesh()\n",
    "arr = mc.DataArrayDouble(31, 1)\n",
    "arr.iota(0.0)\n",
    "m0.setCoords(arr, arr)\n",
    "m0 = m0.buildUnstructured()\n",
    "m00 = m0[::2]  # Extract even cells\n",
    "m00.simplexize(0)\n",
    "m01 = m0[1::2]\n",
    "m0 = mc.MEDCouplingUMesh.MergeUMeshes([m00, m01])\n",
    "m0.getCoords()[:] *= 1 / 15.0  # Illustrate how to quickly rescale a mesh\n",
    "m0.setName(\"mesh\")"
   ]
  },
  {
   "cell_type": "markdown",
   "id": "2",
   "metadata": {},
   "source": [
    "<div class=\"alert alert-block alert-success\">\n",
    "<b>Note:</b> setName() on \"m0\" is mandatory. Remember that in the MED file context, associating names to meshes is required.</div>\n",
    "\n",
    "Create the fields `cellField` and `nodeField` at timestep `(5,6)` with time annotation `5.6`."
   ]
  },
  {
   "cell_type": "code",
   "execution_count": null,
   "id": "3",
   "metadata": {},
   "outputs": [],
   "source": [
    "# Cell field\n",
    "cellField = mc.MEDCouplingFieldDouble(mc.ON_CELLS, mc.ONE_TIME)\n",
    "cellField.setTime(5.6, 5, 6)\n",
    "cellField.setMesh(m0)\n",
    "cellField.setName(\"CellField\")\n",
    "cellField.fillFromAnalytic(1, \"exp(-((x-1)*(x-1)+(y-1)*(y-1)))\")\n",
    "cellField.getArray().setInfoOnComponent(0, \"powercell [W]\")\n",
    "# Node field\n",
    "nodeField = mc.MEDCouplingFieldDouble(mc.ON_NODES, mc.ONE_TIME)\n",
    "nodeField.setTime(5.6, 5, 6)\n",
    "nodeField.setMesh(m0)\n",
    "nodeField.setName(\"NodeField\")\n",
    "nodeField.fillFromAnalytic(1, \"exp(-((x-1)*(x-1)+(y-1)*(y-1)))\")\n",
    "nodeField.getArray().setInfoOnComponent(0, \"powernode [W]\")"
   ]
  },
  {
   "cell_type": "markdown",
   "id": "4",
   "metadata": {},
   "source": [
    "For example, this is obtained for \"CellField\":\n",
    "\n",
    "<img src=\"SplitAndMergeCell1.jpg\" style=\"width:500px;\">\n",
    "\n",
    "## Mesh Partitioning\n",
    "\n",
    "Split `m0` into two distinct parts. The two parts will be named `proc0` and `proc1`. `proc0` will be the part inside the bounding box (`MEDCouplingUMesh.getCellsInBoundingBox()`) `[(0.,0.4),(0.,0.4)]` with a precision of 1e-10. `proc1` will be the complement (`DataArrayInt.buildComplement()`)."
   ]
  },
  {
   "cell_type": "code",
   "execution_count": null,
   "id": "5",
   "metadata": {},
   "outputs": [],
   "source": [
    "proc0 = m0.getCellsInBoundingBox([(0.0, 0.4), (0.0, 0.4)], 1e-10)\n",
    "proc1 = proc0.buildComplement(m0.getNumberOfCells())"
   ]
  },
  {
   "cell_type": "markdown",
   "id": "6",
   "metadata": {},
   "source": [
    "<img src=\"SplitAndMergeCell2.jpg\" style=\"width:500px;\">\n",
    "\n",
    "## Writing to 2 Separate MED Files\n",
    "\n",
    "Starting from the partitioning `proc0` and `proc1`, create 2 MED files named \"proc0.med\" and \"proc1.med\":"
   ]
  },
  {
   "cell_type": "code",
   "execution_count": null,
   "id": "7",
   "metadata": {},
   "outputs": [],
   "source": [
    "nodeField0 = nodeField[proc0]\n",
    "cellField0 = cellField[proc0]\n",
    "cellField0.setMesh(nodeField0.getMesh())\n",
    "nodeField1 = nodeField[proc1]\n",
    "cellField1 = cellField[proc1]\n",
    "cellField1.setMesh(nodeField1.getMesh())\n",
    "\n",
    "proc0_fname = \"proc0.med\"\n",
    "mc.WriteField(proc0_fname, nodeField0, True)\n",
    "mc.WriteFieldUsingAlreadyWrittenMesh(proc0_fname, cellField0)\n",
    "\n",
    "proc1_fname = \"proc1.med\"\n",
    "mc.WriteField(proc1_fname, nodeField1, True)\n",
    "mc.WriteFieldUsingAlreadyWrittenMesh(proc1_fname, cellField1)"
   ]
  },
  {
   "cell_type": "markdown",
   "id": "8",
   "metadata": {},
   "source": [
    "Reading and merging the 2 separate MED files (less optimal)\n",
    "\n",
    "Starting from \"proc0.med\" and \"proc1.med\", read their respective \"CellField\" using the basic API, aggregate both and put the result in `cellField_read`:"
   ]
  },
  {
   "cell_type": "code",
   "execution_count": null,
   "id": "9",
   "metadata": {},
   "outputs": [],
   "source": [
    "cellField0_read = mc.ReadFieldCell(\"proc0.med\", \"mesh\", 0, \"CellField\", 5, 6)\n",
    "cellField1_read = mc.ReadFieldCell(\"proc1.med\", \"mesh\", 0, \"CellField\", 5, 6)\n",
    "cellField_read = mc.MEDCouplingFieldDouble.MergeFields(\n",
    "    [cellField0_read, cellField1_read]\n",
    ")"
   ]
  },
  {
   "cell_type": "markdown",
   "id": "10",
   "metadata": {},
   "source": [
    "<div class=\"alert alert-block alert-success\">\n",
    "<b>Note:</b> It may seem that the information Cell (method ReadFieldCell) is repeated excessively (indeed the field \"CellField\" was created on cells), but remember that in the MED file standard, nothing prevents a field from being based on cells but also simultaneously on nodes, or Gauss points ...</div>\n",
    "\n",
    "Compare `cellField_read` and `cellField0`. Problem, due to the constraint on MED file numbering, we have lost the original numbering. Or more precisely, there is no standard way to retrieve the original numbering. So a `MEDCouplingFieldDouble.isEqual()` is not enough. Let's use a `MEDCouplingFieldDouble.substractInPlaceDM()` which performs for us a renumbering following a particular policy (policy, see html doc). To do this, make a deep copy of `cellField` to `cellFieldCpy` and perform a `substractInPlaceDM` (DM for \"Different Meshes\") on this copy (unlike `substract` which only works if they share the same mesh):"
   ]
  },
  {
   "cell_type": "code",
   "execution_count": null,
   "id": "11",
   "metadata": {},
   "outputs": [],
   "source": [
    "cellFieldCpy = cellField.deepCopy()\n",
    "cellFieldCpy.substractInPlaceDM(cellField_read, 10, 1e-12)\n",
    "cellFieldCpy.getArray().abs()\n",
    "print(cellFieldCpy.getArray().isUniform(0.0, 1e-12))"
   ]
  },
  {
   "cell_type": "markdown",
   "id": "12",
   "metadata": {},
   "source": [
    "Perform the same work on \"NodeField\" as done earlier on \"CellField\". The difference here is that there will be duplication of information at the boundary, because the boundary nodes are shared on both sides:"
   ]
  },
  {
   "cell_type": "code",
   "execution_count": null,
   "id": "13",
   "metadata": {},
   "outputs": [],
   "source": [
    "nodeField0_read = mc.ReadFieldNode(\"proc0.med\", \"mesh\", 0, \"NodeField\", 5, 6)\n",
    "nodeField1_read = mc.ReadFieldNode(\"proc1.med\", \"mesh\", 0, \"NodeField\", 5, 6)\n",
    "nodeField_read = mc.MEDCouplingFieldDouble.MergeFields(\n",
    "    [nodeField0_read, nodeField1_read]\n",
    ")"
   ]
  },
  {
   "cell_type": "markdown",
   "id": "14",
   "metadata": {},
   "source": [
    "<div class=\"alert alert-block alert-success\">\n",
    "<b>Note:</b> In this part, we have re-read the mesh a second time, which can be penalizing ...</div>\n",
    "\n",
    "Invoke `MEDCouplingUMesh.mergeNodes()` on `nodeField_read` to remove the duplicated nodes. Make a deep copy called `nodeFieldCpy` of `nodeField` and again remove duplicates:"
   ]
  },
  {
   "cell_type": "code",
   "execution_count": null,
   "id": "15",
   "metadata": {},
   "outputs": [],
   "source": [
    "nodeField_read.mergeNodes(1e-10)\n",
    "nodeFieldCpy = nodeField.deepCopy()\n",
    "nodeFieldCpy.mergeNodes(1e-10)"
   ]
  },
  {
   "cell_type": "markdown",
   "id": "16",
   "metadata": {},
   "source": [
    "<div class=\"alert alert-block alert-success\">\n",
    "<b>Note:</b> Note that mergeNodes() has two precision parameters (epsilons), the first, classic, on the absolute distance between nodes, and the other on the tolerance accepted on the values of the field. If the value of the field of two nodes to be merged exceeds this second epsilon, an exception is raised.</div>\n",
    "\n",
    "Compare `nodeFieldCpy` and `nodeField_read` again using `MEDCouplingFieldDouble.substractInPlaceDM()`:"
   ]
  },
  {
   "cell_type": "code",
   "execution_count": null,
   "id": "17",
   "metadata": {},
   "outputs": [],
   "source": [
    "nodeFieldCpy.substractInPlaceDM(nodeField_read, 10, 1e-12)\n",
    "print(nodeFieldCpy.getArray().isUniform(0.0, 1e-12))"
   ]
  },
  {
   "cell_type": "markdown",
   "id": "18",
   "metadata": {},
   "source": [
    "## Reading and Merging the 2 Separate MED Files (less easy, but more optimal)\n",
    "\n",
    "Here, we need to perform a more systematic and potentially more general method of file merging. For large files, this approach is preferable. Besides performance, this approach has the advantage of being able to add information.\n",
    "\n",
    "With the advanced API, read the meshes of the two files \"proc0.med\" and \"proc1.med\" and aggregate the result in an instance `mergeMLMesh` of `MEDFileUMesh`. Process all dimension levels (even if here there is only one) using the method `MEDFileUMesh.getNonEmptyLevels()` on the instance coming from \"proc0.med\".\n",
    "\n",
    "The solution given below is as generic as possible, as it also handles different timesteps and different geometric types:"
   ]
  },
  {
   "cell_type": "code",
   "execution_count": null,
   "id": "19",
   "metadata": {},
   "outputs": [],
   "source": [
    "def load_mesh_and_fields(fileNames):\n",
    "    msML = [mc.MEDFileMesh.New(fname) for fname in fileNames]\n",
    "    fsML = [mc.MEDFileFields.New(fname) for fname in fileNames]\n",
    "    return msML, fsML\n",
    "\n",
    "\n",
    "def merge_meshes(msML):\n",
    "    mergeMLMesh = mc.MEDFileUMesh()\n",
    "    o2nML = {}  # Initialize o2nML as a dictionary to store mappings for each level\n",
    "    for lev in msML[0].getNonEmptyLevels():\n",
    "        cs = [mML.getCoords() for mML in msML]\n",
    "        mergeMLMesh.setCoords(mc.DataArrayDouble.Aggregate(cs))\n",
    "        ms = [mML.getMeshAtLevel(lev) for mML in msML]\n",
    "        m = mc.MEDCouplingUMesh.MergeUMeshes(ms)\n",
    "        m.setCoords(mergeMLMesh.getCoords())\n",
    "        o2nML[lev] = m.sortCellsInMEDFileFrmt()  # Store mapping for the current level\n",
    "        mergeMLMesh.setMeshAtLevel(lev, m)\n",
    "    return mergeMLMesh, o2nML\n",
    "\n",
    "\n",
    "def merge_fields(fsML, mergeMLMesh, o2nML):\n",
    "    mergeMLFields = mc.MEDFileFields()\n",
    "    for fieldName in fsML[0].getFieldsNames():\n",
    "        fmts = [fML[fieldName] for fML in fsML]\n",
    "        mergeField = mc.MEDFileFieldMultiTS()\n",
    "        for dt, it, tim in fmts[0].getTimeSteps():\n",
    "            fts = [fmt[dt, it] for fmt in fmts]\n",
    "            for typp in fts[0].getTypesOfFieldAvailable():\n",
    "                arr1s = aggregate_data(fts, typp)\n",
    "                for lev in o2nML:  # Ensure we have mappings for all levels\n",
    "                    arr = mc.DataArrayDouble.Aggregate(arr1s)\n",
    "                    if typp == mc.ON_CELLS and lev in o2nML:\n",
    "                        arr.renumberInPlace(\n",
    "                            o2nML[lev]\n",
    "                        )  # Use the correct mapping for each level\n",
    "                    mcf = mc.MEDCouplingFieldDouble(typp, mc.ONE_TIME)\n",
    "                    mcf.setName(fieldName)\n",
    "                    mcf.setTime(tim, dt, it)\n",
    "                    mcf.setArray(arr)\n",
    "                    mcf.setMesh(mergeMLMesh.getMeshAtLevel(lev))\n",
    "                    mcf.checkConsistencyLight()\n",
    "                    mergeField.appendFieldNoProfileSBT(mcf)\n",
    "        mergeMLFields.pushField(mergeField)\n",
    "    return mergeMLFields\n",
    "\n",
    "\n",
    "def aggregate_data(fts, typp):\n",
    "    arr1s = []\n",
    "    for ft in fts:\n",
    "        for geoTyp, smth in ft.getFieldSplitedByType():\n",
    "            if geoTyp != mc.NORM_ERROR:\n",
    "                smth1 = [elt for elt in smth if elt[0] == mc.ON_CELLS]\n",
    "                arr2s = [\n",
    "                    ft.getUndergroundDataArray()[elt[1][0] : elt[1][1]] for elt in smth1\n",
    "                ]\n",
    "                arr1s.append(mc.DataArrayDouble.Aggregate(arr2s))\n",
    "            else:\n",
    "                smth = [\n",
    "                    elt for elt in ft.getFieldSplitedByType() if elt[0] == mc.NORM_ERROR\n",
    "                ]\n",
    "                arr2 = mc.DataArrayDouble.Aggregate(\n",
    "                    [\n",
    "                        ft.getUndergroundDataArray()[elt[1][0][1][0] : elt[1][0][1][1]]\n",
    "                        for elt in smth\n",
    "                    ]\n",
    "                )\n",
    "                arr1s.append(arr2)\n",
    "    return arr1s\n",
    "\n",
    "\n",
    "def write_merged_data(mergeMLMesh, mergeMLFields, fileName=\"merge.med\"):\n",
    "    mergeMLMesh.write(fileName, 2)\n",
    "    mergeMLFields.write(fileName, 0)\n",
    "\n",
    "\n",
    "# Main execution\n",
    "fileNames = [\"proc0.med\", \"proc1.med\"]\n",
    "msML, fsML = load_mesh_and_fields(fileNames)\n",
    "mergeMLMesh, o2nML = merge_meshes(msML)\n",
    "mergeMLFields = merge_fields(fsML, mergeMLMesh, o2nML)\n",
    "write_merged_data(mergeMLMesh, mergeMLFields)"
   ]
  }
 ],
 "metadata": {
  "kernelspec": {
   "display_name": "Python 3 (ipykernel)",
   "language": "python",
   "name": "python3"
  },
  "language_info": {
   "codemirror_mode": {
    "name": "ipython",
    "version": 3
   },
   "file_extension": ".py",
   "mimetype": "text/x-python",
   "name": "python",
   "nbconvert_exporter": "python",
   "pygments_lexer": "ipython3",
   "version": "3.8.10"
  }
 },
 "nbformat": 4,
 "nbformat_minor": 5
}
