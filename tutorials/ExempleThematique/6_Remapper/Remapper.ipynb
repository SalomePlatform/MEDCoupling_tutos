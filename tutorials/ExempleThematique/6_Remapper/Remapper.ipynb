{
 "cells": [
  {
   "cell_type": "markdown",
   "id": "0",
   "metadata": {},
   "source": [
    "# MEDCouplingRemapper: interpolation of fields\n",
    "\n",
    "Here, we will perform an interpolation between two meshes `srcMesh` and `trgMesh`. To emphasize some subtleties of interpolation, we take a particular case where `srcMesh` is a refined mesh of `trgMesh` (with some cells cut more finely).\n",
    "\n",
    "To start the exercise, import the `medcoupling` module and the `MEDCouplingRemapper` class from the module."
   ]
  },
  {
   "cell_type": "code",
   "execution_count": null,
   "id": "1",
   "metadata": {},
   "outputs": [],
   "source": [
    "import medcoupling as mc\n",
    "from medcoupling import MEDCouplingRemapper"
   ]
  },
  {
   "cell_type": "markdown",
   "id": "2",
   "metadata": {},
   "source": [
    "## Create the target mesh\n",
    "\n",
    "Construct the unstructured mesh `trgMesh` from a 2D Cartesian mesh 10x10 starting at point `[0.,0.]` and having a step of 1 in both X and Y:"
   ]
  },
  {
   "cell_type": "code",
   "execution_count": null,
   "id": "3",
   "metadata": {},
   "outputs": [],
   "source": [
    "arr = mc.DataArrayDouble(11)\n",
    "arr.iota(0)\n",
    "trgMesh = mc.MEDCouplingCMesh()\n",
    "trgMesh.setCoords(arr, arr)\n",
    "trgMesh = trgMesh.buildUnstructured()"
   ]
  },
  {
   "cell_type": "markdown",
   "id": "4",
   "metadata": {},
   "source": [
    "## Create the source mesh\n",
    "\n",
    "Create a mesh `srcMesh` from a 2D Cartesian mesh of 20x20 cells also starting at point `[0.,0.]` and having a step of 0.5 in both X and Y:"
   ]
  },
  {
   "cell_type": "code",
   "execution_count": null,
   "id": "5",
   "metadata": {},
   "outputs": [],
   "source": [
    "arr = mc.DataArrayDouble(21)\n",
    "arr.iota(0)\n",
    "arr *= 0.5\n",
    "srcMesh = mc.MEDCouplingCMesh()\n",
    "srcMesh.setCoords(arr, arr)\n",
    "srcMesh = srcMesh.buildUnstructured()"
   ]
  },
  {
   "cell_type": "markdown",
   "id": "6",
   "metadata": {},
   "source": [
    "To make the exercise more interesting, triangulate the first 20 cells of `srcMesh` using `MEDCouplingUMesh.simplexize()` (2D simplices are triangles). Set the result to `srcMesh`."
   ]
  },
  {
   "cell_type": "code",
   "execution_count": null,
   "id": "7",
   "metadata": {},
   "outputs": [],
   "source": [
    "tmp = srcMesh[:20]  # Extract a sub-part of srcMesh\n",
    "tmp.simplexize(0)\n",
    "srcMesh = mc.MEDCouplingUMesh.MergeUMeshes([tmp, srcMesh[20:]])"
   ]
  },
  {
   "cell_type": "markdown",
   "id": "8",
   "metadata": {},
   "source": [
    "Interpolate with MEDCouplingRemapper\n",
    "\n",
    "We recall that to project a field from one mesh to another, we must first prepare the interpolation matrix containing the projection ratios.\n",
    "\n",
    "Calculate the first part of the interpolation matrix from `srcMesh` (discretized at cells - P0) to `trgMesh` (also discretized at cells). To do this, invoke `MEDCouplingRemapper.prepare()` on an instance (`remap`) of `MEDCouplingRemapper`."
   ]
  },
  {
   "cell_type": "code",
   "execution_count": null,
   "id": "9",
   "metadata": {},
   "outputs": [],
   "source": [
    "remap = MEDCouplingRemapper()\n",
    "remap.prepare(srcMesh, trgMesh, \"P0P0\")"
   ]
  },
  {
   "cell_type": "markdown",
   "id": "10",
   "metadata": {},
   "source": [
    "Check that the matrix calculated by the method is correct in our trivial case. To do this, retrieve in `myMatrix` the internal matrix returned by `MEDCouplingRemapper.getCrudeMatrix()`. This gives for each cell of `trgMesh` the identifiers of cells of `srcMesh` with which it intersects, and the corresponding intersection area.\n",
    "\n",
    "Make sure that for each cell of `trgMesh`, the sum of the areas always equals 1."
   ]
  },
  {
   "cell_type": "code",
   "execution_count": null,
   "id": "11",
   "metadata": {},
   "outputs": [],
   "source": [
    "myMatrix = remap.getCrudeMatrix()\n",
    "print(myMatrix)\n",
    "sumByRows = mc.DataArrayDouble(len(myMatrix))\n",
    "for i, wIt in enumerate(sumByRows):\n",
    "    su = 0.0\n",
    "    for it in myMatrix[i]:\n",
    "        su += myMatrix[i][it]\n",
    "    wIt[0] = su\n",
    "print(\"Is interpolation well prepared?\", sumByRows.isUniform(1.0, 1e-12))"
   ]
  },
  {
   "cell_type": "markdown",
   "id": "12",
   "metadata": {},
   "source": [
    "Construct a field on cells \"srcField\" built from the following analytical formula: `7-sqrt((x-5.)*(x-5.)+(y-5.)*(y-5.))`:"
   ]
  },
  {
   "cell_type": "code",
   "execution_count": null,
   "id": "13",
   "metadata": {},
   "outputs": [],
   "source": [
    "srcField = mc.MEDCouplingFieldDouble(mc.ON_CELLS, mc.ONE_TIME)\n",
    "srcField.setMesh(srcMesh)\n",
    "srcField.fillFromAnalytic(1, \"7-sqrt((x-5.)*(x-5.)+(y-5.)*(y-5.))\")\n",
    "srcField.getArray().setInfoOnComponent(0, \"powercell [W]\")"
   ]
  },
  {
   "cell_type": "markdown",
   "id": "14",
   "metadata": {},
   "source": [
    "Here is what this field looks like:\n",
    "\n",
    "<img src=\"Remapper1.png\" style=\"width:500px;\">\n",
    "\n",
    "Apply interpolation with `MEDCouplingRemapper.transferField()`:"
   ]
  },
  {
   "cell_type": "code",
   "execution_count": null,
   "id": "15",
   "metadata": {},
   "outputs": [],
   "source": [
    "# remap.transferField(srcField, 1e300)"
   ]
  },
  {
   "cell_type": "markdown",
   "id": "16",
   "metadata": {},
   "source": [
    "<div class=\"alert alert-block alert-success\">\n",
    "<b>Note:</b> 1e300 is a default value. This value will be systematically assigned to any cell of trgField not intersecting any cell of srcMesh. Typically, users set an enormous value to spot what is often a bug. However, other users, from the perspective of parallel interpolation for example, set 0.</div>\n",
    "\n",
    "<div class=\"alert alert-block alert-success\">\n",
    "<b>Note:</b> An exception is thrown because srcField has no defined nature. We will see later in the impact of this attribute on the final result.</div>\n",
    "\n",
    "Set the nature of `srcField` to `IntensiveMaximum`. This means that the field should be interpreted as intensive (such as temperature)."
   ]
  },
  {
   "cell_type": "code",
   "execution_count": null,
   "id": "17",
   "metadata": {},
   "outputs": [],
   "source": [
    "srcField.setNature(mc.IntensiveMaximum)\n",
    "trgFieldCV = remap.transferField(srcField, 1e300)"
   ]
  },
  {
   "cell_type": "markdown",
   "id": "18",
   "metadata": {},
   "source": [
    "Check that with the `IntensiveMaximum` nature, the integral of the field is preserved. However, the sum over the cells (accumulation) is not preserved!"
   ]
  },
  {
   "cell_type": "code",
   "execution_count": null,
   "id": "19",
   "metadata": {},
   "outputs": [],
   "source": [
    "integSource = srcField.integral(True)[0]\n",
    "integTarget = trgFieldCV.integral(True)[0]\n",
    "print(\"IntensiveMaximum -- integrals: %lf == %lf\" % (integSource, integTarget))\n",
    "\n",
    "accSource = srcField.getArray().accumulate()[0]\n",
    "accTarget = trgFieldCV.getArray().accumulate()[0]\n",
    "print(\"IntensiveMaximum -- sums: %lf != %lf\" % (accSource, accTarget))"
   ]
  },
  {
   "cell_type": "markdown",
   "id": "20",
   "metadata": {},
   "source": [
    "Now set the nature of `srcField` to `ExtensiveConservation`. The field should be interpreted as extensive (such as power or volume)."
   ]
  },
  {
   "cell_type": "code",
   "execution_count": null,
   "id": "21",
   "metadata": {},
   "outputs": [],
   "source": [
    "srcField.setNature(mc.ExtensiveConservation)\n",
    "trgFieldI = remap.transferField(srcField, 1e300)"
   ]
  },
  {
   "cell_type": "markdown",
   "id": "22",
   "metadata": {},
   "source": [
    "Check that with the `ExtensiveConservation` nature, the integral of the field is not preserved. However, the sum over the cells is preserved."
   ]
  },
  {
   "cell_type": "code",
   "execution_count": null,
   "id": "23",
   "metadata": {},
   "outputs": [],
   "source": [
    "integSource = srcField.integral(True)[0]\n",
    "integTarget = trgFieldI.integral(True)[0]\n",
    "print(\"ExtensiveConservation -- integrals: %lf != %lf\" % (integSource, integTarget))\n",
    "\n",
    "accSource = srcField.getArray().accumulate()[0]\n",
    "accTarget = trgFieldI.getArray().accumulate()[0]\n",
    "print(\"ExtensiveConservation -- sums: %lf == %lf\" % (accSource, accTarget))"
   ]
  },
  {
   "cell_type": "markdown",
   "id": "24",
   "metadata": {},
   "source": [
    "Visualize the fields with ParaView, or by writing them to a file."
   ]
  }
 ],
 "metadata": {
  "kernelspec": {
   "display_name": "Python 3 (ipykernel)",
   "language": "python",
   "name": "python3"
  },
  "language_info": {
   "codemirror_mode": {
    "name": "ipython",
    "version": 3
   },
   "file_extension": ".py",
   "mimetype": "text/x-python",
   "name": "python",
   "nbconvert_exporter": "python",
   "pygments_lexer": "ipython3",
   "version": "3.8.10"
  }
 },
 "nbformat": 4,
 "nbformat_minor": 5
}
