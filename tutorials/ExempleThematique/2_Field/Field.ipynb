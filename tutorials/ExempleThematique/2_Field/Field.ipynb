{
 "cells": [
  {
   "cell_type": "markdown",
   "id": "0",
   "metadata": {},
   "source": [
    "# Manipulating Fields of floats\n",
    "\n",
    "Fields in MEDCoupling have a unique mesh support with a fixed and well-defined\n",
    "dimension.\n",
    "\n",
    "_(This may seem trivial, but it's actually a major difference from the concept\n",
    "of fields in the `MED-file` library, which is much more permissive.)_\n",
    "\n",
    "Fields are useful for:\n",
    "\n",
    "- storing values of a physical quantity over a domain\n",
    "- using some functions which compute values related to a given mesh, such as the\n",
    "  volume of its cells. This includes functions like:\n",
    "  - `getValueOn()`\n",
    "  - `getValueOnMulti()`\n",
    "  - `integral()`\n",
    "  - `getMeasureField`\n",
    "  - `normL1()`\n",
    "  - `normL2()`\n",
    "  - `fillFromAnalytic()`\n",
    "- precisely specifying the information exchanged between different codes during\n",
    "  during a coupling of those codes.\n",
    "\n",
    "For your information, the implementation of `MEDCouplingFieldDouble` is\n",
    "relatively small because this class the vast majority of its processing to other\n",
    "underlying classes like `MEDCouplingMesh`, `DataArrayDouble`, and\n",
    "`MEDCouplingSpatialDiscretization`. The `MEDCouplingFieldDouble` class ensures\n",
    "consistency among all these elements.\n",
    "\n",
    "It's often possible, and sometimes even recommended, to directly manipulate the\n",
    "arrays (a `DataArrayDouble`) and/or the mesh of an instance of\n",
    "`MEDCouplingFieldDouble`.\n"
   ]
  },
  {
   "cell_type": "markdown",
   "id": "1",
   "metadata": {},
   "source": [
    "## Objectives\n",
    "\n",
    "This exercise focuses on the relationship between the meshes and the values of a\n",
    "field.\n",
    "\n",
    "- Creating a field\n",
    "- Aggregating fields\n",
    "- Building a subset of a field\n",
    "- Renumbering entities of a field\n",
    "- Comparing two fields from different sources\n",
    "- Evaluating a field at a set of points\n",
    "- Exploding a field\n"
   ]
  },
  {
   "cell_type": "markdown",
   "id": "2",
   "metadata": {},
   "source": [
    "\n",
    "We import the Python module `medcoupling`.\n"
   ]
  },
  {
   "cell_type": "code",
   "execution_count": null,
   "id": "3",
   "metadata": {},
   "outputs": [],
   "source": [
    "import medcoupling as mc"
   ]
  },
  {
   "cell_type": "markdown",
   "id": "4",
   "metadata": {},
   "source": [
    "We create a `MEDCouplingUMesh` from a 3D Cartesian mesh. Each direction will contain 10 cells and 11 nodes."
   ]
  },
  {
   "cell_type": "code",
   "execution_count": null,
   "id": "5",
   "metadata": {},
   "outputs": [],
   "source": [
    "xarr = mc.DataArrayDouble.New(11, 1)\n",
    "xarr.iota(0.0)  # Generate s, s+1, s+2, ... given start value s\n",
    "cmesh = mc.MEDCouplingCMesh.New()\n",
    "cmesh.setCoords(xarr, xarr, xarr)\n",
    "mesh = cmesh.buildUnstructured()"
   ]
  },
  {
   "cell_type": "markdown",
   "id": "6",
   "metadata": {},
   "source": [
    "**Note:** The method `MEDCouplingMesh.buildUnstructured()` is very useful for\n",
    "quickly constructing an unstructured mesh to test something.  To highlight the\n",
    "problem of multiple geometric types, we convert the cells with even identifiers\n",
    "to polyhedra."
   ]
  },
  {
   "cell_type": "code",
   "execution_count": null,
   "id": "7",
   "metadata": {},
   "outputs": [],
   "source": [
    "mesh.convertToPolyTypes(mc.DataArrayInt.Range(0, mesh.getNumberOfCells(), 2))"
   ]
  },
  {
   "cell_type": "markdown",
   "id": "8",
   "metadata": {},
   "source": [
    "## Creating a field\n",
    "\n",
    "Create a scalar field (a single component) on cells (i.e. a \"P0\" field, in\n",
    "the MEDCoupling vocabulary), from the following analytical\n",
    "function: `f: x -> ( x - 5) * ( x - 5) + (y - 5) * (y - 5) + (z - 5) * (z - 5)`, where `(x, y, z)`\n",
    "represents the coordinates of the centroid of a cell. Two possibilities:\n",
    "\n",
    "- Directly by calling `fillFromAnalytic()` on a mesh\n"
   ]
  },
  {
   "cell_type": "code",
   "execution_count": null,
   "id": "9",
   "metadata": {},
   "outputs": [],
   "source": [
    "f = mesh.fillFromAnalytic(\n",
    "    mc.ON_CELLS, 1, \"(x-5.)*(x-5.)+(y-5.)*(y-5.)+(z-5.)*(z-5.)\"\n",
    ")  # 1 means that the field should have one component\n",
    "f.setName(\"MyField\")"
   ]
  },
  {
   "cell_type": "markdown",
   "id": "10",
   "metadata": {},
   "source": [
    "- Or by first creating an uninitialized field and applying `fillFromAnalytic()`\n",
    "  on this instance of `MEDCouplingFieldDouble`\n"
   ]
  },
  {
   "cell_type": "code",
   "execution_count": null,
   "id": "11",
   "metadata": {},
   "outputs": [],
   "source": [
    "f2 = mc.MEDCouplingFieldDouble(mc.ON_CELLS, mc.ONE_TIME)\n",
    "f2.setMesh(mesh)\n",
    "f2.setName(\"MyField2\")\n",
    "f2.fillFromAnalytic(\n",
    "    1, \"(x-5.)*(x-5.)+(y-5.)*(y-5.)+(z-5.)*(z-5.)\"\n",
    ")  # 1 means that the field should have one component"
   ]
  },
  {
   "cell_type": "markdown",
   "id": "12",
   "metadata": {},
   "source": [
    "Compare the two fields: compare `f` and `f2` with a precision of 1e-12 on the coordinates and 1e-13 on the values."
   ]
  },
  {
   "cell_type": "code",
   "execution_count": null,
   "id": "13",
   "metadata": {},
   "outputs": [],
   "source": [
    "print(\"Are f and f2 equal?\", f.isEqualWithoutConsideringStr(f2, 1e-12, 1e-13))"
   ]
  },
  {
   "cell_type": "markdown",
   "id": "14",
   "metadata": {},
   "source": [
    "<div class=\"alert alert-block alert-success\">\n",
    "<b>Note:</b> The \"WithoutConsideringStr\" in the name of the previous method indicates that the field names will not be compared. This suffix can be found in other MEDCoupling methods.</div>\n",
    "\n",
    "## Building a subset of a field\n",
    "\n",
    "Retrieve in a variable `ids1` the list of cell identifiers for which the field value is in the range [0.0,5.0]. Use the method `DataArrayDouble.findIdsInRange()`. With this result, build the subset `fPart1` of field `f`."
   ]
  },
  {
   "cell_type": "code",
   "execution_count": null,
   "id": "15",
   "metadata": {},
   "outputs": [],
   "source": [
    "# this DataArrayDouble, which is a direct reference (not a copy) of the field's values\n",
    "da1 = f.getArray()\n",
    "ids1 = da1.findIdsInRange(0.0, 5.0)\n",
    "fPart1 = f.buildSubPart(ids1)\n",
    "fPart1.writeVTK(\"ExoField_fPart1.vtu\")"
   ]
  },
  {
   "cell_type": "markdown",
   "id": "16",
   "metadata": {},
   "source": [
    "<img src=\"FieldDouble1.png\" style=\"width:500px;\">\n",
    "\n",
    "Select the part `fPart2` of field `f` where all tuple values are in `[50.,+infinity)`."
   ]
  },
  {
   "cell_type": "code",
   "execution_count": null,
   "id": "17",
   "metadata": {},
   "outputs": [],
   "source": [
    "ids2 = f.getArray().findIdsInRange(50.0, 1.0e300)\n",
    "fPart2 = f.buildSubPart(ids2)"
   ]
  },
  {
   "cell_type": "markdown",
   "id": "18",
   "metadata": {},
   "source": [
    "This kind of technique makes it easier to extract parts of a field related to a group of cells, for example.\n",
    "\n",
    "## Renumbering entities of a field\n",
    "\n",
    "The generated `fPart1` part is valid from a MEDCoupling perspective. But it's not valid from a MED file perspective. Renumbering is necessary if you intend to store this field in a MED file to order cells by geometric type.\n",
    "\n",
    "The idea is to use the two methods `MEDCouplingUMesh.sortCellsInMEDFileFrmt()` and `DataArrayDouble.renumberInPlace()` to manually renumber a copy of `fPart1`:"
   ]
  },
  {
   "cell_type": "code",
   "execution_count": null,
   "id": "19",
   "metadata": {},
   "outputs": [],
   "source": [
    "fPart1Cpy = fPart1.deepCopy()\n",
    "o2n = fPart1Cpy.getMesh().sortCellsInMEDFileFrmt()\n",
    "fPart1Cpy.getArray().renumberInPlace(o2n)"
   ]
  },
  {
   "cell_type": "markdown",
   "id": "20",
   "metadata": {},
   "source": [
    "`fPart1Cpy` is now normalized to be stored in a MED file (which we'll see later).\n",
    "\n",
    "Check that `fPart1Cpy` and `fPart1` are the same apart from a permutation (`MEDCouplingFieldDouble.substractInPlaceDM()`)"
   ]
  },
  {
   "cell_type": "code",
   "execution_count": null,
   "id": "21",
   "metadata": {},
   "outputs": [],
   "source": [
    "fPart1Cpy.substractInPlaceDM(fPart1, 12, 1e-12)\n",
    "fPart1Cpy.getArray().abs()\n",
    "print(\"Equal field ? %s\" % (fPart1Cpy.getArray().accumulate()[0] < 1e-12))"
   ]
  },
  {
   "cell_type": "markdown",
   "id": "22",
   "metadata": {},
   "source": [
    "<div class=\"alert alert-block alert\n",
    "\n",
    "-success\">\n",
    "<b>Note:</b> The renumbering performed here is actually a very particular case of interpolation. Indeed, the assumption is made that the supports of fPart1 and fPart1Cpy are equal up to a permutation of cells and/or nodes.</div>\n",
    "\n",
    "## Aggregating fields\n",
    "\n",
    "Aggregate `fPart1` and `fPart2` (use `MEDCouplingFieldDouble.MergeFields()`). And put the result of the aggregation in `fPart12`."
   ]
  },
  {
   "cell_type": "code",
   "execution_count": null,
   "id": "23",
   "metadata": {},
   "outputs": [],
   "source": [
    "fPart12 = mc.MEDCouplingFieldDouble.MergeFields([fPart1, fPart2])\n",
    "fPart12.writeVTK(\"ExoField_fPart12.vtu\")"
   ]
  },
  {
   "cell_type": "markdown",
   "id": "24",
   "metadata": {},
   "source": [
    "<div class=\"alert alert-block alert-success\">\n",
    "<b>Note:</b> The method MEDCouplingFieldDouble.MergeFields() should really be named MEDCouplingFieldDouble.AggregateFields() ...</div>\n",
    "\n",
    "<img src=\"FieldDouble2.png\" style=\"width:500px;\">\n",
    "\n",
    "## Evaluating a field at given points in space\n",
    "\n",
    "Evaluate the value of field `fPart12` calculated previously at the cell centroids of its mesh (variable `bary`) and put the result in `arr1`. Use the methods `MEDCouplingFieldDouble.getValueOnMulti()` and `MEDCouplingMesh.computeCellCenterOfMass()` for this.\n",
    "\n",
    "Similarly, then evaluate the field `f` directly using the same list of points as before (`bary`) and put the result in `arr2`.\n",
    "\n",
    "Then check that `arr1` and `arr2` are indeed equal:"
   ]
  },
  {
   "cell_type": "code",
   "execution_count": null,
   "id": "25",
   "metadata": {},
   "outputs": [],
   "source": [
    "bary = fPart12.getMesh().computeCellCenterOfMass()\n",
    "arr1 = fPart12.getValueOnMulti(bary)\n",
    "arr2 = f.getValueOnMulti(bary)\n",
    "delta = arr1 - arr2\n",
    "delta.abs()\n",
    "print(\"Is field evaluation matching?\", (delta.accumulate()[0] < 1e-12))"
   ]
  },
  {
   "cell_type": "markdown",
   "id": "26",
   "metadata": {},
   "source": [
    "<div class=\"alert alert-block alert-success\">\n",
    "<b>Note:</b> In this context, and for a cell-centered (P0) field for example, \"evaluating\" at a point means returning the value of the cell containing the given point. For node-centered (P1) fields, cells must be of simple types (triangles, tetrahedra) and linear interpolation is then used.</div>\n",
    "\n",
    "<div class=\"alert alert-block alert-success\">\n",
    "<b>Note:</b> This technique can be used to quickly assess the quality of an interpolation.</div>\n",
    "\n",
    "## Operations on fields\n",
    "\n",
    "Compute the integral of field `fPart12` over the mesh, and find it in another way using the method `DataArrayDouble.accumulate()` on the value array of this field. Recall that, given the simplified mesh in play, all cells have a unit volume."
   ]
  },
  {
   "cell_type": "code",
   "execution_count": null,
   "id": "27",
   "metadata": {},
   "outputs": [],
   "source": [
    "integ1 = fPart12.integral(0, True)\n",
    "integ1_bis = fPart12.getArray().accumulate()[0]\n",
    "print(\"First integral matching ?\", (abs(integ1 - integ1_bis) < 1e-8))"
   ]
  },
  {
   "cell_type": "markdown",
   "id": "28",
   "metadata": {},
   "source": [
    "Then apply a homothety of factor 1.2 centered at [0.,0.,0.] on the support of `fPart12` (i.e., its mesh). What is the new value of the integral?"
   ]
  },
  {
   "cell_type": "code",
   "execution_count": null,
   "id": "29",
   "metadata": {},
   "outputs": [],
   "source": [
    "fPart12.getMesh().scale([0.0, 0.0, 0.0], 1.2)\n",
    "integ2 = fPart12.integral(0, True)\n",
    "print(\"Second integral matching ?\", (abs(integ2 - integ1_bis * 1.2 * 1.2 * 1.2) < 1e-8))"
   ]
  },
  {
   "cell_type": "markdown",
   "id": "30",
   "metadata": {},
   "source": [
    "## Exploding a field - Displacement vectors\n",
    "\n",
    "We will now create a new mesh representing the exploded mesh of the initial mesh.\n",
    "\n",
    "Starting from the `mesh` mesh, create a vector field on cells `fVec` having 3 components representing the displacement vector between the point [5.,5.,5.] and the centroid of each cell of the mesh. Use the method `MEDCouplingMesh.fillFromAnalytic()`:"
   ]
  },
  {
   "cell_type": "code",
   "execution_count": null,
   "id": "31",
   "metadata": {},
   "outputs": [],
   "source": [
    "fVec = mesh.fillFromAnalytic(mc.ON_CELLS, 3, \"(x-5.)*IVec+(y-5.)*JVec+(z-5.)*KVec\")"
   ]
  },
  {
   "cell_type": "markdown",
   "id": "32",
   "metadata": {},
   "source": [
    "<div class=\"alert alert-block alert-success\">\n",
    "<b>Note:</b> The special identifiers IVec, JVec, and KVec represent the unit vectors of the frame.</div>\n",
    "\n",
    "Then create a reduction of `fVec` (named `fVecPart1`) on the cells `ids1` previously obtained:"
   ]
  },
  {
   "cell_type": "code",
   "execution_count": null,
   "id": "33",
   "metadata": {},
   "outputs": [],
   "source": [
    "fVecPart1 = fVec.buildSubPart(ids1)\n",
    "fVecPart1.setName(\"fVecPart1\")"
   ]
  },
  {
   "cell_type": "markdown",
   "id": "34",
   "metadata": {},
   "source": [
    "Build the scalar field `fPart1Exploded` having the same values as `fPart1` but based on an exploded mesh compared to that of `fPart1.getMesh()`. To explode `fPart1.getMesh()` use the vector displacement field `fVecPart1` to apply to each cell the associated translation."
   ]
  },
  {
   "cell_type": "code",
   "execution_count": null,
   "id": "35",
   "metadata": {},
   "outputs": [],
   "source": [
    "cells = fPart1.getMesh().getNumberOfCells() * [None]\n",
    "\n",
    "for icell, vec in enumerate(fVecPart1.getArray()):\n",
    "    m = fPart1.getMesh()[[icell]]\n",
    "    m.zipCoords()  # Not mandatory but saves memory\n",
    "    m.translate(vec)\n",
    "    cells[icell] = m\n",
    "    pass\n",
    "\n",
    "meshFVecPart1Exploded = mc.MEDCouplingUMesh.MergeUMeshes(cells)\n",
    "fPart1.setMesh(meshFVecPart1Exploded)\n",
    "fPart1.writeVTK(\"ExoField_fPart1_explo.vtu\")"
   ]
  },
  {
   "cell_type": "markdown",
   "id": "36",
   "metadata": {},
   "source": [
    "And here's what should be obtained:\n",
    "\n",
    "<img src=\"FieldDouble3.png\" style=\"width:500px;\">"
   ]
  }
 ],
 "metadata": {
  "kernelspec": {
   "display_name": "Python 3",
   "language": "python",
   "name": "python3"
  },
  "language_info": {
   "codemirror_mode": {
    "name": "ipython",
    "version": 3
   },
   "file_extension": ".py",
   "mimetype": "text/x-python",
   "name": "python",
   "nbconvert_exporter": "python",
   "pygments_lexer": "ipython3",
   "version": "3.10.12"
  }
 },
 "nbformat": 4,
 "nbformat_minor": 5
}
